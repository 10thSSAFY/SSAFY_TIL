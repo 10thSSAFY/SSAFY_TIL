{
 "cells": [
  {
   "cell_type": "code",
   "execution_count": 6,
   "id": "f579d21d",
   "metadata": {},
   "outputs": [
    {
     "name": "stdout",
     "output_type": "stream",
     "text": [
      "-1\n"
     ]
    }
   ],
   "source": [
    "# t안에서 p가 존재하면 위치를 return, 못찾으면 -1 return\n",
    "\n",
    "def brute(t, p):\n",
    "    N = len(t)\n",
    "    M = len(p)\n",
    "    \n",
    "    tp = 0  # text의 시작 위치\n",
    "    pp = 0  # patt의 시작 위치\n",
    "    \n",
    "    while tp < N and pp < M:\n",
    "        if t[tp] != p[pp]:\n",
    "            tp = tp - pp + 1  # tp 위치 원상복구 후 +1\n",
    "            pp = 0            # pp 위치를 다시 처음으로\n",
    "        else:\n",
    "            tp += 1\n",
    "            pp += 1\n",
    "        \n",
    "    if pp == M:          # while문의 탈출 조건이 pp<M 인 경우로 패턴을 모두 만족시키는 상황\n",
    "        return tp - pp  # tp - pp로 위치 찾기\n",
    "    else:\n",
    "        return - 1\n",
    "    \n",
    "text = 'TTTTAACA'\n",
    "patt = 'TTAZ'\n",
    "print(brute(text, patt))"
   ]
  },
  {
   "cell_type": "code",
   "execution_count": 7,
   "id": "e6f40ada",
   "metadata": {},
   "outputs": [
    {
     "name": "stdout",
     "output_type": "stream",
     "text": [
      "-1\n"
     ]
    }
   ],
   "source": [
    "# t안에서 p가 존재하면 위치를 return, 못찾으면 -1 return\n",
    "\n",
    "def brute(t, p):\n",
    "    N = len(t)\n",
    "    M = len(p)\n",
    "    \n",
    "    tp = 0  # text의 시작 위치\n",
    "    pp = 0  # patt의 시작 위치\n",
    "    \n",
    "    while tp < N and pp < M:\n",
    "        if t[tp] != p[pp]:\n",
    "            tp = tp - pp  # tp 위치 원상복구 후 +1\n",
    "            pp = -1       # pp 위치를 다시 처음으로\n",
    "        tp += 1\n",
    "        pp += 1\n",
    "        \n",
    "    if pp == M:          # while문의 탈출 조건이 pp<M 인 경우로 패턴을 모두 만족시키는 상황\n",
    "        return tp - pp  # tp - pp로 위치 찾기\n",
    "    else:\n",
    "        return - 1 \n",
    "    \n",
    "text = 'TTTTAACA'\n",
    "patt = 'TTAZ'\n",
    "print(brute(text, patt))"
   ]
  }
 ],
 "metadata": {
  "kernelspec": {
   "display_name": "Python 3 (ipykernel)",
   "language": "python",
   "name": "python3"
  },
  "language_info": {
   "codemirror_mode": {
    "name": "ipython",
    "version": 3
   },
   "file_extension": ".py",
   "mimetype": "text/x-python",
   "name": "python",
   "nbconvert_exporter": "python",
   "pygments_lexer": "ipython3",
   "version": "3.9.13"
  }
 },
 "nbformat": 4,
 "nbformat_minor": 5
}
