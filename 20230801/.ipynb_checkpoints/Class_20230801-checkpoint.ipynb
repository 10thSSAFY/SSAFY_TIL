{
 "cells": [
  {
   "cell_type": "markdown",
   "id": "413c8692",
   "metadata": {},
   "source": [
    "# 카운팅 정렬"
   ]
  },
  {
   "cell_type": "markdown",
   "id": "88ef2a04",
   "metadata": {},
   "source": [
    "- 항목들의 순서를 결정하기 위해 집합에 각 항목이 몇 개씩 있는지 세는 작업을 하여, 선형 시간에 정렬하는 효율적인 알고리즘"
   ]
  },
  {
   "cell_type": "markdown",
   "id": "35e30b4c",
   "metadata": {},
   "source": [
    "- [0, 4, 1, 3, 1, 2, 4, 1]을 카운팅 정렬하는 과정\n",
    "- 1단계\n",
    "    - Data에서 각 항목들의 발생 회수를 세고, 정수 항목들로 직접 인덱스 되는 카운트 배열 counts에 저장한다."
   ]
  },
  {
   "cell_type": "code",
   "execution_count": 1,
   "id": "cde4998b",
   "metadata": {},
   "outputs": [],
   "source": [
    "data = [0, 4, 1, 3, 1, 2, 4, 1]"
   ]
  },
  {
   "cell_type": "code",
   "execution_count": 2,
   "id": "6c52f4c6",
   "metadata": {},
   "outputs": [
    {
     "name": "stdout",
     "output_type": "stream",
     "text": [
      "[0, 0, 0, 0, 0]\n"
     ]
    }
   ],
   "source": [
    "counts = [0] * (max(data) + 1)\n",
    "print(counts)"
   ]
  },
  {
   "cell_type": "code",
   "execution_count": 3,
   "id": "f6730ebe",
   "metadata": {},
   "outputs": [
    {
     "name": "stdout",
     "output_type": "stream",
     "text": [
      "[1, 3, 1, 1, 2]\n"
     ]
    }
   ],
   "source": [
    "for idx in data:\n",
    "    counts[idx] += 1\n",
    "\n",
    "print(counts)"
   ]
  },
  {
   "cell_type": "code",
   "execution_count": 4,
   "id": "b78f44b8",
   "metadata": {},
   "outputs": [
    {
     "name": "stdout",
     "output_type": "stream",
     "text": [
      "[1, 4, 5, 6, 8]\n"
     ]
    }
   ],
   "source": [
    "for s in range(1, len(counts)):\n",
    "    counts[s] += counts[s-1]\n",
    "    \n",
    "print(counts)"
   ]
  },
  {
   "cell_type": "code",
   "execution_count": 5,
   "id": "17aea54e",
   "metadata": {
    "scrolled": true
   },
   "outputs": [
    {
     "name": "stdout",
     "output_type": "stream",
     "text": [
      "[0, 0, 0, 0, 0, 0, 0, 0]\n"
     ]
    }
   ],
   "source": [
    "temp = [0] * counts[-1]\n",
    "print(temp)"
   ]
  },
  {
   "cell_type": "code",
   "execution_count": 6,
   "id": "2fb713b6",
   "metadata": {},
   "outputs": [
    {
     "name": "stdout",
     "output_type": "stream",
     "text": [
      "\tdata = [0, 4, 1, 3, 1, 2, 4]\n",
      "\ttemp = [0, 0, 0, 1, 0, 0, 0, 0]\n",
      "\n",
      "\tdata = [0, 4, 1, 3, 1, 2]\n",
      "\ttemp = [0, 0, 0, 1, 0, 0, 0, 4]\n",
      "\n",
      "\tdata = [0, 4, 1, 3, 1]\n",
      "\ttemp = [0, 0, 0, 1, 2, 0, 0, 4]\n",
      "\n",
      "\tdata = [0, 4, 1, 3]\n",
      "\ttemp = [0, 0, 1, 1, 2, 0, 0, 4]\n",
      "\n",
      "\tdata = [0, 4, 1]\n",
      "\ttemp = [0, 0, 1, 1, 2, 3, 0, 4]\n",
      "\n",
      "\tdata = [0, 4]\n",
      "\ttemp = [0, 1, 1, 1, 2, 3, 0, 4]\n",
      "\n",
      "\tdata = [0]\n",
      "\ttemp = [0, 1, 1, 1, 2, 3, 4, 4]\n",
      "\n",
      "\tdata = []\n",
      "\ttemp = [0, 1, 1, 1, 2, 3, 4, 4]\n",
      "\n",
      "result : [0, 1, 1, 1, 2, 3, 4, 4]\n"
     ]
    }
   ],
   "source": [
    "for _ in range(len(data)):\n",
    "    idx = data.pop()\n",
    "    temp_idx = counts[idx] - 1\n",
    "    temp[temp_idx] = idx\n",
    "\n",
    "    counts[idx] -= 1\n",
    "    print(f'\\tdata = {data}')\n",
    "    print(f'\\ttemp = {temp}\\n')\n",
    "    \n",
    "print(f'result : {temp}')"
   ]
  },
  {
   "cell_type": "markdown",
   "id": "dc579d58",
   "metadata": {},
   "source": [
    "## 카운팅 정렬 알고리즘\n",
    "```\n",
    "def Counting_sort(A, B, k)\n",
    "# A [] -- 입력 배열 (0 to k)\n",
    "# B [] -- 정렬된 배열.\n",
    "# C [] -- 카운트 배열.\n",
    "\n",
    "    C = [0] * (k+1)\n",
    "    \n",
    "    for i in range(0, len(A)) :\n",
    "        C[A[i]] += 1\n",
    "        \n",
    "    for i in range(1, len(C)):\n",
    "        C[i] += C[i-1]\n",
    "        \n",
    "    for i in range(len(B)-1, -1, -1):\n",
    "        C[A[i]] -= 1\n",
    "        B[C[A[i]]] = A[i]\n",
    "```"
   ]
  },
  {
   "cell_type": "markdown",
   "id": "4dc68e7a",
   "metadata": {},
   "source": [
    "# Baby-gin Game"
   ]
  },
  {
   "cell_type": "code",
   "execution_count": null,
   "id": "521e2ff1",
   "metadata": {},
   "outputs": [],
   "source": []
  },
  {
   "cell_type": "code",
   "execution_count": null,
   "id": "a241e68d",
   "metadata": {},
   "outputs": [],
   "source": []
  },
  {
   "cell_type": "markdown",
   "id": "225d32ca",
   "metadata": {},
   "source": [
    "___\n",
    "# 수업시간"
   ]
  },
  {
   "cell_type": "code",
   "execution_count": 11,
   "id": "60a67380",
   "metadata": {},
   "outputs": [
    {
     "name": "stdout",
     "output_type": "stream",
     "text": [
      "55 21 11 67 100 12\n",
      "[55, 21, 11, 67, 100, 12]\n",
      "[11, 12, 21, 55, 67, 100]\n"
     ]
    }
   ],
   "source": [
    "def bubble_sort():\n",
    "    pass\n",
    "\n",
    "# 55 21 11 67 100 12\n",
    "\n",
    "T = 1\n",
    "for tc in range(1, T+1):\n",
    "    nums = list(map(int, input().split()))\n",
    "    print(nums)\n",
    "    \n",
    "    N = len(nums)\n",
    "    for phase in range(N-1, 0, -1):\n",
    "        # N이 6이라면, phase: 5.\n",
    "        # 0-1, 1-2, 2-3, 3-4, 4-5\n",
    "        # phase: 4\n",
    "        # 0-1, 1-2, 2-3, 3-4\n",
    "        for j in range(0, phase):\n",
    "            if nums[j] > nums[j+1]:\n",
    "                nums[j], nums[j+1] = nums[j+1], nums[j]\n",
    "    \n",
    "    print(nums)"
   ]
  },
  {
   "cell_type": "code",
   "execution_count": 13,
   "id": "f1f00837",
   "metadata": {},
   "outputs": [
    {
     "name": "stdout",
     "output_type": "stream",
     "text": [
      "55 21 11 67 100 12\n",
      "[55, 21, 11, 67, 100, 12]\n",
      "[100, 67, 55, 21, 12, 11]\n"
     ]
    }
   ],
   "source": [
    "def bubble_sort():\n",
    "    pass\n",
    "\n",
    "# 55 21 11 67 100 12\n",
    "\n",
    "T = 1\n",
    "for tc in range(1, T+1):\n",
    "    nums = list(map(int, input().split()))\n",
    "    print(nums)\n",
    "    \n",
    "    N = len(nums)\n",
    "    for phase in range(N-1):\n",
    "        # phase가 0일때: N-1 - N-2 ... 1-0: N-1 ~ 1\n",
    "        # 1일때: N-1 - N-2 ... 2-1: N-1 ~ 2\n",
    "        for j in range(N-1, phase, -1):\n",
    "            if nums[j] < nums[j-1]:\n",
    "                nums[j], nums[j-1] = nums[j-1], nums[j]\n",
    "    \n",
    "    print(nums)"
   ]
  },
  {
   "cell_type": "code",
   "execution_count": null,
   "id": "e366b54e",
   "metadata": {},
   "outputs": [],
   "source": []
  }
 ],
 "metadata": {
  "kernelspec": {
   "display_name": "Python 3 (ipykernel)",
   "language": "python",
   "name": "python3"
  },
  "language_info": {
   "codemirror_mode": {
    "name": "ipython",
    "version": 3
   },
   "file_extension": ".py",
   "mimetype": "text/x-python",
   "name": "python",
   "nbconvert_exporter": "python",
   "pygments_lexer": "ipython3",
   "version": "3.9.13"
  }
 },
 "nbformat": 4,
 "nbformat_minor": 5
}
