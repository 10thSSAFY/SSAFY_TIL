{
 "cells": [
  {
   "cell_type": "code",
   "execution_count": 1,
   "id": "0accc508",
   "metadata": {},
   "outputs": [],
   "source": [
    "N = 13\n",
    "s = '1 2 1 3 2 4 3 5 3 6 4 7 5 8 5 9 6 10 6 11 7 12 11 13'"
   ]
  },
  {
   "cell_type": "code",
   "execution_count": 5,
   "id": "772cf9d1",
   "metadata": {},
   "outputs": [
    {
     "name": "stdout",
     "output_type": "stream",
     "text": [
      "[[], [2, 3], [4], [5, 6], [7], [8, 9], [10, 11], [12], [], [], [], [13], [], []]\n"
     ]
    }
   ],
   "source": [
    "lst = list(map(int, s.split()))\n",
    "G = [[] for _ in range(N+1)]\n",
    "\n",
    "\n",
    "for i in range(0, len(lst), 2):\n",
    "    p = lst[i]\n",
    "    c = lst[i+1]\n",
    "    G[p].append(c)\n",
    "\n",
    "print(G)"
   ]
  },
  {
   "cell_type": "code",
   "execution_count": 7,
   "id": "67974519",
   "metadata": {},
   "outputs": [
    {
     "name": "stdout",
     "output_type": "stream",
     "text": [
      "[[0, 0], [2, 3], [4, 0], [5, 6], [7, 0], [8, 9], [10, 11], [12, 0], [0, 0], [0, 0], [0, 0], [13, 0], [0, 0], [0, 0]]\n"
     ]
    }
   ],
   "source": [
    "lst = list(map(int, s.split()))\n",
    "G = [[] for _ in range(N+1)]\n",
    "\n",
    "TREE = [[0,0] for _ in range(N+1)]\n",
    "for i in range(0, len(lst), 2):\n",
    "    p = lst[i]\n",
    "    c = lst[i+1]\n",
    "    if TREE[p][0] == 0:  #왼쪽이 비어 있으면\n",
    "        TREE[p][0] = c\n",
    "    else:\n",
    "        TREE[p][1] = c\n",
    "print(TREE)\n",
    "\n",
    "#=========================\n",
    "for i in range(0, len(lst), 2):\n",
    "    p = lst[i]\n",
    "    c = lst[i+1]\n",
    "    G[p].append(c)\n",
    "\n",
    "# print(G)"
   ]
  },
  {
   "cell_type": "code",
   "execution_count": 8,
   "id": "16923575",
   "metadata": {},
   "outputs": [
    {
     "name": "stdout",
     "output_type": "stream",
     "text": [
      "[0, 2, 4, 5, 7, 8, 10, 12, 0, 0, 0, 13, 0, 0]\n",
      "[0, 3, 0, 6, 0, 9, 11, 0, 0, 0, 0, 0, 0, 0]\n"
     ]
    }
   ],
   "source": [
    "lst = list(map(int, s.split()))\n",
    "G = [[] for _ in range(N+1)]\n",
    "\n",
    "cl = [0] * (N+1)\n",
    "cr = [0] * (N+1)\n",
    "for i in range(0, len(lst), 2):\n",
    "    p = lst[i]\n",
    "    c = lst[i+1]\n",
    "    if cl[p] == 0:\n",
    "        cl[p] = c\n",
    "    else:\n",
    "        cr[p] = c\n",
    "\n",
    "print(cl)\n",
    "print(cr)"
   ]
  },
  {
   "cell_type": "code",
   "execution_count": 9,
   "id": "c3c41ab4",
   "metadata": {},
   "outputs": [
    {
     "name": "stdout",
     "output_type": "stream",
     "text": [
      "[0, 0, 1, 1, 2, 3, 3, 4, 5, 5, 6, 6, 7, 11]\n",
      "[0, 2, 4, 5, 7, 8, 10, 12, 0, 0, 0, 13, 0, 0]\n",
      "[0, 3, 0, 6, 0, 9, 11, 0, 0, 0, 0, 0, 0, 0]\n"
     ]
    }
   ],
   "source": [
    "lst = list(map(int, s.split()))\n",
    "G = [[] for _ in range(N+1)]\n",
    "\n",
    "cl = [0] * (N+1)\n",
    "cr = [0] * (N+1)\n",
    "pn = [0] * (N+1)\n",
    "for i in range(0, len(lst), 2):\n",
    "    p = lst[i]\n",
    "    c = lst[i+1]\n",
    "    pn[c] = p\n",
    "    if cl[p] == 0:\n",
    "        cl[p] = c\n",
    "    else:\n",
    "        cr[p] = c\n",
    "\n",
    "print(pn)\n",
    "print(cl)\n",
    "print(cr)\n",
    "# [0, 0, 1, 1, 2, 3, 3, 4, 5, 5, 6, 6, 7, 11] 6번 인덱스로부터 부모 찾기\n",
    "# 6 -> 3 -> 1 -> 끝"
   ]
  },
  {
   "cell_type": "code",
   "execution_count": 12,
   "id": "32b630d1",
   "metadata": {},
   "outputs": [
    {
     "name": "stdout",
     "output_type": "stream",
     "text": [
      "[[0, 0, 0], [2, 3, 0], [4, 0, 1], [5, 6, 1], [7, 0, 2], [8, 9, 3], [10, 11, 3], [12, 0, 4], [0, 0, 5], [0, 0, 5], [0, 0, 6], [13, 0, 6], [0, 0, 7], [0, 0, 11]]\n",
      "[0, 0, 1, 1, 2, 3, 3, 4, 5, 5, 6, 6, 7, 11]\n",
      "[0, 2, 4, 5, 7, 8, 10, 12, 0, 0, 0, 13, 0, 0]\n",
      "[0, 3, 0, 6, 0, 9, 11, 0, 0, 0, 0, 0, 0, 0]\n"
     ]
    }
   ],
   "source": [
    "lst = list(map(int, s.split()))\n",
    "G = [[] for _ in range(N+1)]\n",
    "\n",
    "cl = [0] * (N+1)\n",
    "cr = [0] * (N+1)\n",
    "pn = [0] * (N+1)\n",
    "for i in range(0, len(lst), 2):\n",
    "    p = lst[i]\n",
    "    c = lst[i+1]\n",
    "    pn[c] = p\n",
    "    if cl[p] == 0:\n",
    "        cl[p] = c\n",
    "    else:\n",
    "        cr[p] = c\n",
    "        \n",
    "TREE = [[0,0,0] for _ in range(N+1)]\n",
    "for i in range(0, len(lst), 2):\n",
    "    p = lst[i]\n",
    "    c = lst[i+1]\n",
    "    if TREE[p][0] == 0:  #왼쪽이 비어 있으면\n",
    "        TREE[p][0] = c\n",
    "    else:\n",
    "        TREE[p][1] = c\n",
    "\n",
    "    TREE[c][2] = p\n",
    "print(TREE)\n",
    "\n",
    "print(pn)\n",
    "print(cl)\n",
    "print(cr)\n",
    "# [0, 0, 1, 1, 2, 3, 3, 4, 5, 5, 6, 6, 7, 11] 6번 인덱스로부터 부모 찾기\n",
    "# 6 -> 3 -> 1 -> 끝"
   ]
  },
  {
   "cell_type": "code",
   "execution_count": 13,
   "id": "45d38926",
   "metadata": {},
   "outputs": [
    {
     "name": "stdout",
     "output_type": "stream",
     "text": [
      "12\n",
      "7\n",
      "4\n",
      "2\n",
      "1\n",
      "8\n",
      "5\n",
      "9\n",
      "3\n",
      "10\n",
      "6\n",
      "13\n",
      "11\n"
     ]
    }
   ],
   "source": [
    "def pre_order(root):\n",
    "    if root:\n",
    "        print(root)\n",
    "        pre_order(TREE[root][0])\n",
    "        pre_order(TREE[root][1])\n",
    "        \n",
    "\n",
    "    \n",
    "def print_tree(root):\n",
    "    if cl[root]:  # 왼쪽이 tree이면:\n",
    "        print_tree(cl[root])  # root의 왼쪽서브트리의 root)\n",
    "    print(root)\n",
    "    \n",
    "    if cr[root]:  #오른쪽이 tree이면:\n",
    "        print_tree(cr[root])  # root의 오른쪽 서브트리의 root\n",
    "        \n",
    "def print_tree2(root):\n",
    "    if root:\n",
    "        print_tree(왼쪽)\n",
    "        print(root)\n",
    "        print_tree(오른쪽)\n",
    "    \n",
    "lst = list(map(int, s.split()))\n",
    "G = [[] for _ in range(N+1)]\n",
    "\n",
    "\n",
    "for i in range(0, len(lst), 2):\n",
    "    p = lst[i]\n",
    "    c = lst[i+1]\n",
    "    G[p].append(c)\n",
    "\n",
    "print(G)\n",
    "\n",
    "\n",
    "# cl = [0] * (N+1)\n",
    "# cr = [0] * (N+1)\n",
    "# pn = [0] * (N+1)\n",
    "for i in range(0, len(lst), 2):\n",
    "    p = lst[i]\n",
    "    c = lst[i+1]\n",
    "    pn[c] = p\n",
    "    if cl[p] == 0:\n",
    "        cl[p] = c\n",
    "    else:\n",
    "        cr[p] = c\n",
    "\n",
    "print_tree(1)\n",
    "#print(pn)\n",
    "#print(cl)\n",
    "#print(cr)\n",
    "# [0, 0, 1, 1, 2, 3, 3, 4, 5, 5, 6, 6, 7, 11] 6번 인덱스로부터 부모 찾기\n",
    "# 6 -> 3 -> 1 -> 끝"
   ]
  },
  {
   "cell_type": "code",
   "execution_count": 15,
   "id": "799eebd7",
   "metadata": {},
   "outputs": [
    {
     "name": "stdout",
     "output_type": "stream",
     "text": [
      "[[], [2, 3], [4], [5, 6], [7], [8, 9], [10, 11], [12], [], [], [], [13], [], []]\n",
      "12\n",
      "7\n",
      "4\n",
      "2\n",
      "8\n",
      "9\n",
      "5\n",
      "10\n",
      "13\n",
      "11\n",
      "6\n",
      "3\n",
      "1\n"
     ]
    }
   ],
   "source": [
    "def post_order(root):\n",
    "    if len(G[root]) >= 1:\n",
    "        post_order(G[root][0])\n",
    "    if len(G[root]) >= 2:\n",
    "        post_order(G[root][1])\n",
    "    print(root)\n",
    "    \n",
    "    \n",
    "lst = list(map(int, s.split()))\n",
    "G = [[] for _ in range(N+1)]\n",
    "\n",
    "for i in range(0, len(lst), 2):\n",
    "    p = lst[i]\n",
    "    c = lst[i+1]\n",
    "    G[p].append(c)\n",
    "\n",
    "print(G)\n",
    "postorder(1)"
   ]
  }
 ],
 "metadata": {
  "kernelspec": {
   "display_name": "Python 3 (ipykernel)",
   "language": "python",
   "name": "python3"
  },
  "language_info": {
   "codemirror_mode": {
    "name": "ipython",
    "version": 3
   },
   "file_extension": ".py",
   "mimetype": "text/x-python",
   "name": "python",
   "nbconvert_exporter": "python",
   "pygments_lexer": "ipython3",
   "version": "3.9.13"
  }
 },
 "nbformat": 4,
 "nbformat_minor": 5
}
