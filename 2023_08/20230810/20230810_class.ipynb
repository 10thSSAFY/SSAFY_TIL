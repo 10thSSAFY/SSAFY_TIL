{
 "cells": [
  {
   "cell_type": "markdown",
   "id": "464d3c60",
   "metadata": {},
   "source": [
    "## DFS 실습\n",
    "### 단순히 지나온 경로만 볼때"
   ]
  },
  {
   "cell_type": "code",
   "execution_count": 1,
   "id": "5a59d2fd",
   "metadata": {},
   "outputs": [],
   "source": [
    "N = 7\n",
    "S = '1, 2, 1, 3, 2, 4, 2, 5, 4, 6, 5, 6, 6, 7, 3, 7'"
   ]
  },
  {
   "cell_type": "code",
   "execution_count": 2,
   "id": "90e03091",
   "metadata": {},
   "outputs": [],
   "source": [
    "lst = list(map(int, S.split(', ')))\n",
    "print(lst)"
   ]
  },
  {
   "cell_type": "code",
   "execution_count": 3,
   "id": "3ddd7eec",
   "metadata": {},
   "outputs": [],
   "source": [
    "# G = [] * (N+1)  # 안됩니다.\n",
    "G = [[] for _ in range(N+1)]\n",
    "for idx in range(0, len(lst), 2):\n",
    "    v1 = lst[idx]\n",
    "    v2 = lst[idx+1]\n",
    "    G[v1].append(v2)\n",
    "    G[v2].append(v1)\n",
    "print(G)"
   ]
  },
  {
   "cell_type": "code",
   "execution_count": 4,
   "id": "7ebb2bd7",
   "metadata": {},
   "outputs": [],
   "source": [
    "# G = [[],[2, 3], [1, 4, 5], [1, 7], [2, 6], [2, 6], [4, 5, 7], [3, 6]]"
   ]
  },
  {
   "cell_type": "code",
   "execution_count": 5,
   "id": "1e82c3ba",
   "metadata": {},
   "outputs": [],
   "source": [
    "def dfs(s):\n",
    "    ST = []\n",
    "    visited = [False] * (N+1)\n",
    "    ST.append(s)\n",
    "    while ST:\n",
    "        v = ST.pop()\n",
    "        if not visited[v]:\n",
    "            print(v)\n",
    "            visited[v] = True\n",
    "        for w in G[v]:\n",
    "            if not visited[w]:\n",
    "                ST.append(w)"
   ]
  },
  {
   "cell_type": "code",
   "execution_count": 6,
   "id": "3e584b8d",
   "metadata": {},
   "outputs": [],
   "source": [
    "dfs(1)"
   ]
  },
  {
   "cell_type": "code",
   "execution_count": 7,
   "id": "7bb98414",
   "metadata": {},
   "outputs": [],
   "source": [
    "# dfs 함수를 밖으로 빼면서, visited의 False 리스트를 미리 만들어 놓은 다음 append 할때 방문경로를 True로 만든다. \n",
    "\n",
    "def dfs(s):\n",
    "    ST = []\n",
    "    visited = [False] * (N+1)\n",
    "    ST.append(s)\n",
    "    visited[s] = True\n",
    "    while ST:\n",
    "        v = ST.pop()\n",
    "        print(v)\n",
    "        for w in G[v]:\n",
    "            if not visited[w]:\n",
    "                ST.append(w)\n",
    "                visited[w] = True\n",
    "dfs(1)"
   ]
  },
  {
   "cell_type": "code",
   "execution_count": 8,
   "id": "fd4089cf",
   "metadata": {},
   "outputs": [],
   "source": [
    "def dfs(s):\n",
    "    ST = []\n",
    "    visited = [False] * (N+1)\n",
    "    ST.append(s)\n",
    "    visited[s] = True\n",
    "    print(s)\n",
    "    while ST:\n",
    "        v = ST.pop()\n",
    "        #print(v)\n",
    "        for w in G[v]:\n",
    "            if not visited[w]:\n",
    "                ST.append(w)\n",
    "                visited[w] = True\n",
    "                print(w)\n",
    "dfs(1)"
   ]
  },
  {
   "cell_type": "code",
   "execution_count": 9,
   "id": "b829ee94",
   "metadata": {},
   "outputs": [],
   "source": [
    "visited = [False] * (N+1)\n",
    "def dfs(v):\n",
    "    print(v)\n",
    "    visited[v] = True\n",
    "    for w in G[v]:\n",
    "        if not visited[w]:\n",
    "            dfs(w)\n",
    "dfs(1)"
   ]
  }
 ],
 "metadata": {
  "kernelspec": {
   "display_name": "Python 3 (ipykernel)",
   "language": "python",
   "name": "python3"
  },
  "language_info": {
   "codemirror_mode": {
    "name": "ipython",
    "version": 3
   },
   "file_extension": ".py",
   "mimetype": "text/x-python",
   "name": "python",
   "nbconvert_exporter": "python",
   "pygments_lexer": "ipython3",
   "version": "3.9.13"
  }
 },
 "nbformat": 4,
 "nbformat_minor": 5
}
