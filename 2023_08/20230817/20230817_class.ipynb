{
 "cells": [
  {
   "cell_type": "code",
   "execution_count": 7,
   "id": "3edfddea",
   "metadata": {},
   "outputs": [
    {
     "name": "stdout",
     "output_type": "stream",
     "text": [
      "[0, 1, 2, 3, 4, 5]\n",
      "[1, 1, 1, 1, 1, 1]\n"
     ]
    }
   ],
   "source": [
    "total = 20\n",
    "\n",
    "def give(k):\n",
    "    global total\n",
    "    total -= num[k]\n",
    "    print(f'{k}가 {num[k]}개 받아감')\n",
    "    num[k] += 1\n",
    "    print(total)\n",
    "    \n",
    "\n",
    "N = 5\n",
    "line = [i for i in range(0, N+1)]\n",
    "num = [1] * (N+1)\n",
    "while total:\n",
    "    break\n",
    "print(line)\n",
    "print(num)\n",
    "\n"
   ]
  },
  {
   "cell_type": "code",
   "execution_count": 12,
   "id": "ffbf6ef0",
   "metadata": {},
   "outputs": [
    {
     "name": "stdout",
     "output_type": "stream",
     "text": [
      "[]\n",
      "1가 1 받아감\n",
      "[(1, 2)]\n",
      "1가 2 받아감\n",
      "[(2, 1), (1, 3)]\n",
      "2가 1 받아감\n",
      "[(1, 3), (3, 1), (2, 2)]\n",
      "1가 3 받아감\n",
      "[(3, 1), (2, 2), (4, 1), (1, 4)]\n",
      "3가 1 받아감\n",
      "[(2, 2), (4, 1), (1, 4), (5, 1), (3, 2)]\n",
      "2가 2 받아감\n",
      "[(4, 1), (1, 4), (5, 1), (3, 2), (6, 1), (2, 3)]\n",
      "4가 1 받아감\n",
      "[(1, 4), (5, 1), (3, 2), (6, 1), (2, 3), (7, 1), (4, 2)]\n",
      "1가 4 받아감\n",
      "[(5, 1), (3, 2), (6, 1), (2, 3), (7, 1), (4, 2), (8, 1), (1, 5)]\n",
      "5가 1 받아감\n",
      "[(3, 2), (6, 1), (2, 3), (7, 1), (4, 2), (8, 1), (1, 5), (9, 1), (5, 2)]\n",
      "3가 2 받아감\n",
      "[(6, 1), (2, 3), (7, 1), (4, 2), (8, 1), (1, 5), (9, 1), (5, 2), (10, 1), (3, 3)]\n",
      "6가 1 받아감\n",
      "[(2, 3), (7, 1), (4, 2), (8, 1), (1, 5), (9, 1), (5, 2), (10, 1), (3, 3), (11, 1), (6, 2)]\n",
      "2가 3 받아감\n",
      "2 가 마지막\n"
     ]
    }
   ],
   "source": [
    "total = 20\n",
    "Q = []\n",
    "newH = 1\n",
    "sumV = 0\n",
    "while sumV < total:\n",
    "    print(Q)\n",
    "    # 처음 줄 서는 사람\n",
    "    Q.append((newH, 1))\n",
    "    newH += 1\n",
    "    # 받아가는 사람\n",
    "    h, candy = Q.pop(0)\n",
    "    print(f'{h}가 {candy} 받아감')\n",
    "    sumV += candy\n",
    "    # 받은 사람이 다시 줄서기\n",
    "    Q.append((h, candy+1))\n",
    "    \n",
    "print(f'{h} 가 마지막')"
   ]
  }
 ],
 "metadata": {
  "kernelspec": {
   "display_name": "Python 3 (ipykernel)",
   "language": "python",
   "name": "python3"
  },
  "language_info": {
   "codemirror_mode": {
    "name": "ipython",
    "version": 3
   },
   "file_extension": ".py",
   "mimetype": "text/x-python",
   "name": "python",
   "nbconvert_exporter": "python",
   "pygments_lexer": "ipython3",
   "version": "3.9.13"
  }
 },
 "nbformat": 4,
 "nbformat_minor": 5
}
