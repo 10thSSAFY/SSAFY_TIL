{
 "cells": [
  {
   "cell_type": "markdown",
   "id": "c834a049",
   "metadata": {},
   "source": [
    "### 비트 연산 예제2"
   ]
  },
  {
   "cell_type": "code",
   "execution_count": 3,
   "id": "5d2b0469",
   "metadata": {},
   "outputs": [
    {
     "name": "stdout",
     "output_type": "stream",
     "text": [
      "16 = 00010000 \n",
      "01020304 = 00000100 00000011 00000010 00000001 "
     ]
    }
   ],
   "source": [
    "def Bbit_print(i):\n",
    "    output = ''\n",
    "    for j in range(7, -1, -1):\n",
    "        output += '1' if i & (1 << j) else '0'\n",
    "    print(output, end=' ')\n",
    "a = 0x10\n",
    "x = 0x01020304\n",
    "print('%d = ' % a, end='')\n",
    "Bbit_print(a)\n",
    "print()\n",
    "print('0%X = ' % x, end='')\n",
    "for i in range(0, 4):\n",
    "    Bbit_print((x >> i*8) & 0xff)"
   ]
  },
  {
   "cell_type": "markdown",
   "id": "1b932545",
   "metadata": {},
   "source": [
    "### 엔디안 확인 코드"
   ]
  },
  {
   "cell_type": "code",
   "execution_count": 4,
   "id": "237872a4",
   "metadata": {},
   "outputs": [
    {
     "name": "stdout",
     "output_type": "stream",
     "text": [
      "little\n"
     ]
    }
   ],
   "source": [
    "import sys\n",
    "print(sys.byteorder)"
   ]
  },
  {
   "cell_type": "markdown",
   "id": "53ef2032",
   "metadata": {},
   "source": [
    "### 비트 연산 예제 3"
   ]
  },
  {
   "cell_type": "code",
   "execution_count": 6,
   "id": "fec1095c",
   "metadata": {},
   "outputs": [
    {
     "name": "stdout",
     "output_type": "stream",
     "text": [
      "x = 4321\n",
      "x = 1234\n"
     ]
    }
   ],
   "source": [
    "def ce(n):  # change endian\n",
    "    p = []\n",
    "    for i in range(0, 4):\n",
    "        p.append((n >> (24 - i*8)) & 0xff)\n",
    "    return p\n",
    "\n",
    "x = 0x01020304\n",
    "p = []\n",
    "for i in range(0, 4):\n",
    "    p.append((x >> (i*8)) & 0xff)\n",
    "    \n",
    "print('x = %d%d%d%d' %(p[0], p[1], p[2], p[3]))\n",
    "p = ce(x)\n",
    "print('x = %d%d%d%d' %(p[0], p[1], p[2], p[3]))"
   ]
  },
  {
   "cell_type": "code",
   "execution_count": 8,
   "id": "552fa449",
   "metadata": {},
   "outputs": [
    {
     "name": "stdout",
     "output_type": "stream",
     "text": [
      "x = 04030201\n",
      "x = 01020304\n"
     ]
    }
   ],
   "source": [
    "def ce(n):  # change endian\n",
    "    p = []\n",
    "    for i in range(0, 4):\n",
    "        p.append((n >> (24 - i*8)) & 0xff)\n",
    "    return p\n",
    "\n",
    "x = 0x01020304\n",
    "p = []\n",
    "for i in range(0, 4):\n",
    "    p.append((x >> (i*8)) & 0xff)\n",
    "    \n",
    "print('x = %02x%02x%02x%02x' %(p[0], p[1], p[2], p[3]))\n",
    "p = ce(x)\n",
    "print('x = %02x%02x%02x%02x' %(p[0], p[1], p[2], p[3]))"
   ]
  },
  {
   "cell_type": "markdown",
   "id": "29d26efa",
   "metadata": {},
   "source": [
    "### 비트 연산 예제 4"
   ]
  },
  {
   "cell_type": "code",
   "execution_count": 13,
   "id": "86a2580e",
   "metadata": {},
   "outputs": [
    {
     "name": "stdout",
     "output_type": "stream",
     "text": [
      "0x4030201\n"
     ]
    }
   ],
   "source": [
    "def ce1(n):\n",
    "    return (n << 24 & 0xff000000) | (n << 8 & 0xff0000) |\\\n",
    "            (n >> 8 & 0xff00) | (n >> 24 & 0xff)\n",
    "\n",
    "x = 0x01020304\n",
    "p = []\n",
    "for i in range(0, 4):\n",
    "    p.append((x >> (i*8)) & 0xff)\n",
    "    \n",
    "print(hex(ce1(x)))"
   ]
  },
  {
   "cell_type": "markdown",
   "id": "e83d389a",
   "metadata": {},
   "source": [
    "### 비트 연산 예제 5"
   ]
  },
  {
   "cell_type": "code",
   "execution_count": 18,
   "id": "ae799418",
   "metadata": {},
   "outputs": [
    {
     "name": "stdout",
     "output_type": "stream",
     "text": [
      "a      ==> 10000110\n",
      "a^=key ==> 00101100\n",
      "a^=key ==> 10000110\n"
     ]
    }
   ],
   "source": [
    "def Bbit_print(i):\n",
    "    output = ''\n",
    "    for j in range(7, -1, -1):\n",
    "        output += '1' if i & (1 << j) else '0'\n",
    "    print(output)\n",
    "a = 0x86\n",
    "key = 0xAA\n",
    "\n",
    "print(\"a      ==> \", end='')\n",
    "Bbit_print(a)\n",
    "\n",
    "print(\"a^=key ==> \", end='')\n",
    "a ^= key;\n",
    "Bbit_print(a)\n",
    "\n",
    "print(\"a^=key ==> \", end='')\n",
    "a ^= key;\n",
    "Bbit_print(a)"
   ]
  },
  {
   "cell_type": "markdown",
   "id": "41422854",
   "metadata": {},
   "source": [
    "### 진수 변환 [10진수 -> 타진수]"
   ]
  },
  {
   "cell_type": "code",
   "execution_count": 21,
   "id": "80e12e47",
   "metadata": {},
   "outputs": [
    {
     "name": "stdout",
     "output_type": "stream",
     "text": [
      "10010101\n"
     ]
    }
   ],
   "source": [
    "bit = [0]*8\n",
    "a = 149\n",
    "i = 7\n",
    "while a>=2:\n",
    "    bit[i] = a%2\n",
    "    a //= 2\n",
    "    i -= 1\n",
    "bit[i] = a\n",
    "\n",
    "print(''.join(map(str,bit)))"
   ]
  },
  {
   "cell_type": "code",
   "execution_count": 23,
   "id": "5b210d69",
   "metadata": {},
   "outputs": [
    {
     "name": "stdout",
     "output_type": "stream",
     "text": [
      "10010101\n"
     ]
    }
   ],
   "source": [
    "bit = [0]*8\n",
    "a = 149\n",
    "i = 7\n",
    "while a>0:\n",
    "    bit[i] = a%2\n",
    "    a //= 2\n",
    "    i -= 1\n",
    "\n",
    "print(''.join(map(str,bit)))"
   ]
  },
  {
   "cell_type": "markdown",
   "id": "30b7a63f",
   "metadata": {},
   "source": [
    "### 2의 보수"
   ]
  },
  {
   "cell_type": "code",
   "execution_count": 26,
   "id": "cdb4bf52",
   "metadata": {},
   "outputs": [
    {
     "name": "stdout",
     "output_type": "stream",
     "text": [
      " -5 = 11111011\n",
      " -4 = 11111100\n",
      " -3 = 11111101\n",
      " -2 = 11111110\n",
      " -1 = 11111111\n",
      "  0 = 00000000\n",
      "  1 = 00000001\n",
      "  2 = 00000010\n",
      "  3 = 00000011\n",
      "  4 = 00000100\n",
      "  5 = 00000101\n"
     ]
    }
   ],
   "source": [
    "def Bbit_print(i):\n",
    "    output = ''\n",
    "    for j in range(7, -1, -1):\n",
    "        output += '1' if i & (1 << j) else '0'\n",
    "    print(output)\n",
    "    \n",
    "for i in range(-5, 6):\n",
    "    print('%3d = ' % i, end='')\n",
    "    Bbit_print(i)"
   ]
  },
  {
   "cell_type": "code",
   "execution_count": null,
   "id": "3cca2c11",
   "metadata": {},
   "outputs": [],
   "source": []
  }
 ],
 "metadata": {
  "kernelspec": {
   "display_name": "Python 3 (ipykernel)",
   "language": "python",
   "name": "python3"
  },
  "language_info": {
   "codemirror_mode": {
    "name": "ipython",
    "version": 3
   },
   "file_extension": ".py",
   "mimetype": "text/x-python",
   "name": "python",
   "nbconvert_exporter": "python",
   "pygments_lexer": "ipython3",
   "version": "3.9.13"
  }
 },
 "nbformat": 4,
 "nbformat_minor": 5
}
