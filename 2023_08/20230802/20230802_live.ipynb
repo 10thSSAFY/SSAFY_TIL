{
 "cells": [
  {
   "cell_type": "markdown",
   "id": "519897af",
   "metadata": {},
   "source": [
    "# 2차원 배열"
   ]
  },
  {
   "cell_type": "code",
   "execution_count": 31,
   "id": "2efacfce",
   "metadata": {},
   "outputs": [
    {
     "name": "stdout",
     "output_type": "stream",
     "text": [
      "3\n",
      "0 1 2 3\n",
      "4 5 6 7\n",
      "8 9 10 11\n"
     ]
    }
   ],
   "source": [
    "N = int(input())\n",
    "arr = [list(map(int, input().split())) for _ in range(N)]"
   ]
  },
  {
   "cell_type": "code",
   "execution_count": 32,
   "id": "73de1ee8",
   "metadata": {},
   "outputs": [
    {
     "name": "stdout",
     "output_type": "stream",
     "text": [
      "[[0, 1, 2, 3], [4, 5, 6, 7], [8, 9, 10, 11]]\n"
     ]
    }
   ],
   "source": [
    "print(arr)"
   ]
  },
  {
   "cell_type": "markdown",
   "id": "7b0423f8",
   "metadata": {},
   "source": [
    "## 배열 순회"
   ]
  },
  {
   "cell_type": "markdown",
   "id": "d1d9eb10",
   "metadata": {},
   "source": [
    "## 행 우선 순회\n",
    "```\n",
    "# i 행의 좌표\n",
    "# j 행의 좌표\n",
    "for i in range(n):\n",
    "    for j in range(m):\n",
    "        f(Array[i][j]) # 필요한 연산 수행\n",
    "```"
   ]
  },
  {
   "cell_type": "code",
   "execution_count": 33,
   "id": "779c2a4c",
   "metadata": {},
   "outputs": [
    {
     "name": "stdout",
     "output_type": "stream",
     "text": [
      "0\n",
      "1\n",
      "2\n",
      "3\n",
      "4\n",
      "5\n",
      "6\n",
      "7\n",
      "8\n",
      "9\n",
      "10\n",
      "11\n"
     ]
    }
   ],
   "source": [
    "n, m = 3, 4\n",
    "for i in range(n):\n",
    "    for j in range(m):\n",
    "        print(arr[i][j])"
   ]
  },
  {
   "cell_type": "markdown",
   "id": "273cba3c",
   "metadata": {},
   "source": [
    "## 열 우선 순회\n",
    "```\n",
    "# i 행의 좌표\n",
    "# j 행의 좌표\n",
    "\n",
    "for j in range(m):\n",
    "   for i in range(n):\n",
    "       f(Array[i][j])  # 필요한 연산 수행\n",
    "```"
   ]
  },
  {
   "cell_type": "code",
   "execution_count": 34,
   "id": "1cb3ad68",
   "metadata": {},
   "outputs": [
    {
     "name": "stdout",
     "output_type": "stream",
     "text": [
      "0\n",
      "4\n",
      "8\n",
      "1\n",
      "5\n",
      "9\n",
      "2\n",
      "6\n",
      "10\n",
      "3\n",
      "7\n",
      "11\n"
     ]
    }
   ],
   "source": [
    "n, m = 3, 4\n",
    "for j in range(m):\n",
    "    for i in range(n):\n",
    "        print(arr[i][j])"
   ]
  },
  {
   "cell_type": "markdown",
   "id": "0746b447",
   "metadata": {},
   "source": [
    "## 지그재그 순회\n",
    "```\n",
    "# i 행의 좌표\n",
    "# j 행의 좌표\n",
    "\n",
    "for i in range(n):\n",
    "    for j in ragne(m):\n",
    "        f(Array[i][j + (m-1-2*j) * (i%2)])  # (i%2) = 홀수번일 때 실행\n",
    "        # 필요한 연산 수행\n",
    "```"
   ]
  },
  {
   "cell_type": "code",
   "execution_count": 42,
   "id": "a0cd0a51",
   "metadata": {},
   "outputs": [
    {
     "name": "stdout",
     "output_type": "stream",
     "text": [
      "j = 0, m-1-2*j = 3, i%2 = 0\t===> 0\n",
      "arr[0][0] ===> 0\n",
      "\n",
      "j = 1, m-1-2*j = 1, i%2 = 0\t===> 1\n",
      "arr[0][1] ===> 1\n",
      "\n",
      "j = 2, m-1-2*j = -1, i%2 = 0\t===> 2\n",
      "arr[0][2] ===> 2\n",
      "\n",
      "j = 3, m-1-2*j = -3, i%2 = 0\t===> 3\n",
      "arr[0][3] ===> 3\n",
      "\n",
      "j = 0, m-1-2*j = 3, i%2 = 1\t===> 3\n",
      "arr[1][3] ===> 7\n",
      "\n",
      "j = 1, m-1-2*j = 1, i%2 = 1\t===> 2\n",
      "arr[1][2] ===> 6\n",
      "\n",
      "j = 2, m-1-2*j = -1, i%2 = 1\t===> 1\n",
      "arr[1][1] ===> 5\n",
      "\n",
      "j = 3, m-1-2*j = -3, i%2 = 1\t===> 0\n",
      "arr[1][0] ===> 4\n",
      "\n",
      "j = 0, m-1-2*j = 3, i%2 = 0\t===> 0\n",
      "arr[2][0] ===> 8\n",
      "\n",
      "j = 1, m-1-2*j = 1, i%2 = 0\t===> 1\n",
      "arr[2][1] ===> 9\n",
      "\n",
      "j = 2, m-1-2*j = -1, i%2 = 0\t===> 2\n",
      "arr[2][2] ===> 10\n",
      "\n",
      "j = 3, m-1-2*j = -3, i%2 = 0\t===> 3\n",
      "arr[2][3] ===> 11\n",
      "\n"
     ]
    }
   ],
   "source": [
    "n, m = 3, 4\n",
    "\n",
    "for i in range(n):\n",
    "    for j in range(m):\n",
    "        #print(j + (m-1-2*j) * (i%2))\n",
    "        print(f'j = {j}, m-1-2*j = {m-1-2*j}, i%2 = {i%2}\\t===> {j + (m-1-2*j) * (i%2)}')\n",
    "        print(f'arr[{i}][{j + (m-1-2*j) * (i%2)}] ===> {arr[i][j + (m-1-2*j) * (i%2)]}\\n')"
   ]
  },
  {
   "cell_type": "markdown",
   "id": "04b5baf0",
   "metadata": {},
   "source": [
    "# 배열 실습하기"
   ]
  },
  {
   "cell_type": "markdown",
   "id": "ce40a6d4",
   "metadata": {},
   "source": [
    "```\n",
    "3\n",
    "1 2 3\n",
    "4 5 6\n",
    "7 8 9\n",
    "```"
   ]
  },
  {
   "cell_type": "code",
   "execution_count": 45,
   "id": "e128c48a",
   "metadata": {},
   "outputs": [
    {
     "name": "stdout",
     "output_type": "stream",
     "text": [
      "3\n",
      "1 2 3\n",
      "4 5 6\n",
      "7 8 9\n"
     ]
    }
   ],
   "source": [
    "N = int(input())\n",
    "arr = [list(map(int, input().split())) for _  in range(N)]"
   ]
  },
  {
   "cell_type": "code",
   "execution_count": 46,
   "id": "84c9a713",
   "metadata": {},
   "outputs": [
    {
     "name": "stdout",
     "output_type": "stream",
     "text": [
      "[[1, 2, 3], [4, 5, 6], [7, 8, 9]]\n"
     ]
    }
   ],
   "source": [
    "print(arr)"
   ]
  },
  {
   "cell_type": "code",
   "execution_count": null,
   "id": "c692a89b",
   "metadata": {},
   "outputs": [],
   "source": [
    "N = int(input())\n",
    "arr = [list(map(int, input().split())) for _  in range(N)]\n",
    "\n",
    "max_v = 0  # 모든 원소가 0 이상일 때\n",
    "for i in range(N):  # 모든 원소 arr[i][j]에 대해\n",
    "    for j in range(N):\n",
    "        # arr[i][j] 중심으로\n",
    "        s = arr[i][j]\n",
    "        for di, dj in [[0,1], [1,0], [0,-1], [-1,0]]:\n",
    "            ni, nj = i+di, j+dj\n",
    "            if 0<=ni<N and 0<=nj<N:  # 배열을 벗어나지 않으면\n",
    "                s += arr[ni][nj]\n",
    "        # 여기까지 주변 원소를 포한한 합\n",
    "        if max_v < s:\n",
    "            max_v = s\n"
   ]
  },
  {
   "cell_type": "code",
   "execution_count": null,
   "id": "19dc0ebf",
   "metadata": {},
   "outputs": [],
   "source": [
    "N = int(input())\n",
    "arr = [list(map(int, input().split())) for _  in range(N)]\n",
    "\n",
    "max_v = 0  # 모든 원소가 0 이상일 때\n",
    "for i in range(N):  # 모든 원소 arr[i][j]에 대해\n",
    "    for j in range(N):\n",
    "        # arr[i][j] 중심으로\n",
    "        s = arr[i][j]\n",
    "        for p in range(1, m):\n",
    "            for di, dj in [[0,1], [1,0], [0,-1], [-1,0]]:\n",
    "                ni, nj = i+di, j+dj\n",
    "                if 0<=ni<N and 0<=nj<N:  # 배열을 벗어나지 않으면\n",
    "                    s += arr[ni][nj]\n",
    "        # 여기까지 주변 원소를 포한한 합\n",
    "        if max_v < s:\n",
    "            max_v = s\n"
   ]
  },
  {
   "cell_type": "markdown",
   "id": "09d8d84b",
   "metadata": {},
   "source": [
    "## 전치행렬"
   ]
  },
  {
   "cell_type": "markdown",
   "id": "0111aca2",
   "metadata": {},
   "source": [
    "```\n",
    "# i : 행의 좌표, len(arr)\n",
    "# j : 열의 좌표, len(arr[0])\n",
    "arr = [[1,2,3], [4,5,6], [7,8,9]]  # 3*3 godfuf\n",
    "\n",
    "for i in range(3):\n",
    "    for j in range(3):\n",
    "        if i < j:\n",
    "            arr[i][j], arr[j][i] = arr[j][i], arr[i][j]\n",
    "```"
   ]
  },
  {
   "cell_type": "code",
   "execution_count": 48,
   "id": "39d1c217",
   "metadata": {},
   "outputs": [
    {
     "name": "stdout",
     "output_type": "stream",
     "text": [
      "3\n",
      "1 2 3\n",
      "4 5 6\n",
      "7 8 9\n",
      "total1 = 15, total2 = 15\n"
     ]
    }
   ],
   "source": [
    "# 대각선의 합 실습하기\n",
    "N = int(input())\n",
    "arr = [list(map(int, input().split())) for _ in range(N)]\n",
    "total1 = 0\n",
    "total2 = 0\n",
    "for i in range(N):\n",
    "    total1 += arr[i][i]\n",
    "    total2 += arr[i][N-1-i]\n",
    "\n",
    "print(f'total1 = {total1}, total2 = {total2}')"
   ]
  }
 ],
 "metadata": {
  "kernelspec": {
   "display_name": "Python 3 (ipykernel)",
   "language": "python",
   "name": "python3"
  },
  "language_info": {
   "codemirror_mode": {
    "name": "ipython",
    "version": 3
   },
   "file_extension": ".py",
   "mimetype": "text/x-python",
   "name": "python",
   "nbconvert_exporter": "python",
   "pygments_lexer": "ipython3",
   "version": "3.9.13"
  }
 },
 "nbformat": 4,
 "nbformat_minor": 5
}
