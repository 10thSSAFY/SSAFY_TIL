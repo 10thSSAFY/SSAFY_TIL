{
 "cells": [
  {
   "cell_type": "code",
   "execution_count": 1,
   "id": "de57be43",
   "metadata": {},
   "outputs": [],
   "source": [
    "nums = [[1, 2, 3],\n",
    "        [4, 5, 6],\n",
    "        [7, 8, 9],\n",
    "        [10, 11, 12]]"
   ]
  },
  {
   "cell_type": "code",
   "execution_count": 2,
   "id": "fd8f47cf",
   "metadata": {},
   "outputs": [
    {
     "name": "stdout",
     "output_type": "stream",
     "text": [
      "4\n"
     ]
    }
   ],
   "source": [
    "print(len(nums))"
   ]
  },
  {
   "cell_type": "code",
   "execution_count": 4,
   "id": "3aa6c1d3",
   "metadata": {},
   "outputs": [
    {
     "name": "stdout",
     "output_type": "stream",
     "text": [
      "0 [1, 2, 3]\n",
      "1 [4, 5, 6]\n",
      "2 [7, 8, 9]\n",
      "3 [10, 11, 12]\n"
     ]
    }
   ],
   "source": [
    "for i in range(len(nums)):\n",
    "    print(i, nums[i])"
   ]
  },
  {
   "cell_type": "code",
   "execution_count": 5,
   "id": "48e6b4cb",
   "metadata": {},
   "outputs": [
    {
     "name": "stdout",
     "output_type": "stream",
     "text": [
      "[1, 2, 3]\n",
      "[4, 5, 6]\n",
      "[7, 8, 9]\n",
      "[10, 11, 12]\n"
     ]
    }
   ],
   "source": [
    "for n in nums:\n",
    "    print(n)"
   ]
  },
  {
   "cell_type": "code",
   "execution_count": 6,
   "id": "0e666c30",
   "metadata": {},
   "outputs": [
    {
     "name": "stdout",
     "output_type": "stream",
     "text": [
      "1\n",
      "2\n",
      "3\n",
      "4\n",
      "5\n",
      "6\n",
      "7\n",
      "8\n",
      "9\n",
      "10\n",
      "11\n",
      "12\n"
     ]
    }
   ],
   "source": [
    "N = len(nums)\n",
    "M = len(nums[0])\n",
    "for r in range(N):\n",
    "    for c in range(M):\n",
    "        print(nums[r][c])"
   ]
  },
  {
   "cell_type": "code",
   "execution_count": 7,
   "id": "3607a447",
   "metadata": {},
   "outputs": [
    {
     "name": "stdout",
     "output_type": "stream",
     "text": [
      "1\n",
      "2\n",
      "3\n",
      "4\n",
      "5\n",
      "6\n",
      "7\n",
      "8\n",
      "9\n",
      "10\n",
      "11\n",
      "12\n"
     ]
    }
   ],
   "source": [
    "for n in nums:\n",
    "    for item in n:\n",
    "        print(item)"
   ]
  },
  {
   "cell_type": "code",
   "execution_count": 8,
   "id": "c3877e71",
   "metadata": {},
   "outputs": [
    {
     "name": "stdout",
     "output_type": "stream",
     "text": [
      "1\n",
      "4\n",
      "7\n",
      "10\n",
      "2\n",
      "5\n",
      "8\n",
      "11\n",
      "3\n",
      "6\n",
      "9\n",
      "12\n"
     ]
    }
   ],
   "source": [
    "for c in range(M):\n",
    "    for r in range(N):\n",
    "        print(nums[r][c])"
   ]
  },
  {
   "cell_type": "code",
   "execution_count": 9,
   "id": "e77474d0",
   "metadata": {},
   "outputs": [
    {
     "name": "stdout",
     "output_type": "stream",
     "text": [
      "1 2 3 \n",
      "4 5 6 \n",
      "7 8 9 \n",
      "10 11 12 \n"
     ]
    }
   ],
   "source": [
    "for r in range(N):\n",
    "    for c in range(M):\n",
    "        print(nums[r][c], end=' ')\n",
    "    print()"
   ]
  },
  {
   "cell_type": "code",
   "execution_count": 10,
   "id": "20be3ef2",
   "metadata": {},
   "outputs": [
    {
     "name": "stdout",
     "output_type": "stream",
     "text": [
      "1 4 7 10 \n",
      "2 5 8 11 \n",
      "3 6 9 12 \n"
     ]
    }
   ],
   "source": [
    "for c in range(M):\n",
    "    for r in range(N):\n",
    "        print(nums[r][c], end=' ')\n",
    "    print()"
   ]
  },
  {
   "cell_type": "code",
   "execution_count": 13,
   "id": "e6be77ae",
   "metadata": {},
   "outputs": [
    {
     "name": "stdout",
     "output_type": "stream",
     "text": [
      "1 4 7 10    sum = 22\n",
      "2 5 8 11    sum = 26\n",
      "3 6 9 12    sum = 30\n"
     ]
    }
   ],
   "source": [
    "for c in range(M):\n",
    "    sumV = 0\n",
    "    for r in range(N):\n",
    "        print(nums[r][c], end=' ')\n",
    "        sumV += nums[r][c]\n",
    "    print(f'   sum = {sumV}')"
   ]
  },
  {
   "cell_type": "code",
   "execution_count": 17,
   "id": "3054d106",
   "metadata": {},
   "outputs": [
    {
     "name": "stdout",
     "output_type": "stream",
     "text": [
      "1 2 3    sum = 6\n",
      "4 5 6    sum = 15\n",
      "7 8 9    sum = 24\n",
      "10 11 12    sum = 33\n"
     ]
    }
   ],
   "source": [
    "for n in nums:\n",
    "    sumV = 0\n",
    "    for item in n:\n",
    "        print(item, end=' ')\n",
    "        sumV += item\n",
    "    print(f'   sum = {sumV}')"
   ]
  },
  {
   "cell_type": "code",
   "execution_count": 18,
   "id": "c1ada3af",
   "metadata": {},
   "outputs": [
    {
     "name": "stdout",
     "output_type": "stream",
     "text": [
      "1 4 7 10    sum = 22\n",
      "2 5 8 11    sum = 26\n",
      "3 6 9 12    sum = 30\n"
     ]
    }
   ],
   "source": [
    "for c in range(M):\n",
    "    sumV = 0\n",
    "    for r in range(N):\n",
    "        print(nums[r][c], end=' ')\n",
    "        sumV += nums[r][c]\n",
    "    print(f'   sum = {sumV}')"
   ]
  },
  {
   "cell_type": "code",
   "execution_count": 19,
   "id": "fcb46ef2",
   "metadata": {},
   "outputs": [
    {
     "name": "stdout",
     "output_type": "stream",
     "text": [
      "1 2 3    sum = 6\n",
      "4 5 6    sum = 15\n",
      "7 8 9    sum = 24\n",
      "10 11 12    sum = 33\n",
      "curMax 33\n"
     ]
    }
   ],
   "source": [
    "curMax = 0\n",
    "for r in range(N):\n",
    "    sumV = 0\n",
    "    for c in range(M):\n",
    "        print(nums[r][c], end=' ')\n",
    "        sumV += nums[r][c] \n",
    "    print(f'   sum = {sumV}')\n",
    "    if curMax < sumV:\n",
    "        curMax = sumV\n",
    "    \n",
    "print('curMax', curMax)"
   ]
  },
  {
   "cell_type": "code",
   "execution_count": 21,
   "id": "e6ffe461",
   "metadata": {},
   "outputs": [
    {
     "name": "stdout",
     "output_type": "stream",
     "text": [
      "1 4 7 10    sum = 22\n",
      "2 5 8 11    sum = 26\n",
      "3 6 9 12    sum = 30\n",
      "curMax 30\n"
     ]
    }
   ],
   "source": [
    "curMax = 0\n",
    "for c in range(M):\n",
    "    sumV = 0\n",
    "    for r in range(N):\n",
    "        print(nums[r][c], end=' ')\n",
    "        sumV += nums[r][c]\n",
    "    if curMax < sumV:\n",
    "        curMax = sumV\n",
    "    print(f'   sum = {sumV}')\n",
    "    \n",
    "print('curMax', curMax)"
   ]
  },
  {
   "cell_type": "code",
   "execution_count": 22,
   "id": "f900326f",
   "metadata": {},
   "outputs": [
    {
     "name": "stdout",
     "output_type": "stream",
     "text": [
      "[[0, 0, 0, 0, 0], [0, 0, 0, 0, 0], [0, 0, 0, 0, 0], [0, 0, 0, 0, 0], [0, 0, 0, 0, 0]]\n"
     ]
    }
   ],
   "source": [
    "N = 5\n",
    "\n",
    "nums = [[0]*5 for _ in range(N)]\n",
    "\n",
    "print(nums)"
   ]
  },
  {
   "cell_type": "code",
   "execution_count": 23,
   "id": "3120ff54",
   "metadata": {},
   "outputs": [
    {
     "name": "stdout",
     "output_type": "stream",
     "text": [
      "[[0, 0, 0, 0, 0], [0, 0, 0, 0, 0], [0, 0, 1, 0, 0], [0, 0, 0, 0, 0], [0, 0, 0, 0, 0]]\n"
     ]
    }
   ],
   "source": [
    "N = 5\n",
    "\n",
    "nums = [[0]*5 for _ in range(N)]\n",
    "nums[2][2] = 1\n",
    "\n",
    "print(nums)"
   ]
  },
  {
   "cell_type": "code",
   "execution_count": 25,
   "id": "65a83765",
   "metadata": {},
   "outputs": [
    {
     "name": "stdout",
     "output_type": "stream",
     "text": [
      "[[1, 2, 3, 4, 5], [6, 7, 8, 9, 10], [11, 12, 13, 14, 15], [16, 17, 18, 19, 20], [21, 22, 23, 24, 25]]\n"
     ]
    }
   ],
   "source": [
    "# 이완풀이\n",
    "N = 5\n",
    "\n",
    "nums = [[0]*5 for _ in range(N)]\n",
    "\n",
    "for i in range(N):\n",
    "    for j in range(N):\n",
    "        nums[i][j] = i*N + j + 1\n",
    "\n",
    "print(nums)"
   ]
  },
  {
   "cell_type": "code",
   "execution_count": 26,
   "id": "0a06d77d",
   "metadata": {},
   "outputs": [
    {
     "name": "stdout",
     "output_type": "stream",
     "text": [
      "[[1, 2, 3, 4, 5], [6, 7, 8, 9, 10], [11, 12, 13, 14, 15], [16, 17, 18, 19, 20], [21, 22, 23, 24, 25]]\n"
     ]
    }
   ],
   "source": [
    "# 모범답안\n",
    "N = 5\n",
    "\n",
    "nums = [[0]*5 for _ in range(N)]\n",
    "\n",
    "value = 1\n",
    "for i in range(N):\n",
    "    for j in range(N):\n",
    "        nums[i][j] = value\n",
    "        value += 1\n",
    "\n",
    "print(nums)"
   ]
  },
  {
   "cell_type": "code",
   "execution_count": 34,
   "id": "c725c920",
   "metadata": {
    "scrolled": true
   },
   "outputs": [
    {
     "name": "stdout",
     "output_type": "stream",
     "text": [
      "======\n",
      "0 0 0\n",
      "0 1 0\n",
      "1 0 0\n",
      "======\n",
      "0 1 0\n",
      "0 0 0\n",
      "0 2 0\n",
      "1 1 0\n",
      "======\n",
      "0 2 0\n",
      "0 1 0\n",
      "0 3 0\n",
      "1 2 0\n",
      "======\n",
      "1 0 0\n",
      "0 0 0\n",
      "1 1 0\n",
      "2 0 0\n",
      "======\n",
      "1 1 0\n",
      "1 0 0\n",
      "0 1 0\n",
      "1 2 0\n",
      "2 1 0\n",
      "======\n",
      "1 2 0\n",
      "1 1 0\n",
      "0 2 0\n",
      "1 3 0\n",
      "2 2 1\n",
      "======\n",
      "2 0 0\n",
      "1 0 0\n",
      "2 1 0\n",
      "3 0 0\n",
      "======\n",
      "2 1 0\n",
      "2 0 0\n",
      "1 1 0\n",
      "2 2 1\n",
      "3 1 0\n",
      "======\n",
      "2 2 1\n",
      "2 1 0\n",
      "1 2 0\n",
      "2 3 0\n",
      "3 2 0\n",
      "======\n",
      "3 0 0\n",
      "2 0 0\n",
      "3 1 0\n",
      "4 0 0\n",
      "======\n",
      "3 1 0\n",
      "3 0 0\n",
      "2 1 0\n",
      "3 2 0\n",
      "4 1 0\n",
      "======\n",
      "3 2 0\n",
      "3 1 0\n",
      "2 2 1\n",
      "3 3 0\n",
      "4 2 0\n",
      "======\n",
      "4 0 0\n",
      "3 0 0\n",
      "4 1 0\n",
      "======\n",
      "4 1 0\n",
      "4 0 0\n",
      "3 1 0\n",
      "4 2 0\n",
      "======\n",
      "4 2 0\n",
      "4 1 0\n",
      "3 2 0\n",
      "4 3 0\n"
     ]
    }
   ],
   "source": [
    "N = 5\n",
    "\n",
    "nums = [[0]*5 for _ in range(N)]\n",
    "nums[2][2] = 1\n",
    "\n",
    "'''\n",
    "0 0 0 0 0\n",
    "0 0 0 0 0\n",
    "0 0 0 0 0\n",
    "0 0 0 0 0\n",
    "0 0 0 0 0\n",
    "'''\n",
    "\n",
    "d = 0 # 0:왼, 1:위 2:오른, 3:아래\n",
    "dr = [ 0, -1, 0, 1]\n",
    "dc = [-1,  0, 1, 0]\n",
    "for r in range(N):\n",
    "    for c in range(M):\n",
    "        print(\"======\")\n",
    "        print(r, c, nums[r][c])\n",
    "        for d in range(4):\n",
    "            #print(r+0, c-1)  #왼\n",
    "            #print(r-1, c+0)  #위\n",
    "            #print(r+0, c+1)  #오른\n",
    "            #print(r+1, c+0)  #아래\n",
    "            newR = r+dr[d]\n",
    "            newC = c+dc[d]\n",
    "            if 0<=newR<N and 0<=newC<N:\n",
    "                print(newR, newC, nums[newR][newC])"
   ]
  },
  {
   "cell_type": "code",
   "execution_count": null,
   "id": "5293298d",
   "metadata": {},
   "outputs": [],
   "source": [
    "N = 5\n",
    "\n",
    "nums = [[0]*5 for _ in range(N)]\n",
    "nums[2][2] = 1\n",
    "\n",
    "'''\n",
    "0 0 0 0 0\n",
    "0 0 0 0 0\n",
    "0 0 0 0 0\n",
    "0 0 0 0 0\n",
    "0 0 0 0 0\n",
    "'''\n",
    "def my_abs(value):\n",
    "    if value < 0:\n",
    "        return -value\n",
    "    return value\n",
    "\n",
    "def my_abs(value):\n",
    "    return value if value > 0 else -value\n",
    "\n",
    "d = 0 # 0:왼, 1:위 2:오른, 3:아래\n",
    "dr = [ 0, -1, 0, 1]\n",
    "dc = [-1,  0, 1, 0]\n",
    "for r in range(N):\n",
    "    for c in range(M):\n",
    "        print(\"======\")\n",
    "        print(r, c, nums[r][c])\n",
    "        for d in range(4):\n",
    "            #print(r+0, c-1)  #왼\n",
    "            #print(r-1, c+0)  #위\n",
    "            #print(r+0, c+1)  #오른\n",
    "            #print(r+1, c+0)  #아래\n",
    "            newR = r+dr[d]\n",
    "            newC = c+dc[d]\n",
    "            if 0<=newR<N and 0<=newC<N:\n",
    "                print(newR, newC, nums[newR][newC])"
   ]
  },
  {
   "cell_type": "code",
   "execution_count": null,
   "id": "887ea95a",
   "metadata": {},
   "outputs": [],
   "source": [
    "N = 5\n",
    "\n",
    "nums = [[0]*5 for _ in range(N)]\n",
    "nums[2][2] = 1\n",
    "\n",
    "'''\n",
    "0 0 0 0 0\n",
    "0 0 0 0 0\n",
    "0 0 0 0 0\n",
    "0 0 0 0 0\n",
    "0 0 0 0 0\n",
    "'''\n",
    "def my_abs(value):\n",
    "    return value if value > 0 else -value\n",
    "\n",
    "d = 0 # 0:왼, 1:위 2:오른, 3:아래\n",
    "dr = [ 0, -1, 0, 1]\n",
    "dc = [-1,  0, 1, 0]\n",
    "for r in range(N):\n",
    "    for c in range(M):\n",
    "        print(\"======\")\n",
    "        print(r, c, nums[r][c])\n",
    "        for d in range(4):\n",
    "            #print(r+0, c-1)  #왼\n",
    "            #print(r-1, c+0)  #위\n",
    "            #print(r+0, c+1)  #오른\n",
    "            #print(r+1, c+0)  #아래\n",
    "            newR = r+dr[d]\n",
    "            newC = c+dc[d]\n",
    "            if 0<=newR<N and 0<=newC<N:\n",
    "                print(newR, newC, nums[newR][newC])"
   ]
  }
 ],
 "metadata": {
  "kernelspec": {
   "display_name": "Python 3 (ipykernel)",
   "language": "python",
   "name": "python3"
  },
  "language_info": {
   "codemirror_mode": {
    "name": "ipython",
    "version": 3
   },
   "file_extension": ".py",
   "mimetype": "text/x-python",
   "name": "python",
   "nbconvert_exporter": "python",
   "pygments_lexer": "ipython3",
   "version": "3.9.13"
  }
 },
 "nbformat": 4,
 "nbformat_minor": 5
}
