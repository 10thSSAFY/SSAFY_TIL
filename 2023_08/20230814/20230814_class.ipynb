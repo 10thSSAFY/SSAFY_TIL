{
 "cells": [
  {
   "cell_type": "code",
   "execution_count": 1,
   "id": "b1d1d291",
   "metadata": {},
   "outputs": [],
   "source": [
    "s = '(6+5*(2-8)/2)'"
   ]
  },
  {
   "cell_type": "code",
   "execution_count": 21,
   "id": "d45a70eb",
   "metadata": {},
   "outputs": [],
   "source": [
    "# 왼쪽 괄호가 없는 경우\n",
    "def STEP1():\n",
    "    result = []\n",
    "    ST = []\n",
    "    icp = {'+': 1, '-': 1, '*': 2, '/': 2}\n",
    "    # isp = {}\n",
    "    for c in s:\n",
    "        if c.isdigit():\n",
    "            reuslt.append(c)\n",
    "        # elif c == '(':\n",
    "        # elif c == ')':\n",
    "            # pass\n",
    "        else:\n",
    "            if icp[ST[-1]] >= icp[c]:\n",
    "                v = ST.pop()\n",
    "                result.append(v)\n",
    "            ST.append(c)"
   ]
  },
  {
   "cell_type": "code",
   "execution_count": 2,
   "id": "25f36955",
   "metadata": {},
   "outputs": [],
   "source": [
    "def STEP1():\n",
    "    result = []\n",
    "    ST = []\n",
    "    icp = {'(': 3, '+': 1, '-': 1, '*': 2, '/': 2}  # 코드\n",
    "    isp = {'(': 0, '+': 1, '-': 1, '*': 2, '/': 2}  # 스택\n",
    "    for c in s:\n",
    "        if c.isdigit():\n",
    "            result.append(c)\n",
    "        # elif c == '(':\n",
    "        elif c == ')':\n",
    "            while ST and ST[-1] != '(':\n",
    "                v = ST.pop()\n",
    "                result.append(v)\n",
    "            ST.pop()  # ( 버림\n",
    "        else:\n",
    "            while ST and isp[ST[-1]] >= icp[c]:\n",
    "                v = ST.pop()\n",
    "                result.append(v)\n",
    "            ST.append(c)\n",
    "    \n",
    "    while ST:\n",
    "        v = ST.pop()\n",
    "        result.append(v)\n",
    "        \n",
    "    return result\n",
    "\n",
    "# step1_s = STEP1()\n",
    "# print(step1_s)"
   ]
  },
  {
   "cell_type": "code",
   "execution_count": 5,
   "id": "ccdf1a8c",
   "metadata": {},
   "outputs": [],
   "source": [
    "def cal(v1, v2, op):\n",
    "    if op == '+':\n",
    "        return v1+v2\n",
    "    if op == '-':\n",
    "        return v2-v1\n",
    "    if op == '*':\n",
    "        return v1*v2\n",
    "    if op == '/':\n",
    "        return v2//v1\n",
    "\n",
    "def STEP2(s):\n",
    "    ST = []\n",
    "    for c in s:\n",
    "        if c.isdigit():\n",
    "            ST.append(c)\n",
    "        else:\n",
    "            v1 = ST.pop()\n",
    "            v2 = ST.pop()\n",
    "            ST.append(cal(int(v1), int(v2), c))\n",
    "    \n",
    "    return ST.pop()\n",
    "            \n",
    "# result = STEP2(step1_s)\n",
    "# print(result)"
   ]
  },
  {
   "cell_type": "code",
   "execution_count": 6,
   "id": "81a4ce16",
   "metadata": {},
   "outputs": [
    {
     "name": "stdout",
     "output_type": "stream",
     "text": [
      "-9\n"
     ]
    }
   ],
   "source": [
    "step1_s = STEP1()\n",
    "result = STEP2(step1_s)\n",
    "print(result)"
   ]
  }
 ],
 "metadata": {
  "kernelspec": {
   "display_name": "Python 3 (ipykernel)",
   "language": "python",
   "name": "python3"
  },
  "language_info": {
   "codemirror_mode": {
    "name": "ipython",
    "version": 3
   },
   "file_extension": ".py",
   "mimetype": "text/x-python",
   "name": "python",
   "nbconvert_exporter": "python",
   "pygments_lexer": "ipython3",
   "version": "3.10.5"
  }
 },
 "nbformat": 4,
 "nbformat_minor": 5
}
