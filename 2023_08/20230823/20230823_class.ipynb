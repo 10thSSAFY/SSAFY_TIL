{
 "cells": [
  {
   "cell_type": "markdown",
   "id": "d905d03d",
   "metadata": {},
   "source": [
    "### 10 → 2 진수의 문자열 7 → '0111'"
   ]
  },
  {
   "cell_type": "code",
   "execution_count": 2,
   "id": "207ad97e",
   "metadata": {},
   "outputs": [
    {
     "name": "stdout",
     "output_type": "stream",
     "text": [
      "0b111\n"
     ]
    }
   ],
   "source": [
    "def decToBin(decV):\n",
    "    return\n",
    "\n",
    "print(bin(7))"
   ]
  },
  {
   "cell_type": "markdown",
   "id": "e1e3ffe6",
   "metadata": {},
   "source": [
    "### 7 -> '00000111'"
   ]
  },
  {
   "cell_type": "code",
   "execution_count": 5,
   "id": "85604e88",
   "metadata": {},
   "outputs": [
    {
     "name": "stdout",
     "output_type": "stream",
     "text": [
      "1\n",
      "2\n",
      "4\n",
      "0\n",
      "0\n",
      "0\n",
      "0\n",
      "0\n"
     ]
    }
   ],
   "source": [
    "# 7 = 00000111\n",
    "print(0b00000111 & 0b00000001)\n",
    "print(0b00000111 & 0b00000010)\n",
    "print(0b00000111 & 0b00000100)\n",
    "print(0b00000111 & 0b00001000)\n",
    "print(0b00000111 & 0b00010000)\n",
    "print(0b00000111 & 0b00100000)\n",
    "print(0b00000111 & 0b01000000)\n",
    "print(0b00000111 & 0b10000000)"
   ]
  },
  {
   "cell_type": "code",
   "execution_count": 11,
   "id": "9dacd9cd",
   "metadata": {},
   "outputs": [
    {
     "name": "stdout",
     "output_type": "stream",
     "text": [
      "True\n",
      "True\n",
      "True\n",
      "False\n",
      "False\n",
      "False\n",
      "False\n",
      "False\n"
     ]
    }
   ],
   "source": [
    "# 7 = 00000111\n",
    "print(bool(0b00000111 & 0b00000001))\n",
    "print(bool(0b00000111 & 0b00000010))\n",
    "print(bool(0b00000111 & 0b00000100))\n",
    "print(bool(0b00000111 & 0b00001000))\n",
    "print(bool(0b00000111 & 0b00010000))\n",
    "print(bool(0b00000111 & 0b00100000))\n",
    "print(bool(0b00000111 & 0b01000000))\n",
    "print(bool(0b00000111 & 0b10000000))"
   ]
  },
  {
   "cell_type": "code",
   "execution_count": 10,
   "id": "3563b5b9",
   "metadata": {},
   "outputs": [
    {
     "name": "stdout",
     "output_type": "stream",
     "text": [
      "0b110\n",
      "0110\n"
     ]
    }
   ],
   "source": [
    "def decToBin(decV):\n",
    "    result = ''\n",
    "    for shiftBit in range(4):\n",
    "        t = decV & (1<<shiftBit)\n",
    "        if t != 0:\n",
    "            result = '1' + result\n",
    "        else:\n",
    "            result = '0' + result\n",
    "    return result\n",
    "\n",
    "print(bin(6))\n",
    "print(decToBin(6))"
   ]
  },
  {
   "cell_type": "markdown",
   "id": "cf453824",
   "metadata": {},
   "source": [
    "### 2진수 -> 10진수\n",
    "- '1100' -> 12"
   ]
  },
  {
   "cell_type": "code",
   "execution_count": 12,
   "id": "ce053b8a",
   "metadata": {},
   "outputs": [
    {
     "name": "stdout",
     "output_type": "stream",
     "text": [
      "12\n"
     ]
    }
   ],
   "source": [
    "def BinToDec(BinS):\n",
    "    result = 0\n",
    "    for c in BinS:\n",
    "        result = result * 2 + int(c)\n",
    "    return result\n",
    "\n",
    "print(BinToDec('1100'))"
   ]
  },
  {
   "cell_type": "code",
   "execution_count": 14,
   "id": "60168519",
   "metadata": {},
   "outputs": [
    {
     "name": "stdout",
     "output_type": "stream",
     "text": [
      "13\n"
     ]
    }
   ],
   "source": [
    "def BinToDec(BinS):\n",
    "    result = 0\n",
    "    for c in BinS:\n",
    "        result = result << 1 | int(c)\n",
    "    return result\n",
    "\n",
    "print(BinToDec('1101'))"
   ]
  },
  {
   "cell_type": "markdown",
   "id": "1045a28a",
   "metadata": {},
   "source": [
    "### 16진수 -> 10진수\n",
    "- '10A' -> 266"
   ]
  },
  {
   "cell_type": "code",
   "execution_count": 17,
   "id": "45e4f55b",
   "metadata": {},
   "outputs": [
    {
     "name": "stdout",
     "output_type": "stream",
     "text": [
      "266\n"
     ]
    }
   ],
   "source": [
    "def HexToDec(HexS):\n",
    "    result = 0\n",
    "    for c in HexS:\n",
    "        if c.isdecimal():\n",
    "            t = int(c)\n",
    "        else:\n",
    "            t = ord(c) - ord('A') + 10   \n",
    "        result = result*16 + t\n",
    "        \n",
    "    return result\n",
    "\n",
    "print(HexToDec('10A'))"
   ]
  },
  {
   "cell_type": "markdown",
   "id": "af957d8b",
   "metadata": {},
   "source": [
    "### 16진수 -> 2진수\n",
    "- A -> 1010"
   ]
  },
  {
   "cell_type": "code",
   "execution_count": 19,
   "id": "91b31b3c",
   "metadata": {},
   "outputs": [
    {
     "name": "stdout",
     "output_type": "stream",
     "text": [
      "1010\n"
     ]
    }
   ],
   "source": [
    "def HexToBin(HexC):\n",
    "    if HexC.isdecimal():\n",
    "        decV = int(HexC)\n",
    "    else:\n",
    "        decV = ord(HexC) - ord('A') + 10   \n",
    "    result = ''\n",
    "    for shiftBit in range(4):\n",
    "        t = decV & (1 << shiftBit)\n",
    "        if t != 0:\n",
    "            result = '1' + result\n",
    "        else:\n",
    "            result = '0' + result\n",
    "    return result\n",
    "\n",
    "print(HexToBin('A'))"
   ]
  },
  {
   "cell_type": "code",
   "execution_count": 22,
   "id": "698edc41",
   "metadata": {},
   "outputs": [
    {
     "name": "stdout",
     "output_type": "stream",
     "text": [
      "1010\n"
     ]
    }
   ],
   "source": [
    "def HexToBin(HexC):\n",
    "    mappingTable = {\n",
    "        '0': '0000',\n",
    "        '1': '0001',\n",
    "        '2': '0010',\n",
    "        '3': '0011',\n",
    "        '4': '0100',\n",
    "        '5': '0101',\n",
    "        '6': '0110',\n",
    "        '7': '0111',\n",
    "        '8': '1000',\n",
    "        '9': '1001',\n",
    "        'A': '1010',\n",
    "        'B': '1011',\n",
    "        'C': '1100',\n",
    "        'D': '1101',\n",
    "        'E': '1110',\n",
    "        'F': '1111'\n",
    "    }\n",
    "    return mappingTable[HexC]\n",
    "\n",
    "print(HexToBin('A'))"
   ]
  },
  {
   "cell_type": "markdown",
   "id": "f077c08d",
   "metadata": {},
   "source": [
    "### 연습문제 팁"
   ]
  },
  {
   "cell_type": "markdown",
   "id": "03c4c85d",
   "metadata": {
    "tags": []
   },
   "source": [
    "```\n",
    "for i in range(0, len(s), 7):\n",
    "    print(BinToDec(s[i:i+7]))\n",
    "```"
   ]
  },
  {
   "cell_type": "code",
   "execution_count": null,
   "id": "726725d0",
   "metadata": {},
   "outputs": [],
   "source": []
  }
 ],
 "metadata": {
  "kernelspec": {
   "display_name": "Python 3 (ipykernel)",
   "language": "python",
   "name": "python3"
  },
  "language_info": {
   "codemirror_mode": {
    "name": "ipython",
    "version": 3
   },
   "file_extension": ".py",
   "mimetype": "text/x-python",
   "name": "python",
   "nbconvert_exporter": "python",
   "pygments_lexer": "ipython3",
   "version": "3.9.13"
  }
 },
 "nbformat": 4,
 "nbformat_minor": 5
}
