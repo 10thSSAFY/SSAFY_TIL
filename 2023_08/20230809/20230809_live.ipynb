{
 "cells": [
  {
   "cell_type": "markdown",
   "id": "cecfb034",
   "metadata": {},
   "source": [
    "##  스택의 push 알고리즘\n",
    "### append 메소드를 통해 리스트의 마지막에 데이터를 삽입"
   ]
  },
  {
   "cell_type": "markdown",
   "id": "0cf95317",
   "metadata": {},
   "source": [
    "```\n",
    "def push(item):\n",
    "    s.append(item)\n",
    "```"
   ]
  },
  {
   "cell_type": "markdown",
   "id": "aef21d48",
   "metadata": {},
   "source": [
    "#### [참고]\n",
    "```\n",
    "def push(item, size):\n",
    "    global top\n",
    "    top += 1\n",
    "    if top == size:\n",
    "        print('overflow!')\n",
    "    else:\n",
    "        stack[top] = item\n",
    "\n",
    "size = 10\n",
    "stack = [0] * size\n",
    "top = -1\n",
    "\n",
    "push(10, size)\n",
    "top += 1\n",
    "stack[top] = 20\n",
    "```"
   ]
  },
  {
   "cell_type": "markdown",
   "id": "8b0650c1",
   "metadata": {},
   "source": [
    "## 스택의 pop 알고리즘\n",
    "```\n",
    "def pop():\n",
    "    if len(s)\n",
    "```\n",
    "#### [참고]\n",
    "```\n",
    "def pop():\n",
    "    global top\n",
    "    if top == -1:\n",
    "        print('underflow')\n",
    "        return 0\n",
    "    else:\n",
    "        top -= 1\n",
    "        return stack[top + 1]\n",
    "\n",
    "print(pop())\n",
    "\n",
    "if top > -1:\n",
    "    top -= 1\n",
    "    print(stack[top + 1])\n",
    "```"
   ]
  },
  {
   "cell_type": "markdown",
   "id": "9a30f01e",
   "metadata": {},
   "source": [
    "실습하기"
   ]
  },
  {
   "cell_type": "code",
   "execution_count": 8,
   "id": "74f8718b",
   "metadata": {},
   "outputs": [
    {
     "name": "stdout",
     "output_type": "stream",
     "text": [
      "[1, 2, 3, 0, 0, 0, 0, 0, 0, 0]\n"
     ]
    }
   ],
   "source": [
    "stack = [0] * 10\n",
    "top = -1\n",
    "\n",
    "#  push(1)\n",
    "top += 1\n",
    "stack[top] = 1\n",
    "#  push(2)\n",
    "top += 1\n",
    "stack[top] = 2\n",
    "#  push(3)\n",
    "top += 1\n",
    "stack[top] = 3\n",
    "\n",
    "print(stack)"
   ]
  },
  {
   "cell_type": "code",
   "execution_count": 9,
   "id": "f22aa4a2",
   "metadata": {},
   "outputs": [
    {
     "name": "stdout",
     "output_type": "stream",
     "text": [
      "3\n",
      "2\n",
      "[1, 2, 3, 0, 0, 0, 0, 0, 0, 0]\n"
     ]
    }
   ],
   "source": [
    "# pop()\n",
    "print(stack[top])\n",
    "top -= 1\n",
    "\n",
    "# pop()\n",
    "top -= 1\n",
    "print(stack[top+1])\n",
    "\n",
    "print(stack)"
   ]
  },
  {
   "cell_type": "markdown",
   "id": "d983b3ef",
   "metadata": {},
   "source": [
    "## 스택의 응용1: 괄호검사"
   ]
  },
  {
   "cell_type": "code",
   "execution_count": 68,
   "id": "3e7b6cc3",
   "metadata": {},
   "outputs": [
    {
     "name": "stdout",
     "output_type": "stream",
     "text": [
      "['(', 0, 0, 0, 0, 0, 0]\n",
      "[0, 0, 0, 0, 0, 0, 0]\n",
      "['(', 0, 0, 0, 0, 0, 0]\n",
      "[0, 0, 0, 0, 0, 0, 0]\n",
      "['(', 0, 0, 0, 0, 0, 0]\n",
      "['(', '(', 0, 0, 0, 0, 0]\n",
      "['(', '(', '(', 0, 0, 0, 0]\n",
      "['(', '(', 0, 0, 0, 0, 0]\n",
      "['(', 0, 0, 0, 0, 0, 0]\n",
      "[0, 0, 0, 0, 0, 0, 0]\n",
      "성공\n"
     ]
    }
   ],
   "source": [
    "a = '()()((()))'\n",
    "lst = list(a)\n",
    "stack = [0, 0, 0, 0, 0, 0, 0]\n",
    "top = -1\n",
    "\n",
    "result = 0\n",
    "for i in lst:\n",
    "    if i in '(':\n",
    "        top += 1\n",
    "        stack[top] = i\n",
    "        print(stack)\n",
    "    elif i in ')':\n",
    "        if top == -1:\n",
    "#             print('underflow')\n",
    "            result = -1\n",
    "            break\n",
    "        elif stack[top] == '(':\n",
    "            top -= 1\n",
    "            stack[top + 1] = 0\n",
    "            print(stack)\n",
    "        else:\n",
    "            result = -1\n",
    "#             print('짝이 맞지 않음')\n",
    "            break\n",
    "\n",
    "\n",
    "if result == -1:\n",
    "    print('실패')\n",
    "elif stack[0] != 0:\n",
    "#     print('짝이 맞지 않음')\n",
    "    print('실패')\n",
    "else:\n",
    "    print('성공')"
   ]
  },
  {
   "cell_type": "code",
   "execution_count": 69,
   "id": "1391eef0",
   "metadata": {},
   "outputs": [
    {
     "name": "stdout",
     "output_type": "stream",
     "text": [
      "5 2\n",
      "4\n"
     ]
    }
   ],
   "source": [
    "# 파스칼 삼각형\n",
    "n, k = list(map(int, input().split()))\n",
    "\n",
    "\n",
    "dp = [[1]*i for i in range(1, n+1)]\n",
    "for i in range(2, n):\n",
    "    for j in range(1,i):\n",
    "        dp[i][j] = dp[i-1][j-1]+dp[i-1][j]\n",
    "print(dp[n-1][k-1])"
   ]
  },
  {
   "cell_type": "code",
   "execution_count": null,
   "id": "bd55e9bf",
   "metadata": {},
   "outputs": [],
   "source": []
  }
 ],
 "metadata": {
  "kernelspec": {
   "display_name": "Python 3 (ipykernel)",
   "language": "python",
   "name": "python3"
  },
  "language_info": {
   "codemirror_mode": {
    "name": "ipython",
    "version": 3
   },
   "file_extension": ".py",
   "mimetype": "text/x-python",
   "name": "python",
   "nbconvert_exporter": "python",
   "pygments_lexer": "ipython3",
   "version": "3.9.13"
  }
 },
 "nbformat": 4,
 "nbformat_minor": 5
}
