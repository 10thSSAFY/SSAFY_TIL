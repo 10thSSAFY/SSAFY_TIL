{
 "cells": [
  {
   "cell_type": "code",
   "execution_count": 1,
   "id": "a6b11f0e",
   "metadata": {},
   "outputs": [
    {
     "name": "stdout",
     "output_type": "stream",
     "text": [
      "2 <class 'str'>\n"
     ]
    }
   ],
   "source": [
    "def itoa(int_value):\n",
    "    return chr(int_value + 48)\n",
    "\n",
    "t = itoa(2)\n",
    "print(t, type(t))"
   ]
  },
  {
   "cell_type": "code",
   "execution_count": 9,
   "id": "855fb4a4",
   "metadata": {},
   "outputs": [
    {
     "name": "stdout",
     "output_type": "stream",
     "text": [
      "7 256 7\n",
      "6 25 76\n",
      "5 2 765\n",
      "2 0 7652\n",
      "2 <class 'str'>\n"
     ]
    }
   ],
   "source": [
    "def itoa(int_value):\n",
    "    temp = int_value\n",
    "    s = ''\n",
    "    while temp > 0:\n",
    "        one = temp % 10\n",
    "        s = s + chr(one + ord('0'))\n",
    "        temp = temp // 10\n",
    "        print(one, temp, s)\n",
    "    return chr(one + ord('0'))\n",
    "\n",
    "t = itoa(2567)\n",
    "print(t, type(t))"
   ]
  },
  {
   "cell_type": "code",
   "execution_count": 11,
   "id": "8325885c",
   "metadata": {},
   "outputs": [
    {
     "name": "stdout",
     "output_type": "stream",
     "text": [
      "7 256 7\n",
      "6 25 67\n",
      "5 2 567\n",
      "2 0 2567\n",
      "2 <class 'str'>\n"
     ]
    }
   ],
   "source": [
    "def itoa(int_value):\n",
    "    temp = int_value\n",
    "    s = ''\n",
    "    while temp > 0:\n",
    "        one = temp % 10\n",
    "        s = chr(one + ord('0')) + s\n",
    "        temp = temp // 10\n",
    "        print(one, temp, s)\n",
    "    return chr(one + ord('0'))\n",
    "\n",
    "t = itoa(2567)\n",
    "print(t, type(t))"
   ]
  },
  {
   "cell_type": "code",
   "execution_count": 16,
   "id": "41f71142",
   "metadata": {},
   "outputs": [
    {
     "name": "stdout",
     "output_type": "stream",
     "text": [
      "2567\n"
     ]
    }
   ],
   "source": [
    "def itoa(int_value):\n",
    "    temp = int_value\n",
    "    s = ''\n",
    "    while temp > 0:\n",
    "        one = temp % 10\n",
    "        s = chr(one + ord('0')) + s\n",
    "        temp = temp // 10\n",
    "        #print(one, temp, s)\n",
    "    return s\n",
    "\n",
    "t = itoa(2567)\n",
    "print(t)"
   ]
  },
  {
   "cell_type": "code",
   "execution_count": 20,
   "id": "75d2e5d8",
   "metadata": {},
   "outputs": [
    {
     "name": "stdout",
     "output_type": "stream",
     "text": [
      "4567 <class 'int'>\n"
     ]
    }
   ],
   "source": [
    "def atoi(str_value):\n",
    "    value = 0\n",
    "    for i in range(len(str_value)):\n",
    "        c = ord(str_value[i]) - 0x30\n",
    "        value = value * 10 + c\n",
    "    return value\n",
    "    \n",
    "\n",
    "t = atoi('4567')\n",
    "print(t, type(t))\n"
   ]
  }
 ],
 "metadata": {
  "kernelspec": {
   "display_name": "Python 3 (ipykernel)",
   "language": "python",
   "name": "python3"
  },
  "language_info": {
   "codemirror_mode": {
    "name": "ipython",
    "version": 3
   },
   "file_extension": ".py",
   "mimetype": "text/x-python",
   "name": "python",
   "nbconvert_exporter": "python",
   "pygments_lexer": "ipython3",
   "version": "3.9.13"
  }
 },
 "nbformat": 4,
 "nbformat_minor": 5
}
