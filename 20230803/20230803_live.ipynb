{
 "cells": [
  {
   "cell_type": "markdown",
   "id": "746790e0",
   "metadata": {},
   "source": [
    "# 비트연산자"
   ]
  },
  {
   "cell_type": "markdown",
   "id": "5803104d",
   "metadata": {},
   "source": [
    "## 비트 연산자\n",
    "|  |  |\n",
    "|:---:|:---|\n",
    "| & | 비트 단위로 AND 연산을 한다. |\n",
    "| \\| | 비트 단위로 OR 연산을 한다. |\n",
    "| << | 피연산자의 비트 열을 왼쪽으로 이동시킨다. |\n",
    "| >> | 피연산자의 비트 열을 오른쪽으로 이동시킨다. |"
   ]
  },
  {
   "cell_type": "markdown",
   "id": "f0659e52",
   "metadata": {},
   "source": [
    "# 선택정렬"
   ]
  },
  {
   "cell_type": "code",
   "execution_count": 4,
   "id": "b4394c3c",
   "metadata": {},
   "outputs": [],
   "source": [
    "lst = [64, 25, 10, 22, 11]"
   ]
  },
  {
   "cell_type": "code",
   "execution_count": 12,
   "id": "2545f8fd",
   "metadata": {},
   "outputs": [
    {
     "name": "stdout",
     "output_type": "stream",
     "text": [
      "[10, 11, 22, 25, 64]\n"
     ]
    }
   ],
   "source": [
    "start = 0\n",
    "while start < len(lst):\n",
    "    min = lst[start]\n",
    "    idx = -1\n",
    "    for i in range(start, len(lst)):\n",
    "        if min > lst[i]:\n",
    "            min = lst[i]\n",
    "            idx = i\n",
    "    if idx != -1:\n",
    "        lst[start], lst[idx] = lst[idx], lst[start]\n",
    "    start += 1\n",
    "\n",
    "print(lst)"
   ]
  },
  {
   "cell_type": "markdown",
   "id": "aeb71a5f",
   "metadata": {},
   "source": [
    "## 선택정렬 모범"
   ]
  },
  {
   "cell_type": "code",
   "execution_count": 13,
   "id": "17550dae",
   "metadata": {},
   "outputs": [],
   "source": [
    "def selectionSort(a, N):\n",
    "    for i in range(N-1):\n",
    "        minIdx = i\n",
    "        for j in range(i+1, N):\n",
    "            if a[minIdx] > a[j]:\n",
    "                minIdx = j\n",
    "        a[i], a[minIdx] = a[minIdx], a[i]"
   ]
  },
  {
   "cell_type": "code",
   "execution_count": 17,
   "id": "2d4c06a9",
   "metadata": {},
   "outputs": [
    {
     "name": "stdout",
     "output_type": "stream",
     "text": [
      "[10, 11, 22, 25, 64]\n"
     ]
    }
   ],
   "source": [
    "lst = [64, 25, 10, 22, 11]\n",
    "selectionSort(lst, 5)\n",
    "print(lst)"
   ]
  },
  {
   "cell_type": "markdown",
   "id": "61364dab",
   "metadata": {},
   "source": [
    "# 셀렉션 알고리즘"
   ]
  },
  {
   "cell_type": "code",
   "execution_count": 19,
   "id": "f63cf69d",
   "metadata": {},
   "outputs": [],
   "source": [
    "def select(arr, k):\n",
    "    for i in range(0, k):\n",
    "        minIndex = i\n",
    "        for j in range(i+1, len(arr)):\n",
    "            if arr[minIndex] > arr[j]:\n",
    "                minIndex = j\n",
    "        arr[i], arr[minIndex] = arr[minIndex], arr[i]\n",
    "    return arr[k-1]"
   ]
  },
  {
   "cell_type": "code",
   "execution_count": 35,
   "id": "9f43c9e9",
   "metadata": {},
   "outputs": [
    {
     "name": "stdout",
     "output_type": "stream",
     "text": [
      "원본 리스트 = [64, 25, 10, 22, 11]\n",
      "select(lst, 1) = 10, lst = [10, 25, 64, 22, 11]\n",
      "select(lst, 2) = 11, lst = [10, 11, 64, 22, 25]\n",
      "select(lst, 3) = 22, lst = [10, 11, 22, 64, 25]\n",
      "select(lst, 4) = 25, lst = [10, 11, 22, 25, 64]\n",
      "select(lst, 5) = 64, lst = [10, 11, 22, 25, 64]\n"
     ]
    }
   ],
   "source": [
    "lst = [64, 25, 10, 22, 11]\n",
    "print(f'원본 리스트 = {lst}')\n",
    "print(f'select(lst, 1) = {select(lst, 1)}, lst = {lst}')\n",
    "print(f'select(lst, 2) = {select(lst, 2)}, lst = {lst}')\n",
    "print(f'select(lst, 3) = {select(lst, 3)}, lst = {lst}')\n",
    "print(f'select(lst, 4) = {select(lst, 4)}, lst = {lst}')\n",
    "print(f'select(lst, 5) = {select(lst, 5)}, lst = {lst}')"
   ]
  },
  {
   "cell_type": "code",
   "execution_count": null,
   "id": "23866104",
   "metadata": {},
   "outputs": [],
   "source": []
  }
 ],
 "metadata": {
  "kernelspec": {
   "display_name": "Python 3 (ipykernel)",
   "language": "python",
   "name": "python3"
  },
  "language_info": {
   "codemirror_mode": {
    "name": "ipython",
    "version": 3
   },
   "file_extension": ".py",
   "mimetype": "text/x-python",
   "name": "python",
   "nbconvert_exporter": "python",
   "pygments_lexer": "ipython3",
   "version": "3.9.13"
  }
 },
 "nbformat": 4,
 "nbformat_minor": 5
}
