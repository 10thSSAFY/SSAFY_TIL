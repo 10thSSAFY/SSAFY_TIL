{
 "cells": [
  {
   "cell_type": "markdown",
   "id": "d6ff8991",
   "metadata": {},
   "source": [
    "## 진수 변환 연산"
   ]
  },
  {
   "cell_type": "code",
   "execution_count": 6,
   "id": "455c4759",
   "metadata": {},
   "outputs": [
    {
     "name": "stdout",
     "output_type": "stream",
     "text": [
      "5\n"
     ]
    }
   ],
   "source": [
    "a = 0b10 + 0b11\n",
    "print(a)"
   ]
  },
  {
   "cell_type": "code",
   "execution_count": 7,
   "id": "c4211171",
   "metadata": {},
   "outputs": [
    {
     "name": "stdout",
     "output_type": "stream",
     "text": [
      "2\n"
     ]
    }
   ],
   "source": [
    "a = 0b10 & 0b11\n",
    "print(a)"
   ]
  },
  {
   "cell_type": "code",
   "execution_count": 8,
   "id": "76650c69",
   "metadata": {},
   "outputs": [
    {
     "name": "stdout",
     "output_type": "stream",
     "text": [
      "3\n"
     ]
    }
   ],
   "source": [
    "a = 0b10 | 0b11\n",
    "print(a)"
   ]
  },
  {
   "cell_type": "code",
   "execution_count": 9,
   "id": "3a847fe9",
   "metadata": {},
   "outputs": [
    {
     "name": "stdout",
     "output_type": "stream",
     "text": [
      "4\n"
     ]
    }
   ],
   "source": [
    "a = 0b10 << 1\n",
    "print(a)"
   ]
  },
  {
   "cell_type": "code",
   "execution_count": 10,
   "id": "83dddf5d",
   "metadata": {},
   "outputs": [
    {
     "name": "stdout",
     "output_type": "stream",
     "text": [
      "1\n"
     ]
    }
   ],
   "source": [
    "a = 0b10 >> 1\n",
    "print(a)"
   ]
  },
  {
   "cell_type": "markdown",
   "id": "48472fe0",
   "metadata": {},
   "source": [
    "### 부분집합 출력 "
   ]
  },
  {
   "cell_type": "markdown",
   "id": "eb6af5f0",
   "metadata": {},
   "source": [
    "```\n",
    "nus = [10, 20, 32]\n",
    "{}: 모두 포함되어 있지 않다.\n",
    "{10}: [1, 0, 0]\n",
    "{20}: [0, 1, 0]\n",
    ".\n",
    ".\n",
    ".\n",
    "{10, 20, 32}: [1, 1, 1]\n",
    "```"
   ]
  },
  {
   "cell_type": "markdown",
   "id": "3e99b97b",
   "metadata": {},
   "source": [
    "```\n",
    "nus = [10, 20, 32]\n",
    "{} => 0b000\n",
    "{10} => 0b001\n",
    "{20} => 0b010\n",
    "{30} => 0b100\n",
    "{10, 20} => 0b011\n",
    ".\n",
    ".\n",
    ".\n",
    "{10, 20, 32} => 0b111\n",
    "```"
   ]
  },
  {
   "cell_type": "markdown",
   "id": "d98769b1",
   "metadata": {},
   "source": [
    "```python\n",
    "N = 4\n",
    "nus = [10, 20, 32, 45]\n",
    "```\n",
    "```\n",
    "{} => 0b0000\n",
    "{10} => 0b0001\n",
    "{20} => 0b0010\n",
    "{30} => 0b0100\n",
    "{10, 20} => 0b0011\n",
    ".\n",
    ".\n",
    ".\n",
    "{10, 20, 32} => 0b0111\n",
    ".\n",
    ".\n",
    ".\n",
    "{10, 20, 32, 45} => 0b1111\n",
    "```\n",
    "\n",
    "```python\n",
    "for i in range(1<<N):  # 8(0b1000 => 1<<3), 16(0b10000 => 1<<4)\n",
    "    print(i)\n",
    "```\n",
    "\n",
    "```\n",
    "N 번째 비트를 뽑아봅시다\n",
    "i & 0b001 => 000 or 001 (0)\n",
    "i & 0b010 => 000 or 010 (2)\n",
    "i & 0b010 => 000 or 010 (4)\n",
    "```\n",
    "```python\n",
    "for j in range(N):\n",
    "    t = i & (1<<j)\n",
    "    if t == 0:\n",
    "        print(0, end=' ')\n",
    "    else:\n",
    "        print(1, end=' ')\n",
    "print()\n",
    "```\n",
    "```\n",
    "0 0 0 0\n",
    "1 0 0 0\n",
    "0 1 0 0\n",
    "0 0 1 0\n",
    ".\n",
    ".\n",
    ".\n",
    "1 0 1 1\n",
    "0 1 1 1\n",
    "1 1 1 1\n",
    "```\n",
    "```python\n",
    "# 합 구하기\n",
    "sum_V = 0\n",
    "for j in range(N):\n",
    "    t = i & (1<<j)\n",
    "    if t == 0:\n",
    "        print(0, end=' ')\n",
    "    else:\n",
    "        print(1, end=' ')\n",
    "        sum_V = nums[j]\n",
    "print(sumV)\n",
    "```"
   ]
  },
  {
   "cell_type": "code",
   "execution_count": 16,
   "id": "a64d7cfa",
   "metadata": {},
   "outputs": [],
   "source": [
    "bit = [0, 0, 0, 0]\n",
    "for i in range(2):\n",
    "    bit[0] = i\n",
    "    for j in range(2):\n",
    "        bit[1] = j\n",
    "        for k in range(2):\n",
    "            bit[2] = k\n",
    "            for l in range(2):\n",
    "                bit[3] = l"
   ]
  },
  {
   "cell_type": "code",
   "execution_count": null,
   "id": "912f3706",
   "metadata": {},
   "outputs": [],
   "source": []
  },
  {
   "cell_type": "code",
   "execution_count": null,
   "id": "8e2e2b5a",
   "metadata": {},
   "outputs": [],
   "source": []
  },
  {
   "cell_type": "code",
   "execution_count": 17,
   "id": "93572073",
   "metadata": {},
   "outputs": [
    {
     "name": "stdout",
     "output_type": "stream",
     "text": [
      "0\n",
      "6\n",
      "3\n",
      "-1\n"
     ]
    }
   ],
   "source": [
    "# key가 nums에 있으면 위치를 return하고 없으면 -1을 return\n",
    "nums = [4, 9, 11, 23, 2, 19, 7]\n",
    "N = 7\n",
    "\n",
    "def sFind(key):\n",
    "    for idx in range(N):\n",
    "        if key == nums[idx]:\n",
    "            return idx\n",
    "    return -1\n",
    "\n",
    "print(sFind(4))  # 0\n",
    "print(sFind(7))  # 6\n",
    "print(sFind(23))  # 3\n",
    "print(sFind(10))  # -1"
   ]
  },
  {
   "cell_type": "code",
   "execution_count": 18,
   "id": "a535c569",
   "metadata": {},
   "outputs": [
    {
     "name": "stdout",
     "output_type": "stream",
     "text": [
      "0\n",
      "6\n",
      "3\n",
      "-1\n"
     ]
    }
   ],
   "source": [
    "# key가 nums에 있으면 위치를 return하고 없으면 -1을 return\n",
    "nums = [4, 9, 11, 23, 2, 19, 7]\n",
    "N = 7\n",
    "\n",
    "def sFind(key):\n",
    "    idx = 0\n",
    "    while idx < N:\n",
    "        if key == nums[idx]:\n",
    "            return idx\n",
    "        idx += 1\n",
    "    return -1\n",
    "\n",
    "print(sFind(4))  # 0\n",
    "print(sFind(7))  # 6\n",
    "print(sFind(23))  # 3\n",
    "print(sFind(10))  # -1"
   ]
  },
  {
   "cell_type": "code",
   "execution_count": 37,
   "id": "4a1d0d48",
   "metadata": {},
   "outputs": [
    {
     "name": "stdout",
     "output_type": "stream",
     "text": [
      "1\n",
      "2\n",
      "6\n",
      "-1\n"
     ]
    }
   ],
   "source": [
    "# 만약 정렬이 되어 있다면??\n",
    "# nums = [4, 9, 11, 23, 2, 19, 7]\n",
    "nums = [2, 4, 7, 9, 11, 19, 23]\n",
    "N = 7\n",
    "\n",
    "# key가 nums에 있으면 위치를 return하고 없으면 -1을 return\n",
    "def sFind(key):\n",
    "    idx = 0\n",
    "    while idx in range(N):\n",
    "        if key == nums[idx]:\n",
    "            return idx\n",
    "        if key < nums[idx]:\n",
    "            return -1\n",
    "        idx += 1\n",
    "    return -1\n",
    "\n",
    "print(sFind(4))  # 1\n",
    "print(sFind(7))  # 2\n",
    "print(sFind(23))  # 6\n",
    "print(sFind(10))  # -1"
   ]
  },
  {
   "cell_type": "code",
   "execution_count": 40,
   "id": "b7d4a4a0",
   "metadata": {},
   "outputs": [
    {
     "name": "stdout",
     "output_type": "stream",
     "text": [
      "None\n",
      "None\n",
      "None\n",
      "None\n"
     ]
    }
   ],
   "source": [
    "# 만약 정렬이 되어 있다면??\n",
    "# nums = [4, 9, 11, 23, 2, 19, 7]\n",
    "nums = [2, 4, 7, 9, 11, 19, 23]\n",
    "N = 7\n",
    "\n",
    "def bFind(key):\n",
    "    l = 0\n",
    "    r = N - 1\n",
    "    m = (l + r) // 2\n",
    "    \n",
    "    if key == nums[m]:\n",
    "        return m\n",
    "    elif key > nums[m]:\n",
    "        l = m + 1\n",
    "    else:\n",
    "        r = m - 1\n",
    "    \n",
    "\n",
    "\n",
    "print(bFind(4))  # 0\n",
    "print(bFind(7))  # 6\n",
    "print(bFind(23))  # 3\n",
    "print(bFind(10))  # -1"
   ]
  },
  {
   "cell_type": "code",
   "execution_count": 41,
   "id": "b76c42b4",
   "metadata": {},
   "outputs": [
    {
     "name": "stdout",
     "output_type": "stream",
     "text": [
      "1\n",
      "2\n",
      "6\n",
      "-1\n"
     ]
    }
   ],
   "source": [
    "# 만약 정렬이 되어 있다면??\n",
    "# nums = [4, 9, 11, 23, 2, 19, 7]\n",
    "nums = [2, 4, 7, 9, 11, 19, 23]\n",
    "N = 7\n",
    "\n",
    "def bFind(key):\n",
    "    l = 0\n",
    "    r = N - 1\n",
    "    \n",
    "    while l <= r:\n",
    "        m = (l + r) // 2\n",
    "        if key == nums[m]:\n",
    "            return m\n",
    "        if key > nums[m]:\n",
    "            l = m + 1\n",
    "        else:\n",
    "            r = m - 1\n",
    "    \n",
    "    return -1\n",
    "\n",
    "print(bFind(4))  # 1\n",
    "print(bFind(7))  # 2\n",
    "print(bFind(23))  # 6\n",
    "print(bFind(10))  # -1"
   ]
  },
  {
   "cell_type": "markdown",
   "id": "f2ebc9c2",
   "metadata": {},
   "source": [
    "## 선택정렬"
   ]
  },
  {
   "cell_type": "code",
   "execution_count": 52,
   "id": "3345adc2",
   "metadata": {},
   "outputs": [
    {
     "name": "stdout",
     "output_type": "stream",
     "text": [
      "phase1: [10, 25, 64, 22, 11]\n",
      "phase2: [10, 11, 64, 22, 25]\n",
      "phase3: [10, 11, 22, 64, 25]\n",
      "phase4: [10, 11, 22, 25, 64]\n"
     ]
    }
   ],
   "source": [
    "nums = [64, 25, 10, 22, 11]\n",
    "N = 5\n",
    "\n",
    "# 0: [10, 25, 64, 22, 11]\n",
    "# 1: [10, 11, 64, 22, 25]\n",
    "# 2: [10, 11, 22, 64, 25]\n",
    "# 3: [10, 11, 22, 25, 64]\n",
    "\n",
    "for s in range(N-1):\n",
    "    #최소를 구한다. s -> N-1\n",
    "    #curMin = nums[s]\n",
    "    curMinIdx = s\n",
    "    for idx in range(s, N):\n",
    "        if nums[curMinIdx] > nums[idx]:\n",
    "            curMinIdx = idx\n",
    "    nums[curMinIdx], nums[s] = nums[s], nums[curMinIdx]\n",
    "    print(f'phase{s+1}: {nums}')"
   ]
  },
  {
   "cell_type": "code",
   "execution_count": null,
   "id": "925f2b62",
   "metadata": {},
   "outputs": [],
   "source": []
  },
  {
   "cell_type": "markdown",
   "id": "89875d43",
   "metadata": {},
   "source": [
    "## 역순으로 선택정렬\n",
    "```\n",
    "nums = [64, 25, 10, 22, 11]\n",
    "N = 5\n",
    "\n",
    "N-1: [11, 25, 10, 22, 64]\n",
    "N-2: [11, 22, 10, 25, 64]\n",
    "N-3: [11, 10, 22, 25, 64]\n",
    "N-4: [10, 11, 22, 25, 64]\n",
    "```"
   ]
  },
  {
   "cell_type": "code",
   "execution_count": 48,
   "id": "6fcfade0",
   "metadata": {},
   "outputs": [
    {
     "name": "stdout",
     "output_type": "stream",
     "text": [
      "[11, 25, 10, 22, 64]\n",
      "[11, 22, 10, 25, 64]\n",
      "[11, 10, 22, 25, 64]\n",
      "[10, 11, 22, 25, 64]\n"
     ]
    }
   ],
   "source": [
    "nums = [64, 25, 10, 22, 11]\n",
    "N = 5\n",
    "\n",
    "for e in range(N-1, 0, -1):\n",
    "    curMinIdx = 0\n",
    "    for idx in range(1, e+1):\n",
    "        if nums[curMinIdx] < nums[idx]:\n",
    "            curMinIdx = idx\n",
    "    nums[curMinIdx], nums[e] = nums[e], nums[curMinIdx]\n",
    "    print(nums)\n"
   ]
  },
  {
   "cell_type": "markdown",
   "id": "384b9e79",
   "metadata": {},
   "source": [
    "## 버블정렬"
   ]
  },
  {
   "cell_type": "code",
   "execution_count": 60,
   "id": "4385aab7",
   "metadata": {},
   "outputs": [
    {
     "name": "stdout",
     "output_type": "stream",
     "text": [
      "[22, 11, 10, 25, 64]\n",
      "[22, 11, 10, 25, 64]\n",
      "[22, 11, 25, 10, 64]\n",
      "[22, 11, 25, 64, 10]\n",
      "=====\n",
      "[22, 11, 25, 64, 10]\n",
      "[22, 25, 11, 64, 10]\n",
      "[22, 25, 64, 11, 10]\n",
      "=====\n",
      "[25, 22, 64, 11, 10]\n",
      "[25, 64, 22, 11, 10]\n",
      "=====\n",
      "[64, 25, 22, 11, 10]\n",
      "=====\n"
     ]
    }
   ],
   "source": [
    "nums = [11, 22, 10, 25, 64]\n",
    "N = 5\n",
    "\n",
    "for phase in range(N-1, 0, -1):\n",
    "    for idx in range(phase):\n",
    "        if nums[idx] < nums[idx+1]:\n",
    "            nums[idx], nums[idx+1] = nums[idx+1], nums[idx]\n",
    "        print(nums)\n",
    "    print('=====')"
   ]
  }
 ],
 "metadata": {
  "kernelspec": {
   "display_name": "Python 3 (ipykernel)",
   "language": "python",
   "name": "python3"
  },
  "language_info": {
   "codemirror_mode": {
    "name": "ipython",
    "version": 3
   },
   "file_extension": ".py",
   "mimetype": "text/x-python",
   "name": "python",
   "nbconvert_exporter": "python",
   "pygments_lexer": "ipython3",
   "version": "3.9.13"
  }
 },
 "nbformat": 4,
 "nbformat_minor": 5
}
