{
 "cells": [
  {
   "cell_type": "markdown",
   "id": "93efadce",
   "metadata": {},
   "source": [
    "## DFS 실습\n",
    "### 단순히 지나온 경로만 볼때"
   ]
  },
  {
   "cell_type": "code",
   "execution_count": 7,
   "id": "e5bb920a",
   "metadata": {},
   "outputs": [],
   "source": [
    "N = 7\n",
    "S = '1, 2, 1, 3, 2, 4, 2, 5, 4, 6, 5, 6, 6, 7, 3, 7'"
   ]
  },
  {
   "cell_type": "code",
   "execution_count": 8,
   "id": "6628e118",
   "metadata": {},
   "outputs": [
    {
     "name": "stdout",
     "output_type": "stream",
     "text": [
      "[1, 2, 1, 3, 2, 4, 2, 5, 4, 6, 5, 6, 6, 7, 3, 7]\n"
     ]
    }
   ],
   "source": [
    "lst = list(map(int, S.split(', ')))\n",
    "print(lst)"
   ]
  },
  {
   "cell_type": "code",
   "execution_count": 9,
   "id": "bdceb1c5",
   "metadata": {},
   "outputs": [
    {
     "name": "stdout",
     "output_type": "stream",
     "text": [
      "[[], [2, 3], [1, 4, 5], [1, 7], [2, 6], [2, 6], [4, 5, 7], [6, 3]]\n"
     ]
    }
   ],
   "source": [
    "# G = [] * (N+1)  # 안됩니다.\n",
    "G = [[] for _ in range(N+1)]\n",
    "for idx in range(0, len(lst), 2):\n",
    "    v1 = lst[idx]\n",
    "    v2 = lst[idx+1]\n",
    "    G[v1].append(v2)\n",
    "    G[v2].append(v1)\n",
    "print(G)"
   ]
  },
  {
   "cell_type": "code",
   "execution_count": null,
   "id": "32fb744a",
   "metadata": {},
   "outputs": [],
   "source": [
    "# G = [[],[2, 3], [1, 4, 5], [1, 7], [2, 6], [2, 6], [4, 5, 7], [3, 6]]"
   ]
  },
  {
   "cell_type": "code",
   "execution_count": null,
   "id": "38eb2706",
   "metadata": {},
   "outputs": [],
   "source": [
    "def dfs(s):\n",
    "    ST = []\n",
    "    visited = [False] * (N+1)\n",
    "    ST.append(s)\n",
    "    while ST:\n",
    "        v = ST.pop()\n",
    "        if not visited[v]:\n",
    "            print(v)\n",
    "            visited[v] = True\n",
    "        for w in G[v]:\n",
    "            if not visited[w]:\n",
    "                ST.append(w)\n",
    "            "
   ]
  }
 ],
 "metadata": {
  "kernelspec": {
   "display_name": "Python 3 (ipykernel)",
   "language": "python",
   "name": "python3"
  },
  "language_info": {
   "codemirror_mode": {
    "name": "ipython",
    "version": 3
   },
   "file_extension": ".py",
   "mimetype": "text/x-python",
   "name": "python",
   "nbconvert_exporter": "python",
   "pygments_lexer": "ipython3",
   "version": "3.9.13"
  }
 },
 "nbformat": 4,
 "nbformat_minor": 5
}
