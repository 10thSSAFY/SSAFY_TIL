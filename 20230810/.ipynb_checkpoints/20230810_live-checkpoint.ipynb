{
 "cells": [
  {
   "cell_type": "code",
   "execution_count": 1,
   "id": "0f33c423",
   "metadata": {},
   "outputs": [
    {
     "name": "stdout",
     "output_type": "stream",
     "text": [
      "13\n"
     ]
    }
   ],
   "source": [
    "def fibo(n):\n",
    "    if n < 2:\n",
    "        return n\n",
    "    else:\n",
    "        return fibo(n-1) + fibo(n-2)\n",
    "    \n",
    "print(fibo(7))"
   ]
  },
  {
   "cell_type": "code",
   "execution_count": 2,
   "id": "ba9e8a03",
   "metadata": {},
   "outputs": [
    {
     "name": "stdout",
     "output_type": "stream",
     "text": [
      "832040 2692537\n"
     ]
    }
   ],
   "source": [
    "def fibo(n):\n",
    "    global cnt\n",
    "    cnt += 1\n",
    "    if n < 2:\n",
    "        return n\n",
    "    else:\n",
    "        return fibo(n-1) + fibo(n-2)\n",
    "    \n",
    "cnt = 0  # 함수 호출 수\n",
    "print(fibo(30), cnt)"
   ]
  },
  {
   "cell_type": "code",
   "execution_count": 3,
   "id": "d1565647",
   "metadata": {},
   "outputs": [
    {
     "name": "stdout",
     "output_type": "stream",
     "text": [
      "832040\n"
     ]
    }
   ],
   "source": [
    "def fibo(n):\n",
    "    if n < 2:\n",
    "        return memo[n]\n",
    "    else:\n",
    "        if memo[n] == 0:\n",
    "            memo[n] = fibo(n-1) + fibo(n-2)\n",
    "        return memo[n]\n",
    "\n",
    "N = 30\n",
    "memo = [0] * (N+1)\n",
    "memo[0] = 0\n",
    "memo[1] = 1\n",
    "print(fibo(N))"
   ]
  },
  {
   "cell_type": "code",
   "execution_count": 4,
   "id": "db5aec03",
   "metadata": {},
   "outputs": [
    {
     "name": "stdout",
     "output_type": "stream",
     "text": [
      "832040 59\n"
     ]
    }
   ],
   "source": [
    "def fibo(n):\n",
    "    global cnt\n",
    "    cnt += 1\n",
    "    if n < 2:\n",
    "        return memo[n]\n",
    "    else:\n",
    "        if memo[n] == 0:\n",
    "            memo[n] = fibo(n-1) + fibo(n-2)\n",
    "        return memo[n]\n",
    "\n",
    "N = 30\n",
    "memo = [0] * (N+1)\n",
    "memo[0] = 0\n",
    "memo[1] = 1\n",
    "\n",
    "cnt = 0\n",
    "print(fibo(N), cnt)"
   ]
  },
  {
   "cell_type": "code",
   "execution_count": 5,
   "id": "8d3019b3",
   "metadata": {},
   "outputs": [
    {
     "name": "stdout",
     "output_type": "stream",
     "text": [
      "354224848179261915075\n"
     ]
    }
   ],
   "source": [
    "def fibo(n):\n",
    "    dp = [0]*(n+1)\n",
    "    dp[0] = 0\n",
    "    dp[1] = 1\n",
    "    for i in range(2, n+1):\n",
    "        dp[i] = dp[i-1]+dp[i-2]\n",
    "    return dp[n]\n",
    "\n",
    "print(fibo(100))"
   ]
  },
  {
   "cell_type": "markdown",
   "id": "7e52806d",
   "metadata": {},
   "source": [
    "## DFS 깊이 우선 탐색\n",
    "- 시작 정점의 한 방향으로 갈 수 있는 경로가 있는 곳까지 깊이 탐색해 가다가 더 이상 갈 곳이 없게 되면, 가장 마지막에 만났던 갈림길 간선이 있는 정점으로 되돌아와서 다른 방향의 정점으로 탐색을 계속 반복하여 결국 모든 정점을 방문하는 순회방법\n",
    "- 가장 마지막에 만났던 갈림길의 정점으로 되돌아가서 다시 깊이 우선 탐색을 반복해야 하므로 후입선출 구조의 스택 사용"
   ]
  },
  {
   "cell_type": "markdown",
   "id": "bddb8c48",
   "metadata": {},
   "source": [
    "```\n",
    "visited[], stack[] 초기화\n",
    "DFS(v)\n",
    "    시작점 v 방문;\n",
    "    visited[v] <- true;\n",
    "    while {\n",
    "            if ( v 의 인접 정점 중 방문 안 한 정점 w가 있으면\n",
    "                push(v);\n",
    "                v <- w;\n",
    "                visited[w] <- true;\n",
    "            else\n",
    "                if (스택이 비어있지 않으면)\n",
    "                    v <- pop(stack);\n",
    "                else\n",
    "                    break\n",
    "           }\n",
    "end DFS()\n",
    "```"
   ]
  },
  {
   "cell_type": "markdown",
   "id": "847f4f22",
   "metadata": {},
   "source": [
    "## 실습하기\n",
    "```\n",
    "V, E\n",
    "v1, w1 v2, w2 ...\n",
    "7 8\n",
    "1 2 1 3 2 4 2 5 4 6 5 6 6 7 3 7\n",
    "```"
   ]
  },
  {
   "cell_type": "code",
   "execution_count": 14,
   "id": "7e2d7ea8",
   "metadata": {},
   "outputs": [
    {
     "name": "stdout",
     "output_type": "stream",
     "text": [
      "7 8\n",
      "1 2 1 3 2 4 2 5 4 6 5 6 6 7 3 7\n",
      "1\n",
      "2\n",
      "4\n",
      "6\n",
      "5\n",
      "7\n",
      "3\n"
     ]
    }
   ],
   "source": [
    "def dfs(n, V, adj_m):\n",
    "    stack = []  # stack 생성\n",
    "    visited = [0] * (V+1)  # visited 생성\n",
    "    visited[n] = 1  # 시작점 표시\n",
    "    print(n)  # do[n]\n",
    "    while True:\n",
    "        for w in range(1, V+1):\n",
    "            if adj_m[n][w] == 1 and visited[w] == 0:\n",
    "                stack.append(n)  # push(v), v = w\n",
    "                n = w\n",
    "                print(n)  # do(w)\n",
    "                visited[n] = 1  # w 방문 표시\n",
    "                break  # for w, n 에 인접한 w c 찾은 경우\n",
    "        else:\n",
    "            if stack:  # 스택에 지나온 정점이 남아있으면\n",
    "                n = stack.pop()  # pop()해서 다시 다른 w 찾기\n",
    "            else:  # 스택이 비어 있으면\n",
    "                break  # while True 탐색 끝\n",
    "\n",
    "\n",
    "V, E = map(int, input().split())\n",
    "arr = list(map(int, input().split()))\n",
    "adj_m = [[0]*(V+1) for _ in range(V+1)]\n",
    "for i in range(E):\n",
    "    v1, v2 = arr[i*2], arr[i*2+1]\n",
    "    adj_m[v1][v2] = 1\n",
    "    adj_m[v2][v1] = 1\n",
    "    \n",
    "dfs(1, V, adj_m)"
   ]
  },
  {
   "cell_type": "code",
   "execution_count": null,
   "id": "de89e47a",
   "metadata": {},
   "outputs": [],
   "source": []
  }
 ],
 "metadata": {
  "kernelspec": {
   "display_name": "Python 3 (ipykernel)",
   "language": "python",
   "name": "python3"
  },
  "language_info": {
   "codemirror_mode": {
    "name": "ipython",
    "version": 3
   },
   "file_extension": ".py",
   "mimetype": "text/x-python",
   "name": "python",
   "nbconvert_exporter": "python",
   "pygments_lexer": "ipython3",
   "version": "3.9.13"
  }
 },
 "nbformat": 4,
 "nbformat_minor": 5
}
