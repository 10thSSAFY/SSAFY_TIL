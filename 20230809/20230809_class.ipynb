{
 "cells": [
  {
   "cell_type": "markdown",
   "id": "a5b78337",
   "metadata": {},
   "source": [
    "# 스택"
   ]
  },
  {
   "cell_type": "code",
   "execution_count": 1,
   "id": "e27b0d4a",
   "metadata": {},
   "outputs": [],
   "source": [
    "# full이면 True\n",
    "# 아니면 False\n",
    "def isFull():\n",
    "    return top  == SIZE - 1\n",
    "# 입력이 불가능한 경우 -1을 return\n",
    "# 입력에 문제가 없는 경우 return top\n",
    "def push(item):\n",
    "    global top\n",
    "    if isFull():\n",
    "    # if top == SIZE - 1:  # 가득 찼으면\n",
    "        print('overflow')\n",
    "        return -1\n",
    "    top += 1\n",
    "    ST[top] = item\n",
    "\n",
    "SIZE = 10\n",
    "ST = [-1] * SIZE\n",
    "top = -1"
   ]
  },
  {
   "cell_type": "code",
   "execution_count": 2,
   "id": "c90f2e39",
   "metadata": {},
   "outputs": [],
   "source": [
    "# 입력이 불가능한 경우 -1을 return\n",
    "# 입력에 문제가 없는 경우 return top\n",
    "def push(item):\n",
    "    global top\n",
    "    if top == SIZE - 1:  # 가득 찼으면\n",
    "        print('overflow')\n",
    "        return -1\n",
    "    top += 1\n",
    "    ST[top] = item\n",
    "\n",
    "SIZE = 10\n",
    "ST = [-1] * SIZE\n",
    "top = -1"
   ]
  },
  {
   "cell_type": "code",
   "execution_count": 3,
   "id": "e2308c44",
   "metadata": {},
   "outputs": [],
   "source": [
    "# 스택이 비어 있으면 -1\n",
    "# 아니면 top 위치에 있는 item을 return\n",
    "def pop():\n",
    "    top -= 1\n",
    "    return ST[top + 1]"
   ]
  },
  {
   "cell_type": "code",
   "execution_count": 4,
   "id": "922e69fb",
   "metadata": {},
   "outputs": [],
   "source": [
    "# 스택이 비어 있으면 -1\n",
    "# 아니면 top 위치에 있는 item을 return\n",
    "def pop():\n",
    "    if top == -1:\n",
    "        print('underflow')\n",
    "        return -1\n",
    "    result = ST[top]\n",
    "    top -= 1\n",
    "    return result"
   ]
  },
  {
   "cell_type": "code",
   "execution_count": 5,
   "id": "2df28b49",
   "metadata": {},
   "outputs": [],
   "source": [
    "# 스택이 비어 있으면 -1\n",
    "# 아니면 top 위치에 있는 item을 return\n",
    "def pop():\n",
    "    if top == -1:\n",
    "        print('underflow')\n",
    "        return -1\n",
    "    result = ST[top]\n",
    "    top -= 1\n",
    "    return result"
   ]
  },
  {
   "cell_type": "code",
   "execution_count": 6,
   "id": "b1d148fe",
   "metadata": {},
   "outputs": [
    {
     "name": "stdout",
     "output_type": "stream",
     "text": [
      "[4, 5, 6, 10, -1, -1, -1, -1, -1, -1]\n",
      "10 2\n"
     ]
    }
   ],
   "source": [
    "def push(item):\n",
    "    global top\n",
    "    if top == SIZE - 1:\n",
    "        print('overflow')\n",
    "        return -1\n",
    "    top += 1\n",
    "    ST[top] = item\n",
    "\n",
    "SIZE = 10\n",
    "ST = [-1] * SIZE\n",
    "top = -1\n",
    "\n",
    "def pop():\n",
    "    global top\n",
    "    if top == -1:\n",
    "        print('underflow')\n",
    "        return -1\n",
    "    result = ST[top]\n",
    "    top -= 1\n",
    "    return result\n",
    "\n",
    "SIZE = 10\n",
    "ST = [-1] * SIZE\n",
    "top = -1\n",
    "lst = [4, 5, 6, 10]\n",
    "\n",
    "for d in lst:\n",
    "    push(d)\n",
    "    \n",
    "print(ST)  # [4, 5, 6, 10, -1, -1, -1, -1, -1, -1]\n",
    "print(pop(), top)  # 10, 2  /  [4, 5, 6, 10, -1, -1, -1, -1, -1, -1]"
   ]
  },
  {
   "cell_type": "markdown",
   "id": "562ad3d6",
   "metadata": {},
   "source": [
    "그냥 append와 pop 쓰는걸로 가자"
   ]
  },
  {
   "cell_type": "code",
   "execution_count": 1,
   "id": "40488941",
   "metadata": {},
   "outputs": [
    {
     "name": "stdout",
     "output_type": "stream",
     "text": [
      "10\n"
     ]
    }
   ],
   "source": [
    "lst = [4, 5, 6, 10]\n",
    "ST_P = []\n",
    "for d in lst:\n",
    "     ST_P.append(d)\n",
    "if len(ST_P) > 0:\n",
    "    print(ST_P.pop())\n",
    "    \n",
    "'''\n",
    "if ST_P:\n",
    "    print(ST_P.pop())\n",
    "'''"
   ]
  },
  {
   "cell_type": "code",
   "execution_count": 4,
   "id": "2c9963ca",
   "metadata": {},
   "outputs": [
    {
     "name": "stdout",
     "output_type": "stream",
     "text": [
      "3\n",
      "2\n",
      "1\n"
     ]
    }
   ],
   "source": [
    "def func3():\n",
    "    n = 3\n",
    "    print(3)\n",
    "    return\n",
    "\n",
    "def func2():\n",
    "    n = 2\n",
    "    func3()\n",
    "    print(2)\n",
    "    return\n",
    "\n",
    "def func1():\n",
    "    n = 1\n",
    "    func2()\n",
    "    print(1)\n",
    "    return\n",
    "\n",
    "n = 0\n",
    "func1()"
   ]
  },
  {
   "cell_type": "code",
   "execution_count": 5,
   "id": "bc6de805",
   "metadata": {},
   "outputs": [
    {
     "data": {
      "text/plain": [
       "120"
      ]
     },
     "execution_count": 5,
     "metadata": {},
     "output_type": "execute_result"
    }
   ],
   "source": [
    "def factorial(n):\n",
    "    if n == 1:\n",
    "        return 1\n",
    "    result = n * factorial(n-1)\n",
    "    return result\n",
    "\n",
    "factorial(5)"
   ]
  },
  {
   "cell_type": "code",
   "execution_count": 6,
   "id": "d90123f7",
   "metadata": {},
   "outputs": [
    {
     "name": "stdout",
     "output_type": "stream",
     "text": [
      "5\n"
     ]
    }
   ],
   "source": [
    "def fib(n):\n",
    "    if memo[n] != -1:\n",
    "        return memo[n]\n",
    "\n",
    "    if n <= 1:\n",
    "        memo[n] = n\n",
    "        return n\n",
    "\n",
    "    v1 = fib(n-1)\n",
    "    v2 = fib(n-2)\n",
    "    memo[n] = v1 + v2\n",
    "    return memo[n]\n",
    "\n",
    "N = 5\n",
    "memo = [-1] * (N+1)\n",
    "print(fib(N))"
   ]
  },
  {
   "cell_type": "code",
   "execution_count": 7,
   "id": "63a997b7",
   "metadata": {},
   "outputs": [
    {
     "name": "stdout",
     "output_type": "stream",
     "text": [
      "5\n"
     ]
    }
   ],
   "source": [
    "def fib(n):\n",
    "    if memo[n] != -1:\n",
    "        return memo[n]\n",
    "\n",
    "    v1 = fib(n-1)\n",
    "    v2 = fib(n-2)\n",
    "    memo[n] = v1 + v2\n",
    "    return memo[n]\n",
    "\n",
    "N = 5\n",
    "memo = [-1] * (N+1)\n",
    "memo[0] = 0\n",
    "memo[1] = 1\n",
    "print(fib(N))"
   ]
  },
  {
   "cell_type": "code",
   "execution_count": null,
   "id": "d79d825e",
   "metadata": {},
   "outputs": [],
   "source": []
  }
 ],
 "metadata": {
  "kernelspec": {
   "display_name": "Python 3 (ipykernel)",
   "language": "python",
   "name": "python3"
  },
  "language_info": {
   "codemirror_mode": {
    "name": "ipython",
    "version": 3
   },
   "file_extension": ".py",
   "mimetype": "text/x-python",
   "name": "python",
   "nbconvert_exporter": "python",
   "pygments_lexer": "ipython3",
   "version": "3.9.13"
  }
 },
 "nbformat": 4,
 "nbformat_minor": 5
}
