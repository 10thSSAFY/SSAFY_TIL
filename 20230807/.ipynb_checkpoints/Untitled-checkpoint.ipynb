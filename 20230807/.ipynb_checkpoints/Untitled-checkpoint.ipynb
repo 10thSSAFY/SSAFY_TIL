{
 "cells": [
  {
   "cell_type": "code",
   "execution_count": 1,
   "id": "84d0f0dc",
   "metadata": {},
   "outputs": [
    {
     "name": "stdout",
     "output_type": "stream",
     "text": [
      "2 <class 'str'>\n"
     ]
    }
   ],
   "source": [
    "def itoa(int_value):\n",
    "    return chr(int_value + 48)\n",
    "\n",
    "t = itoa(2)\n",
    "print(t, type(t))"
   ]
  },
  {
   "cell_type": "code",
   "execution_count": 9,
   "id": "93074ed1",
   "metadata": {},
   "outputs": [
    {
     "name": "stdout",
     "output_type": "stream",
     "text": [
      "7 256 7\n",
      "6 25 76\n",
      "5 2 765\n",
      "2 0 7652\n",
      "2 <class 'str'>\n"
     ]
    }
   ],
   "source": [
    "def itoa(int_value):\n",
    "    temp = int_value\n",
    "    s = ''\n",
    "    while temp > 0:\n",
    "        one = temp % 10\n",
    "        s = s + chr(one + ord('0'))\n",
    "        temp = temp // 10\n",
    "        print(one, temp, s)\n",
    "    return chr(one + ord('0'))\n",
    "\n",
    "t = itoa(2567)\n",
    "print(t, type(t))"
   ]
  },
  {
   "cell_type": "code",
   "execution_count": 11,
   "id": "e4989a05",
   "metadata": {},
   "outputs": [
    {
     "name": "stdout",
     "output_type": "stream",
     "text": [
      "7 256 7\n",
      "6 25 67\n",
      "5 2 567\n",
      "2 0 2567\n",
      "2 <class 'str'>\n"
     ]
    }
   ],
   "source": [
    "def itoa(int_value):\n",
    "    temp = int_value\n",
    "    s = ''\n",
    "    while temp > 0:\n",
    "        one = temp % 10\n",
    "        s = chr(one + ord('0')) + s\n",
    "        temp = temp // 10\n",
    "        print(one, temp, s)\n",
    "    return chr(one + ord('0'))\n",
    "\n",
    "t = itoa(2567)\n",
    "print(t, type(t))"
   ]
  },
  {
   "cell_type": "code",
   "execution_count": 16,
   "id": "df1d77c8",
   "metadata": {},
   "outputs": [
    {
     "name": "stdout",
     "output_type": "stream",
     "text": [
      "2567\n"
     ]
    }
   ],
   "source": [
    "def itoa(int_value):\n",
    "    temp = int_value\n",
    "    s = ''\n",
    "    while temp > 0:\n",
    "        one = temp % 10\n",
    "        s = chr(one + ord('0')) + s\n",
    "        temp = temp // 10\n",
    "        #print(one, temp, s)\n",
    "    return s\n",
    "\n",
    "t = itoa(2567)\n",
    "print(t)"
   ]
  },
  {
   "cell_type": "code",
   "execution_count": 18,
   "id": "3cb2cb65",
   "metadata": {},
   "outputs": [
    {
     "ename": "NameError",
     "evalue": "name 'ragne' is not defined",
     "output_type": "error",
     "traceback": [
      "\u001b[1;31m---------------------------------------------------------------------------\u001b[0m",
      "\u001b[1;31mNameError\u001b[0m                                 Traceback (most recent call last)",
      "Cell \u001b[1;32mIn[18], line 8\u001b[0m\n\u001b[0;32m      4\u001b[0m         value \u001b[38;5;241m=\u001b[39m value \u001b[38;5;241m*\u001b[39m \u001b[38;5;241m10\u001b[39m \u001b[38;5;241m+\u001b[39m c\n\u001b[0;32m      5\u001b[0m     \u001b[38;5;28;01mreturn\u001b[39;00m value\n\u001b[1;32m----> 8\u001b[0m t \u001b[38;5;241m=\u001b[39m \u001b[43matoi\u001b[49m\u001b[43m(\u001b[49m\u001b[38;5;124;43m'\u001b[39;49m\u001b[38;5;124;43m4567\u001b[39;49m\u001b[38;5;124;43m'\u001b[39;49m\u001b[43m)\u001b[49m\n\u001b[0;32m      9\u001b[0m \u001b[38;5;28mprint\u001b[39m(t, \u001b[38;5;28mtype\u001b[39m(t))\n",
      "Cell \u001b[1;32mIn[18], line 2\u001b[0m, in \u001b[0;36matoi\u001b[1;34m(str_value)\u001b[0m\n\u001b[0;32m      1\u001b[0m \u001b[38;5;28;01mdef\u001b[39;00m \u001b[38;5;21matoi\u001b[39m(str_value):\n\u001b[1;32m----> 2\u001b[0m     \u001b[38;5;28;01mfor\u001b[39;00m i \u001b[38;5;129;01min\u001b[39;00m \u001b[43mragne\u001b[49m(\u001b[38;5;28mlen\u001b[39m(str_value)):\n\u001b[0;32m      3\u001b[0m         c \u001b[38;5;241m=\u001b[39m \u001b[38;5;28mord\u001b[39m(str_value[i]) \u001b[38;5;241m-\u001b[39m \u001b[38;5;241m0x30\u001b[39m\n\u001b[0;32m      4\u001b[0m         value \u001b[38;5;241m=\u001b[39m value \u001b[38;5;241m*\u001b[39m \u001b[38;5;241m10\u001b[39m \u001b[38;5;241m+\u001b[39m c\n",
      "\u001b[1;31mNameError\u001b[0m: name 'ragne' is not defined"
     ]
    }
   ],
   "source": [
    "def atoi(str_value):\n",
    "    value = 0\n",
    "    for i in ragne(len(str_value)):\n",
    "        c = ord(str_value[i]) - 0x30\n",
    "        value = value * 10 + c\n",
    "    return value\n",
    "    \n",
    "\n",
    "t = atoi('4567')\n",
    "print(t, type(t))\n"
   ]
  }
 ],
 "metadata": {
  "kernelspec": {
   "display_name": "Python 3 (ipykernel)",
   "language": "python",
   "name": "python3"
  },
  "language_info": {
   "codemirror_mode": {
    "name": "ipython",
    "version": 3
   },
   "file_extension": ".py",
   "mimetype": "text/x-python",
   "name": "python",
   "nbconvert_exporter": "python",
   "pygments_lexer": "ipython3",
   "version": "3.9.13"
  }
 },
 "nbformat": 4,
 "nbformat_minor": 5
}
