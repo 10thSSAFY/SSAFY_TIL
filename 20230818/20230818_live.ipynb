{
 "cells": [
  {
   "cell_type": "code",
   "execution_count": 9,
   "id": "9514be9d",
   "metadata": {},
   "outputs": [
    {
     "name": "stdout",
     "output_type": "stream",
     "text": [
      "1 2\n",
      "1 3\n",
      "1 4\n",
      "2 5\n",
      "2 6\n",
      "4 7\n",
      "4 8\n",
      "4 9\n",
      "[2, 3, 4]\n",
      "[3, 4, 5, 6]\n",
      "[4, 5, 6]\n",
      "[5, 6, 7, 8, 9]\n",
      "[6, 7, 8, 9]\n",
      "[7, 8, 9]\n",
      "[8, 9]\n",
      "[9]\n",
      "[]\n"
     ]
    }
   ],
   "source": [
    "def BFS(start, goal):\n",
    "    visited = [False] * 10\n",
    "    queue = [start]\n",
    "    while queue:\n",
    "        v = queue.pop(0)\n",
    "        if not visited[v]:\n",
    "            visited[v] = True\n",
    "            for w in graph[v]:\n",
    "                if not visited[w]:\n",
    "                    queue.append(w)\n",
    "        print(queue)\n",
    "                \n",
    "graph = [[] for _ in range(10)]\n",
    "for _ in range(8):\n",
    "    s, e = map(int, input().split())\n",
    "    graph[s].append(e)\n",
    "BFS(1, 9)\n"
   ]
  },
  {
   "cell_type": "markdown",
   "id": "f802f6df",
   "metadata": {},
   "source": [
    "#### 실습"
   ]
  },
  {
   "cell_type": "markdown",
   "id": "354f9919",
   "metadata": {},
   "source": [
    "```\n",
    "7 8\n",
    "1 2 1 3 2 4 2 5 4 6 5 6 6 7 3 7\n",
    "```"
   ]
  },
  {
   "cell_type": "code",
   "execution_count": 15,
   "id": "e1f446b7",
   "metadata": {},
   "outputs": [
    {
     "name": "stdout",
     "output_type": "stream",
     "text": [
      "7 8\n",
      "1 2 1 3 2 4 2 5 4 6 5 6 6 7 3 7\n",
      "1\n",
      "2\n",
      "3\n",
      "4\n",
      "5\n",
      "7\n",
      "6\n"
     ]
    }
   ],
   "source": [
    "def bfs(s, V):  # 시작정점 s, 마지막 정점 v\n",
    "    visited = [0] * (V+1)  # visited 생성\n",
    "    q = []  # 큐 생성\n",
    "    q.append(s)  # 시작점 인큐\n",
    "    visited[s] = 1  # 시작점 방문 표시\n",
    "    while q:  # 큐에 정점이 남아 잇으면 front != rear\n",
    "        t = q.pop(0)  # 디큐\n",
    "        print(t)  # 방문한 정점에서 할 일\n",
    "        for w in adj_l[t]:  # 인접한 정점 중 인큐되지 않은 정점 w가 있으면\n",
    "            if visited[w] == 0:\n",
    "                q.append(w)  # w인큐, 인큐되었음을 표시\n",
    "                visited[w] = visited[t] + 1\n",
    "                \n",
    "    \n",
    "V, E = map(int, input().split())  # 1번부터 V번 정점, E개의 간선\n",
    "arr = list(map(int, input().split()))\n",
    "# 인접리스트 ---------------------------\n",
    "adj_l = [[] for _ in range(V+1)]\n",
    "for i in range(E):\n",
    "    v1, v2 = arr[i*2], arr[i*2+1]\n",
    "    adj_l[v1].append(v2)\n",
    "    adj_l[v2].append(v1)\n",
    "# 여기까지 인접 리스트 -----------------\n",
    "bfs(1, 7)"
   ]
  },
  {
   "cell_type": "markdown",
   "id": "d8bd481f",
   "metadata": {},
   "source": [
    "```\n",
    "7 8\n",
    "1 2 1 3 2 4 2 5 4 6 5 6 6 7 3 7\n",
    "```"
   ]
  },
  {
   "cell_type": "code",
   "execution_count": 17,
   "id": "d5af0748",
   "metadata": {},
   "outputs": [
    {
     "name": "stdout",
     "output_type": "stream",
     "text": [
      "7 8\n",
      "1 2 1 3 2 4 2 5 4 6 5 6 6 7 3 7\n"
     ]
    },
    {
     "ename": "TypeError",
     "evalue": "pop expected at most 1 argument, got 2",
     "output_type": "error",
     "traceback": [
      "\u001b[1;31m---------------------------------------------------------------------------\u001b[0m",
      "\u001b[1;31mTypeError\u001b[0m                                 Traceback (most recent call last)",
      "Cell \u001b[1;32mIn[17], line 24\u001b[0m\n\u001b[0;32m     21\u001b[0m     adj_m[v1][v2] \u001b[38;5;241m=\u001b[39m \u001b[38;5;241m1\u001b[39m\n\u001b[0;32m     22\u001b[0m     adj_m[v2][v1] \u001b[38;5;241m=\u001b[39m \u001b[38;5;241m1\u001b[39m\n\u001b[1;32m---> 24\u001b[0m \u001b[43mbfs\u001b[49m\u001b[43m(\u001b[49m\u001b[38;5;241;43m2\u001b[39;49m\u001b[43m,\u001b[49m\u001b[43m \u001b[49m\u001b[43mV\u001b[49m\u001b[43m)\u001b[49m\n",
      "Cell \u001b[1;32mIn[17], line 7\u001b[0m, in \u001b[0;36mbfs\u001b[1;34m(s, V)\u001b[0m\n\u001b[0;32m      5\u001b[0m visited[s] \u001b[38;5;241m=\u001b[39m \u001b[38;5;241m1\u001b[39m\n\u001b[0;32m      6\u001b[0m \u001b[38;5;28;01mwhile\u001b[39;00m q:\n\u001b[1;32m----> 7\u001b[0m     t \u001b[38;5;241m=\u001b[39m \u001b[43mq\u001b[49m\u001b[38;5;241;43m.\u001b[39;49m\u001b[43mpop\u001b[49m\u001b[43m(\u001b[49m\u001b[38;5;241;43m1\u001b[39;49m\u001b[43m,\u001b[49m\u001b[43m \u001b[49m\u001b[43mV\u001b[49m\u001b[38;5;241;43m+\u001b[39;49m\u001b[38;5;241;43m1\u001b[39;49m\u001b[43m)\u001b[49m\n\u001b[0;32m      8\u001b[0m     \u001b[38;5;28mprint\u001b[39m(t)\n\u001b[0;32m      9\u001b[0m     \u001b[38;5;28;01mfor\u001b[39;00m w \u001b[38;5;129;01min\u001b[39;00m adj_l[t]:\n",
      "\u001b[1;31mTypeError\u001b[0m: pop expected at most 1 argument, got 2"
     ]
    }
   ],
   "source": [
    "def bfs(s, V):  # 시작정점 s, 마지막 정점 v\n",
    "    visited = [0] * (V+1)\n",
    "    q = []\n",
    "    q.append(s)\n",
    "    visited[s] = 1\n",
    "    while q:\n",
    "        t = q.pop(1, V+1)\n",
    "        print(t)\n",
    "        for w in adj_l[t]:\n",
    "            if adj_m[t][w] == 1 and visited[w] == 0:\n",
    "                q.append(w)\n",
    "                visited[w] = visited[t] + 1\n",
    "                \n",
    "    \n",
    "V, E = map(int, input().split())\n",
    "arr = list(map(int, input().split()))\n",
    "# 인접리스트 ---------------------------\n",
    "adj_m = [[0]*(V+1) for _ in range(V+1)]\n",
    "for i in range(E):\n",
    "    v1, v2 = arr[i*2], arr[i*2+1]\n",
    "    adj_m[v1][v2] = 1\n",
    "    adj_m[v2][v1] = 1\n",
    "    \n",
    "bfs(2, V)"
   ]
  }
 ],
 "metadata": {
  "kernelspec": {
   "display_name": "Python 3 (ipykernel)",
   "language": "python",
   "name": "python3"
  },
  "language_info": {
   "codemirror_mode": {
    "name": "ipython",
    "version": 3
   },
   "file_extension": ".py",
   "mimetype": "text/x-python",
   "name": "python",
   "nbconvert_exporter": "python",
   "pygments_lexer": "ipython3",
   "version": "3.9.13"
  }
 },
 "nbformat": 4,
 "nbformat_minor": 5
}
