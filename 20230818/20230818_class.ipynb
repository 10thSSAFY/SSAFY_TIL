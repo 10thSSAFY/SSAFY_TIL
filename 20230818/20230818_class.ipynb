{
 "cells": [
  {
   "cell_type": "markdown",
   "id": "17bd23cd",
   "metadata": {},
   "source": [
    "```\n",
    "Queue\n",
    "[]\n",
    "[4]\n",
    "[2, 6]  =>  4\n",
    "[6, 1, 5]  =>  2\n",
    "[1, 5, 7]  =>  6\n",
    "[5, 7, 3]  =>  1\n",
    "[7, 3]  =>  5\n",
    "[3]  =>  7\n",
    "[]  =>  3\n",
    "4 - 2 - 6 - 1 - 5 - 7 - 3\n",
    "```"
   ]
  },
  {
   "cell_type": "code",
   "execution_count": 3,
   "id": "18f77082",
   "metadata": {},
   "outputs": [],
   "source": [
    "s = '1, 2, 1, 3, 2, 4, 2, 5, 4, 6, 5, 6, 6, 7, 3, 7'\n",
    "lst = list(map(int, s.split(', ')))"
   ]
  },
  {
   "cell_type": "markdown",
   "id": "6d6ea020",
   "metadata": {},
   "source": [
    "```\n",
    "lst: [1, 2, 1, 3, 2, 4, 2, 5, 4, 6, 5, 6, 6, 7, 3, 7]\n",
    "```"
   ]
  },
  {
   "cell_type": "code",
   "execution_count": 10,
   "id": "14798a44",
   "metadata": {},
   "outputs": [],
   "source": [
    "N = 7\n",
    "G = [[] * (N+1) for _ in range(N+1)]"
   ]
  },
  {
   "cell_type": "markdown",
   "id": "84bd6f0f",
   "metadata": {},
   "source": [
    "```\n",
    "G: [[], [], [], [], [], [], [], []]\n",
    "```"
   ]
  },
  {
   "cell_type": "code",
   "execution_count": 11,
   "id": "0fbbd621",
   "metadata": {},
   "outputs": [],
   "source": [
    "for i in range(0, len(lst), 2):\n",
    "    v1 = lst[i]\n",
    "    v2 = lst[i+1]\n",
    "    G[v1].append(v2)\n",
    "    G[v2].append(v1)"
   ]
  },
  {
   "cell_type": "markdown",
   "id": "173c1d8c",
   "metadata": {},
   "source": [
    "```\n",
    "G: [[], [2, 2, 3], [1, 4, 5], [1, 7], [2, 6], [2, 6], [4, 5, 7], [6, 3]]\n",
    "```"
   ]
  },
  {
   "cell_type": "code",
   "execution_count": 16,
   "id": "cf34848c",
   "metadata": {},
   "outputs": [
    {
     "name": "stdout",
     "output_type": "stream",
     "text": [
      "4\n",
      "2\n",
      "6\n",
      "1\n",
      "5\n",
      "7\n",
      "3\n"
     ]
    }
   ],
   "source": [
    "def bfs(s):\n",
    "    Q = []\n",
    "    visited = [False] * (N+1)\n",
    "    \n",
    "    Q.append(s)\n",
    "    while Q:\n",
    "        v = Q.pop(0)\n",
    "        if not visited[v]:\n",
    "            print(v)\n",
    "            visited[v] = True\n",
    "        for w in G[v]:\n",
    "            if not visited[w]:\n",
    "                Q.append(w)\n",
    "bfs(4)"
   ]
  },
  {
   "cell_type": "code",
   "execution_count": 17,
   "id": "a99e7a95",
   "metadata": {},
   "outputs": [
    {
     "name": "stdout",
     "output_type": "stream",
     "text": [
      "4\n",
      "2\n",
      "6\n",
      "1\n",
      "5\n",
      "7\n",
      "3\n"
     ]
    }
   ],
   "source": [
    "def bfs(s):\n",
    "    Q = []\n",
    "    visited = [False] * (N+1)\n",
    "    \n",
    "    Q.append(s)\n",
    "    while Q:\n",
    "        v = Q.pop(0)\n",
    "        if not visited[v]:\n",
    "            print(v)\n",
    "            visited[v] = True\n",
    "            for w in G[v]:\n",
    "                if not visited[w]:\n",
    "                    Q.append(w)\n",
    "bfs(4)"
   ]
  },
  {
   "cell_type": "code",
   "execution_count": 21,
   "id": "e22494b8",
   "metadata": {
    "scrolled": true
   },
   "outputs": [
    {
     "name": "stdout",
     "output_type": "stream",
     "text": [
      "4\n",
      "2\n",
      "6\n",
      "1\n",
      "5\n",
      "7\n",
      "3\n"
     ]
    }
   ],
   "source": [
    "def bfs(s):\n",
    "    Q = []\n",
    "    visited = [False] * (N+1)\n",
    "    \n",
    "    Q.append(s)\n",
    "    visited[s] = True\n",
    "    while Q:\n",
    "        v = Q.pop(0)\n",
    "        print(v)\n",
    "        for w in G[v]:\n",
    "            if not visited[w]:\n",
    "                Q.append(w)\n",
    "                visited[w] = True\n",
    "bfs(4)"
   ]
  },
  {
   "cell_type": "code",
   "execution_count": 30,
   "id": "573453da",
   "metadata": {},
   "outputs": [
    {
     "name": "stdout",
     "output_type": "stream",
     "text": [
      "4\n",
      "6\n",
      "7\n",
      "3\n",
      "1\n",
      "5\n",
      "4\n",
      "2\n"
     ]
    }
   ],
   "source": [
    "# DEF 기억하십니까\n",
    "\n",
    "def dfs(s):\n",
    "    ST = []\n",
    "    visited = [False] * (N+1)\n",
    "    ST.append(s)\n",
    "    while ST:\n",
    "        v = ST.pop()\n",
    "        print(v)\n",
    "        for w in G[v]:\n",
    "            if not visited[w]:\n",
    "                ST.append(w)\n",
    "                visited[w] = True\n",
    "dfs(4)"
   ]
  },
  {
   "cell_type": "code",
   "execution_count": 36,
   "id": "b8e2a220",
   "metadata": {},
   "outputs": [
    {
     "name": "stdout",
     "output_type": "stream",
     "text": [
      "4\n",
      "2\n",
      "6\n",
      "1\n",
      "5\n",
      "7\n",
      "3\n",
      "[0, 3, 2, 4, 1, 3, 2, 3]\n"
     ]
    }
   ],
   "source": [
    "def bfs(s):\n",
    "    Q = []\n",
    "    visited = [0] * (N+1)\n",
    "    Q.append(s)\n",
    "    visited[s] = 1\n",
    "    while Q:\n",
    "        v = Q.pop(0)\n",
    "        print(v)\n",
    "        for w in G[v]:\n",
    "            if visited[w] == 0:\n",
    "                Q.append(w)\n",
    "                visited[w] = visited[v] + 1\n",
    "    print(visited)\n",
    "\n",
    "bfs(4)"
   ]
  },
  {
   "cell_type": "markdown",
   "id": "dea6431d",
   "metadata": {},
   "source": [
    "```\n",
    "Q = []\n",
    "Q = [1]\n",
    "Q = [] ,  v = 1\n",
    "visited[1] = True,  visted: [False, True, False, False, False, False, False, False]\n",
    "while w in [2, 2, 3]:\n",
    "    v = 2, w = [2, 3]\n",
    "    v = 2, w = [3]\n",
    "    v = 3, w = []\n",
    "```"
   ]
  }
 ],
 "metadata": {
  "kernelspec": {
   "display_name": "Python 3 (ipykernel)",
   "language": "python",
   "name": "python3"
  },
  "language_info": {
   "codemirror_mode": {
    "name": "ipython",
    "version": 3
   },
   "file_extension": ".py",
   "mimetype": "text/x-python",
   "name": "python",
   "nbconvert_exporter": "python",
   "pygments_lexer": "ipython3",
   "version": "3.9.13"
  }
 },
 "nbformat": 4,
 "nbformat_minor": 5
}
