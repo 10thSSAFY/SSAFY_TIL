{
 "cells": [
  {
   "cell_type": "markdown",
   "id": "aad5aad4",
   "metadata": {},
   "source": [
    "### 비트 연산 예제2"
   ]
  },
  {
   "cell_type": "code",
   "execution_count": 3,
   "id": "e5cccaae",
   "metadata": {},
   "outputs": [
    {
     "name": "stdout",
     "output_type": "stream",
     "text": [
      "16 = 00010000 \n",
      "01020304 = 00000100 00000011 00000010 00000001 "
     ]
    }
   ],
   "source": [
    "def Bbit_print(i):\n",
    "    output = ''\n",
    "    for j in range(7, -1, -1):\n",
    "        output += '1' if i & (1 << j) else '0'\n",
    "    print(output, end=' ')\n",
    "a = 0x10\n",
    "x = 0x01020304\n",
    "print('%d = ' % a, end='')\n",
    "Bbit_print(a)\n",
    "print()\n",
    "print('0%X = ' % x, end='')\n",
    "for i in range(0, 4):\n",
    "    Bbit_print((x >> i*8) & 0xff)"
   ]
  },
  {
   "cell_type": "markdown",
   "id": "5a069965",
   "metadata": {},
   "source": [
    "### 엔디안 확인 코드"
   ]
  },
  {
   "cell_type": "code",
   "execution_count": 4,
   "id": "ae2401f7",
   "metadata": {},
   "outputs": [
    {
     "name": "stdout",
     "output_type": "stream",
     "text": [
      "little\n"
     ]
    }
   ],
   "source": [
    "import sys\n",
    "print(sys.byteorder)"
   ]
  },
  {
   "cell_type": "markdown",
   "id": "3840dc8b",
   "metadata": {},
   "source": [
    "### 비트 연산 예제 3"
   ]
  },
  {
   "cell_type": "code",
   "execution_count": 6,
   "id": "30dcafd6",
   "metadata": {},
   "outputs": [
    {
     "name": "stdout",
     "output_type": "stream",
     "text": [
      "x = 4321\n",
      "x = 1234\n"
     ]
    }
   ],
   "source": [
    "def ce(n):  # change endian\n",
    "    p = []\n",
    "    for i in range(0, 4):\n",
    "        p.append((n >> (24 - i*8)) & 0xff)\n",
    "    return p\n",
    "\n",
    "x = 0x01020304\n",
    "p = []\n",
    "for i in range(0, 4):\n",
    "    p.append((x >> (i*8)) & 0xff)\n",
    "    \n",
    "print('x = %d%d%d%d' %(p[0], p[1], p[2], p[3]))\n",
    "p = ce(x)\n",
    "print('x = %d%d%d%d' %(p[0], p[1], p[2], p[3]))"
   ]
  },
  {
   "cell_type": "code",
   "execution_count": 8,
   "id": "6e2d8346",
   "metadata": {},
   "outputs": [
    {
     "name": "stdout",
     "output_type": "stream",
     "text": [
      "x = 04030201\n",
      "x = 01020304\n"
     ]
    }
   ],
   "source": [
    "def ce(n):  # change endian\n",
    "    p = []\n",
    "    for i in range(0, 4):\n",
    "        p.append((n >> (24 - i*8)) & 0xff)\n",
    "    return p\n",
    "\n",
    "x = 0x01020304\n",
    "p = []\n",
    "for i in range(0, 4):\n",
    "    p.append((x >> (i*8)) & 0xff)\n",
    "    \n",
    "print('x = %02x%02x%02x%02x' %(p[0], p[1], p[2], p[3]))\n",
    "p = ce(x)\n",
    "print('x = %02x%02x%02x%02x' %(p[0], p[1], p[2], p[3]))"
   ]
  },
  {
   "cell_type": "markdown",
   "id": "65a5e2df",
   "metadata": {},
   "source": [
    "### 비트 연산 예제 4"
   ]
  },
  {
   "cell_type": "code",
   "execution_count": 13,
   "id": "496773e7",
   "metadata": {},
   "outputs": [
    {
     "name": "stdout",
     "output_type": "stream",
     "text": [
      "0x4030201\n"
     ]
    }
   ],
   "source": [
    "def ce1(n):\n",
    "    return (n << 24 & 0xff000000) | (n << 8 & 0xff0000) |\\\n",
    "            (n >> 8 & 0xff00) | (n >> 24 & 0xff)\n",
    "\n",
    "x = 0x01020304\n",
    "p = []\n",
    "for i in range(0, 4):\n",
    "    p.append((x >> (i*8)) & 0xff)\n",
    "    \n",
    "print(hex(ce1(x)))"
   ]
  },
  {
   "cell_type": "markdown",
   "id": "99d494d5",
   "metadata": {},
   "source": [
    "### 비트 연산 예제 5"
   ]
  },
  {
   "cell_type": "code",
   "execution_count": 18,
   "id": "5f2d1f8b",
   "metadata": {},
   "outputs": [
    {
     "name": "stdout",
     "output_type": "stream",
     "text": [
      "a      ==> 10000110\n",
      "a^=key ==> 00101100\n",
      "a^=key ==> 10000110\n"
     ]
    }
   ],
   "source": [
    "def Bbit_print(i):\n",
    "    output = ''\n",
    "    for j in range(7, -1, -1):\n",
    "        output += '1' if i & (1 << j) else '0'\n",
    "    print(output)\n",
    "a = 0x86\n",
    "key = 0xAA\n",
    "\n",
    "print(\"a      ==> \", end='')\n",
    "Bbit_print(a)\n",
    "\n",
    "print(\"a^=key ==> \", end='')\n",
    "a ^= key;\n",
    "Bbit_print(a)\n",
    "\n",
    "print(\"a^=key ==> \", end='')\n",
    "a ^= key;\n",
    "Bbit_print(a)"
   ]
  },
  {
   "cell_type": "markdown",
   "id": "44bcff68",
   "metadata": {},
   "source": [
    "### 진수 변환 [10진수 -> 타진수]"
   ]
  },
  {
   "cell_type": "code",
   "execution_count": 21,
   "id": "8d79c336",
   "metadata": {},
   "outputs": [
    {
     "name": "stdout",
     "output_type": "stream",
     "text": [
      "10010101\n"
     ]
    }
   ],
   "source": [
    "bit = [0]*8\n",
    "a = 149\n",
    "i = 7\n",
    "while a>=2:\n",
    "    bit[i] = a%2\n",
    "    a //= 2\n",
    "    i -= 1\n",
    "bit[i] = a\n",
    "\n",
    "print(''.join(map(str,bit)))"
   ]
  },
  {
   "cell_type": "code",
   "execution_count": 23,
   "id": "ded89ef6",
   "metadata": {},
   "outputs": [
    {
     "name": "stdout",
     "output_type": "stream",
     "text": [
      "10010101\n"
     ]
    }
   ],
   "source": [
    "bit = [0]*8\n",
    "a = 149\n",
    "i = 7\n",
    "while a>0:\n",
    "    bit[i] = a%2\n",
    "    a //= 2\n",
    "    i -= 1\n",
    "\n",
    "print(''.join(map(str,bit)))"
   ]
  },
  {
   "cell_type": "markdown",
   "id": "97690148",
   "metadata": {},
   "source": [
    "### 2의 보수"
   ]
  },
  {
   "cell_type": "code",
   "execution_count": 26,
   "id": "7d838b5c",
   "metadata": {},
   "outputs": [
    {
     "name": "stdout",
     "output_type": "stream",
     "text": [
      " -5 = 11111011\n",
      " -4 = 11111100\n",
      " -3 = 11111101\n",
      " -2 = 11111110\n",
      " -1 = 11111111\n",
      "  0 = 00000000\n",
      "  1 = 00000001\n",
      "  2 = 00000010\n",
      "  3 = 00000011\n",
      "  4 = 00000100\n",
      "  5 = 00000101\n"
     ]
    }
   ],
   "source": [
    "def Bbit_print(i):\n",
    "    output = ''\n",
    "    for j in range(7, -1, -1):\n",
    "        output += '1' if i & (1 << j) else '0'\n",
    "    print(output)\n",
    "    \n",
    "for i in range(-5, 6):\n",
    "    print('%3d = ' % i, end='')\n",
    "    Bbit_print(i)"
   ]
  },
  {
   "cell_type": "markdown",
   "id": "bfd2a647",
   "metadata": {},
   "source": [
    "## <연습문제2>\n",
    "### 16진수 문자로 이루어진 1차 배열이 주어질 때 앞에서부터 7bit씩 묶어 10진수로 변환하여 출력해보자\n",
    "- 예를 들어\n",
    "    - 0F97A3\n",
    "- 일 경우\n",
    "    - 000011111001011110100011 -> 0000111 1100101 1110100 001\n",
    "    - 7, 101, 116, 3을 출력한다.\n",
    "- 입력 예\n",
    "    - 01D06079861D79F99F"
   ]
  }
 ],
 "metadata": {
  "kernelspec": {
   "display_name": "Python 3 (ipykernel)",
   "language": "python",
   "name": "python3"
  },
  "language_info": {
   "codemirror_mode": {
    "name": "ipython",
    "version": 3
   },
   "file_extension": ".py",
   "mimetype": "text/x-python",
   "name": "python",
   "nbconvert_exporter": "python",
   "pygments_lexer": "ipython3",
   "version": "3.9.13"
  }
 },
 "nbformat": 4,
 "nbformat_minor": 5
}
