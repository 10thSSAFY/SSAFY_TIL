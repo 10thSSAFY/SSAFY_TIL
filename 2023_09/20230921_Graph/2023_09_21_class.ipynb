{
 "cells": [
  {
   "cell_type": "markdown",
   "metadata": {},
   "source": [
    "![Alt text](image-7.png)"
   ]
  },
  {
   "cell_type": "markdown",
   "metadata": {},
   "source": [
    "```\n",
    "7 11\n",
    "0 1 32\n",
    "0 2 31\n",
    "0 5 60\n",
    "0 6 51\n",
    "1 2 21\n",
    "2 4 46\n",
    "2 6 25\n",
    "3 4 34\n",
    "3 5 18\n",
    "4 5 40\n",
    "4 6 51\n",
    "```"
   ]
  },
  {
   "cell_type": "markdown",
   "metadata": {},
   "source": [
    "### Prim"
   ]
  },
  {
   "cell_type": "code",
   "execution_count": 2,
   "metadata": {},
   "outputs": [
    {
     "name": "stdout",
     "output_type": "stream",
     "text": [
      "[0]\n",
      "[0, 32, 31, 10000, 10000, 60, 51]\n",
      "[0, 2]\n",
      "[0, 21, 31, 10000, 46, 60, 25]\n",
      "[0, 2, 1]\n",
      "[0, 21, 31, 10000, 46, 60, 25]\n",
      "[0, 2, 1, 6]\n",
      "[0, 21, 31, 10000, 46, 60, 25]\n",
      "[0, 2, 1, 6, 4]\n",
      "[0, 21, 31, 34, 46, 40, 25]\n",
      "[0, 2, 1, 6, 4, 3]\n",
      "[0, 21, 31, 34, 46, 18, 25]\n",
      "[0, 2, 1, 6, 4, 3, 5]\n",
      "[0, 21, 31, 34, 46, 18, 25]\n"
     ]
    }
   ],
   "source": [
    "def prim(s):\n",
    "    # 열결된 node의 번호를 저장\n",
    "    U = []\n",
    "    D = [10000] * N\n",
    "    D[s] = 0\n",
    "    for _ in range(N):\n",
    "        # D의 값 중 선택되지 않은 노드 중 최선을 고른다(제일 작은 값)\n",
    "        minV = 10000\n",
    "        for i in range(N):\n",
    "            if i in U:\n",
    "                continue\n",
    "            if D[i] < minV:\n",
    "                minV = D[i]\n",
    "                curN = i\n",
    "\n",
    "        # curN 결정\n",
    "        U.append(curN)\n",
    "        \n",
    "        # curN 와 연결되어 있는 노드들의 값을 최선으로 변경\n",
    "        for i in range(N):\n",
    "            if i in U or G[curN][i] == 0:\n",
    "                continue\n",
    "\n",
    "            if D[i] > G[curN][i]:\n",
    "                D[i] = G[curN][i]\n",
    "\n",
    "        print(U)\n",
    "        print(D)\n",
    "\n",
    "N, E = map(int, input().split())\n",
    "# 0이면 연결되어 있지 않다.\n",
    "G = [[0] * N for _ in range(N)]\n",
    "for i in range(E):\n",
    "    v1, v2, w = map(int, input().split())\n",
    "    G[v1][v2] = w\n",
    "    G[v2][v1] = w\n",
    "\n",
    "prim(0)"
   ]
  },
  {
   "cell_type": "code",
   "execution_count": null,
   "metadata": {},
   "outputs": [],
   "source": [
    "def prim(s):\n",
    "    # 열결된 node의 번호를 저장\n",
    "    U = []\n",
    "    D = [10000] * N\n",
    "    P = [-1] * N\n",
    "    D[s] = 0\n",
    "    for _ in range(N):\n",
    "        # D의 값 중 선택되지 않은 노드 중 최선을 고른다(제일 작은 값)\n",
    "        minV = 10000\n",
    "        for i in range(N):\n",
    "            if i in U:\n",
    "                continue\n",
    "            if D[i] < minV:\n",
    "                minV = D[i]\n",
    "                curN = i\n",
    "\n",
    "        # curN 결정\n",
    "        U.append(curN)\n",
    "        \n",
    "        # curN 와 연결되어 있는 노드들의 값을 최선으로 변경\n",
    "        for i in range(N):\n",
    "            if i in U or G[curN][i] == 0:\n",
    "                continue\n",
    "\n",
    "            if D[i] > G[curN][i]:\n",
    "                D[i] = G[curN][i]\n",
    "                P[i] = curN\n",
    "\n",
    "    print(U)\n",
    "    print(D)\n",
    "    print(P)  # 어디 노드에서 왔는지를 기록한다.\n",
    "\n",
    "N, E = map(int, input().split())\n",
    "# 0이면 연결되어 있지 않다.\n",
    "G = [[0] * N for _ in range(N)]\n",
    "for i in range(E):\n",
    "    v1, v2, w = map(int, input().split())\n",
    "    G[v1][v2] = w\n",
    "    G[v2][v1] = w\n",
    "\n",
    "prim(0)"
   ]
  },
  {
   "cell_type": "markdown",
   "metadata": {},
   "source": [
    "### Dijkstra"
   ]
  },
  {
   "cell_type": "markdown",
   "metadata": {},
   "source": [
    "input\n",
    "```\n",
    "6 8\n",
    "0 1 2\n",
    "0 2 4\n",
    "1 2 1\n",
    "1 3 7\n",
    "2 4 3\n",
    "3 4 2\n",
    "3 5 1\n",
    "4 5 5\n",
    "```"
   ]
  },
  {
   "cell_type": "code",
   "execution_count": 3,
   "metadata": {},
   "outputs": [
    {
     "name": "stdout",
     "output_type": "stream",
     "text": [
      "[0]\n",
      "[0, 2, 4, 10000, 10000, 10000]\n",
      "[0, 1]\n",
      "[0, 2, 3, 9, 10000, 10000]\n",
      "[0, 1, 2]\n",
      "[0, 2, 3, 9, 6, 10000]\n",
      "[0, 1, 2, 4]\n",
      "[0, 2, 3, 9, 6, 11]\n",
      "[0, 1, 2, 4, 3]\n",
      "[0, 2, 3, 9, 6, 10]\n",
      "[0, 1, 2, 4, 3, 5]\n",
      "[0, 2, 3, 9, 6, 10]\n"
     ]
    }
   ],
   "source": [
    "def dijk(s):\n",
    "    U = []\n",
    "    D = [10000] * N\n",
    "\n",
    "    D[s] = 0\n",
    "    for _ in range(N):\n",
    "        minV = 100000\n",
    "        for i in range(N):\n",
    "            if i in U:\n",
    "                continue\n",
    "                \n",
    "            if D[i] < minV:\n",
    "                minV = D[i]\n",
    "                curN = i\n",
    "\n",
    "        U.append(curN)\n",
    "\n",
    "        for i in range(N):\n",
    "            if G[curN][i] == 0:\n",
    "                continue\n",
    "            if D[i] > D[curN] + G[curN][i]:\n",
    "                D[i] = D[curN] + G[curN][i]\n",
    "\n",
    "        print(U)\n",
    "        print(D)\n",
    "\n",
    "N, E = map(int, input().split())\n",
    "# 0이면 연결되어 있지 않다.\n",
    "G = [[0] * N for _ in range(N)]\n",
    "for i in range(E):\n",
    "    v1, v2, w = map(int, input().split())\n",
    "    G[v1][v2] = w\n",
    "\n",
    "dijk(0)"
   ]
  }
 ],
 "metadata": {
  "kernelspec": {
   "display_name": "Python 3",
   "language": "python",
   "name": "python3"
  },
  "language_info": {
   "codemirror_mode": {
    "name": "ipython",
    "version": 3
   },
   "file_extension": ".py",
   "mimetype": "text/x-python",
   "name": "python",
   "nbconvert_exporter": "python",
   "pygments_lexer": "ipython3",
   "version": "3.9.13"
  },
  "orig_nbformat": 4
 },
 "nbformat": 4,
 "nbformat_minor": 2
}
