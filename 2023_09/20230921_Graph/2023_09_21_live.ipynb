{
 "cells": [
  {
   "cell_type": "markdown",
   "metadata": {},
   "source": [
    "## 최소 신장 트리(MST)\n",
    "- 그래프에서 최소 비용 문제\n",
    "  1. 모든 정점을 연결하는 간선들의 가중치의 합이 최소가 되는 트리\n",
    "  2. 두 정점 사이의 최소 비용의 경로 찾기\n",
    "- 신장 트리\n",
    "  - N 개의 정점으로 이루어진 무방향 그래프에서 n개의 정점과 n-1개의 간선으로 이루어진 트리\n",
    "- 최소 신장 트리(Minimum Spanning Tree)\n",
    "  - 무방향 가중치 그래프에서 신장 트리를 구성하는 간선들의 가중치의 합이 최소인 신장 트리"
   ]
  },
  {
   "cell_type": "markdown",
   "metadata": {},
   "source": [
    "```\n",
    "신장 트리란?\n",
    "1. 모든 정점을 연결\n",
    "2. 사이클이 존재하지 않는 부분 그래프\n",
    "  - 간선의 개수: N - 1개\n",
    "3. 한 그래프에서 여러 개의 신장 트리가 나올 수 있다.\n",
    "\n",
    "대표적인 문제\n",
    "우리는 도로 건설 계획을 세우고 있다.\n",
    "총 N개의 도시를 연결하는 도로를 건설하려고 할 때 모든 도시에 갈 수 있도록 하며,\n",
    "가장 비용이 적게 들도록 도로를 건설하는 경우의 수를 구하시오.\n",
    "```"
   ]
  },
  {
   "cell_type": "markdown",
   "metadata": {},
   "source": [
    "<img src=\"image-0.png\" width=60% />"
   ]
  },
  {
   "cell_type": "markdown",
   "metadata": {},
   "source": [
    "### Prim 알고리즘\n",
    "- 하나의 정점에서 연결된 간선들 중에 하나씩 선택하면서 MST를 만들어 가는 방식\n",
    "  1. 임의 정점을 하나 선택해서 시작\n",
    "  2. 선택한 정점과 인접하는 정점들 중의 최소 비용의 간선이 존재하는 정점을 선택\n",
    "  3. 모든 정점이 선택될 때 까지 1, 2 과정을 반복\n",
    "\n",
    "- 서로소인 2개의 집합(2 disjoint-sets) 정보를 유지\n",
    "  - 트리 정점들(tree vertices) - MST를 만들기 위해 선택된 정점들\n",
    "  - 비트리 정점들(nontree vertices) - 선택되지 않은 정점들"
   ]
  },
  {
   "cell_type": "markdown",
   "metadata": {},
   "source": [
    "<img src='image-1.png' width=60% />"
   ]
  },
  {
   "cell_type": "markdown",
   "metadata": {},
   "source": [
    "<img src=\"image-2.png\" width=\"60%\" />"
   ]
  },
  {
   "cell_type": "markdown",
   "metadata": {},
   "source": [
    "```\n",
    "7 11\n",
    "0 1 32\n",
    "0 2 31\n",
    "0 5 60\n",
    "0 6 51\n",
    "1 2 21\n",
    "2 4 46\n",
    "2 6 25\n",
    "3 4 34\n",
    "3 5 18\n",
    "4 5 40\n",
    "4 6 51\n",
    "```"
   ]
  },
  {
   "cell_type": "code",
   "execution_count": 8,
   "metadata": {},
   "outputs": [
    {
     "name": "stdout",
     "output_type": "stream",
     "text": [
      "최소 비용 = 175\n"
     ]
    }
   ],
   "source": [
    "import heapq\n",
    "\n",
    "\n",
    "def prim(start):  # 정점 기준으로 내가 갈 수 있는 가장 짧은 곳\n",
    "    heap = []\n",
    "    # MST 에 포함되었는지 여부\n",
    "    MST = [0] * V\n",
    "\n",
    "    # 가중치, 정점 정보\n",
    "    heapq.heappush(heap, (0, start))\n",
    "    # 누적합 저장\n",
    "    sum_weight = 0\n",
    "\n",
    "    while heap:\n",
    "        # 가장 적은 가중치를 가진 정점을 꺼냄\n",
    "        weight, v = heapq.heappop(heap)\n",
    "\n",
    "        # 이미 방문한 노드라면 pass\n",
    "        if MST[v]:\n",
    "            continue\n",
    "\n",
    "        # 방문 체크\n",
    "        MST[v] = 1\n",
    "\n",
    "        # 누적합 추가\n",
    "        sum_weight += weight\n",
    "\n",
    "        # 갈 수 있는 노드들을 체크\n",
    "        for next in range(V):\n",
    "            # 갈 수 없거나 이미 방문했다면다면 pass\n",
    "            if graph[v][next] == 0 or MST[next]:\n",
    "                continue\n",
    "\n",
    "            heapq.heappush(heap, (graph[v][next], next))\n",
    "\n",
    "    return sum_weight\n",
    "\n",
    "V, E = map(int, input().split())\n",
    "\n",
    "# 인접행렬\n",
    "graph = [[0] * V for _ in range(V)]\n",
    "\n",
    "for _ in range(E):\n",
    "    f, t, w = map(int, input().split())  # from, to, weight\n",
    "    graph[f][t] = w\n",
    "    graph[t][f] = w\n",
    "\n",
    "result = prim(0)\n",
    "print(f'최소 비용 = {result}')"
   ]
  },
  {
   "cell_type": "markdown",
   "metadata": {},
   "source": [
    "### Kruskal 알고리즘\n",
    "- 간선을 하나씩 선택해서 MST를 찾는 알고리즘\n",
    "  1. 최초, 모든 간선을 가중치에 따라 **오름차순**으로 정렬"
   ]
  },
  {
   "cell_type": "markdown",
   "metadata": {},
   "source": [
    "<img src=\"image-3.png\" width=\"50%\" />"
   ]
  },
  {
   "cell_type": "markdown",
   "metadata": {},
   "source": [
    "<img src=\"image-4.png\" width=\"50%\" />"
   ]
  },
  {
   "cell_type": "markdown",
   "metadata": {},
   "source": [
    "<img src=\"image-5.png\" width=\"50%\" />"
   ]
  },
  {
   "cell_type": "markdown",
   "metadata": {},
   "source": [
    "```\n",
    "7 11\n",
    "0 1 32\n",
    "0 2 31\n",
    "0 5 60\n",
    "0 6 51\n",
    "1 2 21\n",
    "2 4 46\n",
    "2 6 25\n",
    "3 4 34\n",
    "3 5 18\n",
    "4 5 40\n",
    "4 6 51\n",
    "```"
   ]
  },
  {
   "cell_type": "code",
   "execution_count": 9,
   "metadata": {},
   "outputs": [
    {
     "name": "stdout",
     "output_type": "stream",
     "text": [
      "최소 비용 = 175\n"
     ]
    }
   ],
   "source": [
    "# 모든 간선들 중 비용이 가장 적은 걸 우선으로 고르자\n",
    "\n",
    "V, E = map(int, input().split())\n",
    "edge = []\n",
    "for _ in range(E):\n",
    "    f, t, w = map(int, input().split())\n",
    "    edge.append([f, t, w])\n",
    "# w 를 기준으로 정렬\n",
    "edge.sort(key=lambda x: x[2])\n",
    "\n",
    "# 사이클 발생 여부를 union find로 해결\n",
    "parents = [i for i in range(V)]\n",
    "\n",
    "def find_set(x):\n",
    "    if parents[x] == x:\n",
    "        return x\n",
    "    \n",
    "    parents[x] = find_set(parents[x])\n",
    "    return parents[x]\n",
    "\n",
    "\n",
    "\n",
    "def union(x, y):\n",
    "    x = find_set(x)\n",
    "    y = find_set(y)\n",
    "\n",
    "    if x == y:\n",
    "        return\n",
    "    \n",
    "    if x < y:\n",
    "        parents[y] = x\n",
    "    else:\n",
    "        parents[x] = y\n",
    "\n",
    "# 현재 방문한 정점 수\n",
    "cnt = 0\n",
    "sum_weight = 0\n",
    "for f, t, w in edge:\n",
    "    # 싸이클이 발생하지 않는다면\n",
    "    if find_set(f) != find_set(t):\n",
    "        cnt += 1\n",
    "        sum_weight += w\n",
    "        union(f, t)\n",
    "        # MST 구성이 끝나면\n",
    "        if cnt == V:\n",
    "            break\n",
    "print(f'최소 비용 = {sum_weight}')"
   ]
  },
  {
   "cell_type": "markdown",
   "metadata": {},
   "source": [
    "## 최단 경로\n",
    "- 최단 경로 정의\n",
    "  - 간선의 가중치가 있는 그래프에서 두 정점 사이의 경로들 중에 간선의 가중치의 합이 최소인 경로\n",
    "\n",
    "- 하나의 시작 정점에서 끝 정점까지의 최단 경로\n",
    "  - 다익스트라(dikstra) 알고리즘\n",
    "    - 음의 가중치를 허용하지 않음\n",
    "  - 벨만-포드(Bellman-Ford) 알고리즘\n",
    "    - 음의 가중치 허용\n",
    "\n",
    "- 모든 정점들에 대한 최단 경로\n",
    "  - 플로이드-워샬(Floyd-Warshall) 알고리즘"
   ]
  },
  {
   "cell_type": "markdown",
   "metadata": {},
   "source": [
    "### Dijkstra 알고리즘\n",
    "- 시작 정점에서 거리(누적 거리)가 최소인 정점을 선택해 나가면서 최단 경로를 구하는 방식이다.\n",
    "- 시작정점(s) 에서 끝정점(t) 까지의 최단 경로에 정점 x가 존재한다.\n",
    "- 이때, 최단경로는 s에서 x까지의 최단 경로와 x에서 t까지의 최단경로로 구성된다.\n",
    "- 탐욕 기법을 사용한 알고리즘으로 MST의 프림 알고리즘과 유사하다.\n"
   ]
  },
  {
   "cell_type": "markdown",
   "metadata": {},
   "source": [
    "![Alt text](image-6.png)"
   ]
  },
  {
   "cell_type": "code",
   "execution_count": null,
   "metadata": {},
   "outputs": [],
   "source": []
  }
 ],
 "metadata": {
  "kernelspec": {
   "display_name": "Python 3",
   "language": "python",
   "name": "python3"
  },
  "language_info": {
   "codemirror_mode": {
    "name": "ipython",
    "version": 3
   },
   "file_extension": ".py",
   "mimetype": "text/x-python",
   "name": "python",
   "nbconvert_exporter": "python",
   "pygments_lexer": "ipython3",
   "version": "3.9.13"
  },
  "orig_nbformat": 4
 },
 "nbformat": 4,
 "nbformat_minor": 2
}
