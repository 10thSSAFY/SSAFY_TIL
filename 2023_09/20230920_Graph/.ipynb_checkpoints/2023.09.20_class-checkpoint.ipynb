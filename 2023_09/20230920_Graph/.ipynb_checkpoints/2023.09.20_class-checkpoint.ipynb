{
 "cells": [
  {
   "cell_type": "markdown",
   "id": "309f2c3a",
   "metadata": {},
   "source": [
    "make_set(1)<br>\n",
    "make_set(2)<br>\n",
    "make_set(3)<br>\n",
    "make_set(4)<br>\n",
    "make_set(5)<br>\n",
    "make_set(6)"
   ]
  },
  {
   "cell_type": "code",
   "execution_count": null,
   "id": "60cf132b",
   "metadata": {},
   "outputs": [],
   "source": []
  },
  {
   "cell_type": "markdown",
   "id": "b5031522",
   "metadata": {},
   "source": [
    "union(3, 4)<br>\n",
    "union(5, 6)<br>\n",
    "union(4, 6)<br>"
   ]
  },
  {
   "cell_type": "code",
   "execution_count": null,
   "id": "b8cf66d7",
   "metadata": {},
   "outputs": [],
   "source": []
  },
  {
   "cell_type": "markdown",
   "id": "e54c203b",
   "metadata": {},
   "source": [
    "find_set(4)<br>\n",
    "find_set(5)<br>"
   ]
  },
  {
   "cell_type": "code",
   "execution_count": null,
   "id": "59afe295",
   "metadata": {},
   "outputs": [],
   "source": []
  }
 ],
 "metadata": {
  "kernelspec": {
   "display_name": "Python 3 (ipykernel)",
   "language": "python",
   "name": "python3"
  },
  "language_info": {
   "codemirror_mode": {
    "name": "ipython",
    "version": 3
   },
   "file_extension": ".py",
   "mimetype": "text/x-python",
   "name": "python",
   "nbconvert_exporter": "python",
   "pygments_lexer": "ipython3",
   "version": "3.9.13"
  }
 },
 "nbformat": 4,
 "nbformat_minor": 5
}
