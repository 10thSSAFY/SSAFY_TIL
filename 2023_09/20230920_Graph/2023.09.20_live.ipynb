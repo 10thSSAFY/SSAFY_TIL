{
 "cells": [
  {
   "cell_type": "markdown",
   "id": "5df86a9a",
   "metadata": {},
   "source": [
    "인접행렬<br>\n",
    "장점: 구현이 쉽다<br>\n",
    "단점: 메모리 낭비, 0도 표시를 하기 때문이다."
   ]
  },
  {
   "cell_type": "markdown",
   "id": "c0421e1c",
   "metadata": {},
   "source": [
    "##### graph"
   ]
  },
  {
   "cell_type": "code",
   "execution_count": 1,
   "id": "7ebaad6e",
   "metadata": {},
   "outputs": [],
   "source": [
    "graph = [\n",
    "    [0, 1, 0, 1, 0],\n",
    "    [1, 0, 1, 1, 1],\n",
    "    [0, 1, 0, 0, 0],\n",
    "    [1, 1, 0, 0, 1],\n",
    "    [0, 1, 0, 1, 0]\n",
    "]"
   ]
  },
  {
   "cell_type": "markdown",
   "id": "0e1fa3f9",
   "metadata": {},
   "source": [
    "## DFS\n",
    "### stack 버전"
   ]
  },
  {
   "cell_type": "code",
   "execution_count": 3,
   "id": "97aaa74a",
   "metadata": {},
   "outputs": [
    {
     "name": "stdout",
     "output_type": "stream",
     "text": [
      "dfs stack =  0 3 4 1 2\n"
     ]
    }
   ],
   "source": [
    "def dfs_stack(start):\n",
    "    visited = []\n",
    "    stack = [start]\n",
    "\n",
    "    while stack:\n",
    "        now = stack.pop()\n",
    "        # 이미 방문한 지점이라면 continue\n",
    "        if now in visited:\n",
    "            continue\n",
    "\n",
    "        # 방문하지 않은 지점이라면, 방문 표시\n",
    "        visited.append(now)\n",
    "\n",
    "        # 갈 수 있는 곳들을 stack에 추가\n",
    "        for next in range(5):\n",
    "            # 연결이 안되어 있다면 continue\n",
    "            if graph[now][next] == 0:\n",
    "                continue\n",
    "\n",
    "            # 방문한 지점이라면 stack에 추가하지 않음\n",
    "            if next in visited:\n",
    "                continue\n",
    "\n",
    "            stack.append(next)\n",
    "    # 출력을 위한 반환\n",
    "    return visited\n",
    "\n",
    "print(\"dfs stack = \", end=' ')\n",
    "print(*dfs_stack(0))"
   ]
  },
  {
   "cell_type": "code",
   "execution_count": 2,
   "id": "6e921e4d",
   "metadata": {},
   "outputs": [
    {
     "name": "stdout",
     "output_type": "stream",
     "text": [
      "dfs stack =  0 1 2 3 4\n"
     ]
    }
   ],
   "source": [
    "def dfs_stack(start):\n",
    "    visited = []\n",
    "    stack = [start]\n",
    "\n",
    "    while stack:\n",
    "        now = stack.pop()\n",
    "        # 이미 방문한 지점이라면 continue\n",
    "        if now in visited:\n",
    "            continue\n",
    "\n",
    "        # 방문하지 않은 지점이라면, 방문 표시\n",
    "        visited.append(now)\n",
    "\n",
    "        # 갈 수 있는 곳들을 stack에 추가\n",
    "        # for next in range(5):\n",
    "        # 작은 번호부터 조회\n",
    "        for next in range(4, -1, -1):\n",
    "            # 연결이 안되어 있다면 continue\n",
    "            if graph[now][next] == 0:\n",
    "                continue\n",
    "\n",
    "            # 방문한 지점이라면 stack에 추가하지 않음\n",
    "            if next in visited:\n",
    "                continue\n",
    "\n",
    "            stack.append(next)\n",
    "    # 출력을 위한 반환\n",
    "    return visited\n",
    "\n",
    "print(\"dfs stack = \", end=' ')\n",
    "print(*dfs_stack(0))"
   ]
  },
  {
   "cell_type": "markdown",
   "id": "86f662ab",
   "metadata": {},
   "source": [
    "## DFS\n",
    "### 재귀"
   ]
  },
  {
   "cell_type": "code",
   "execution_count": 7,
   "id": "3c391804",
   "metadata": {},
   "outputs": [
    {
     "name": "stdout",
     "output_type": "stream",
     "text": [
      "dfs 재귀 =  0 1 2 3 4 "
     ]
    }
   ],
   "source": [
    "visited = [0] * 5\n",
    "path = []  # 방문 순서 기록\n",
    "\n",
    "def dfs(now):\n",
    "    visited[now] = 1\n",
    "    # path.append(now)\n",
    "    print(now, end=' ')\n",
    "    \n",
    "    # 인접한 노드들을 방문\n",
    "    for next in range(5):\n",
    "        if graph[now][next] == 0:\n",
    "            continue\n",
    "        \n",
    "        if visited[next]:\n",
    "            continue\n",
    "            \n",
    "        dfs(next)\n",
    "        \n",
    "print('dfs 재귀 = ', end=' ')\n",
    "dfs(0)"
   ]
  },
  {
   "cell_type": "markdown",
   "id": "bc064c49",
   "metadata": {},
   "source": [
    "## BFS\n",
    "### 재귀"
   ]
  },
  {
   "cell_type": "code",
   "execution_count": 10,
   "id": "f1d14fac",
   "metadata": {},
   "outputs": [
    {
     "name": "stdout",
     "output_type": "stream",
     "text": [
      "0 1 3 2 4 "
     ]
    }
   ],
   "source": [
    "def bfs(start):\n",
    "    visited = [0] * 5\n",
    "    \n",
    "    # 먼저 방문했던 것을 먼저 처리해야한다.\n",
    "    queue = [start]\n",
    "    visited[start] = 1\n",
    "    \n",
    "    while queue:\n",
    "        # queue의 맨 앞 요소를 꺼냄\n",
    "        now = queue.pop(0)\n",
    "        print(now, end=' ')\n",
    "        \n",
    "        # 인접한 노드들을 queue에 추가\n",
    "        for next in range(5):\n",
    "            # 연결이 안되어 있다면 continue\n",
    "            if graph[now][next] == 0:\n",
    "                continue\n",
    "\n",
    "            # 방문한 지점이라면 queue에 추가하지 않음\n",
    "            if visited[next]:\n",
    "                continue\n",
    "            \n",
    "            queue.append(next)\n",
    "            visited[next] = 1\n",
    "            \n",
    "bfs(0)"
   ]
  },
  {
   "cell_type": "markdown",
   "id": "8ac3bce8",
   "metadata": {},
   "source": [
    "## 인접리스트\n",
    "### 갈 수 있는 지점만 저장하자\n",
    "- 주의사항\n",
    "    - 각 노드마다 갈 수 있는 지점의 개수가 다름\n",
    "    - range 쓸 때 index 조심\n",
    "- 메모리가 인접 행렬에 비해 훨씬 효율적이다"
   ]
  },
  {
   "cell_type": "code",
   "execution_count": 11,
   "id": "fcfa230b",
   "metadata": {},
   "outputs": [],
   "source": [
    "graph = [\n",
    "    [1, 3],\n",
    "    [0, 2, 3, 4],\n",
    "    [1],\n",
    "    [0, 1, 4],\n",
    "    [1, 3]\n",
    "]\n",
    "\n",
    "# 파이썬은 딕셔너리로도 구현할 수 있다.\n",
    "graph_dict = {\n",
    "    '1': [1, 3],\n",
    "    '2': [0, 2, 3, 4],\n",
    "    '3': [1],\n",
    "    '4': [0, 1, 4],\n",
    "    '5': [1, 3]\n",
    "}"
   ]
  },
  {
   "cell_type": "code",
   "execution_count": 17,
   "id": "705614f4",
   "metadata": {},
   "outputs": [
    {
     "name": "stdout",
     "output_type": "stream",
     "text": [
      "dfs 스택: 0 1 2 3 4\n"
     ]
    }
   ],
   "source": [
    "def dfs(start):\n",
    "    visited = []\n",
    "    stack = [start]\n",
    "    \n",
    "    while stack:\n",
    "        now = stack.pop()\n",
    "        # 이미 방문한 지점이라면 continue\n",
    "        if now in visited:\n",
    "            continue\n",
    "        \n",
    "        # 방문하지 않은 지점이라면, 방문 표시\n",
    "        visited.append(now)\n",
    "\n",
    "        # 작은 번호부터 조회\n",
    "        for to in range(len(graph[now]) - 1, -1, -1):\n",
    "            next = graph[now][to]\n",
    "            # 방문한 지점이라면 stack에 추가하지 않음\n",
    "            if next in visited:\n",
    "                continue\n",
    "\n",
    "            stack.append(next)\n",
    "    # 출력을 위한 반환\n",
    "    return visited\n",
    "\n",
    "print('dfs 스택:', end=' ')\n",
    "print(*dfs(0))"
   ]
  },
  {
   "cell_type": "markdown",
   "id": "ca356cf2",
   "metadata": {},
   "source": [
    "## 상호베타집합"
   ]
  },
  {
   "cell_type": "code",
   "execution_count": 27,
   "id": "aa14626c",
   "metadata": {},
   "outputs": [
    {
     "name": "stdout",
     "output_type": "stream",
     "text": [
      "싸이클 발생\n",
      "0\n",
      "0\n",
      "0 와 2 는 같은 집합에 속해 있습니다.\n"
     ]
    }
   ],
   "source": [
    "# 1 ~ 10\n",
    "# make set - 집합을 만들어 주는 과정\n",
    "# 각 요소가 가리키는 값이 부모\n",
    "parent = [i for i in range(10)]\n",
    "\n",
    "# find-set\n",
    "def find_set(x):\n",
    "    if parent[x] == x:\n",
    "        return x\n",
    "    \n",
    "    # return find_set(parent[x])\n",
    "    \n",
    "    # 경로 압축\n",
    "    parent[x] = find_set(parent[x])\n",
    "    return parent[x]\n",
    "    \n",
    "# union\n",
    "def union(x, y):\n",
    "    # 1. 이미 같은 집합인지 체크\n",
    "    x = find_set(x)\n",
    "    y = find_set(y)\n",
    "    \n",
    "    # 대표자가 같으니, 같은 집합이다.\n",
    "    if x == y:\n",
    "        print(\"싸이클 발생\")\n",
    "        return\n",
    "    \n",
    "    # 2. 다른 집합이라면, 같은 대표자로 수정\n",
    "    if x < y:\n",
    "        parent[y] = x\n",
    "    else:\n",
    "        parent[x] = y\n",
    "    \n",
    "    parent[y] = x\n",
    "    \n",
    "union(0, 1)\n",
    "union(2, 3)\n",
    "union(1, 3)\n",
    "\n",
    "# 이미 같은 집합에 속해 있는 원소를 한번 더 union\n",
    "# 싸이클이 발생\n",
    "union(0, 2)\n",
    "\n",
    "# 대표자 검색\n",
    "print(find_set(2))\n",
    "print(find_set(3))\n",
    "\n",
    "# 같은 그룹인 지 판별\n",
    "t_x = 0\n",
    "t_y = 2\n",
    "\n",
    "if find_set(t_x) == find_set(t_y):\n",
    "    print(f'{t_x} 와 {t_y} 는 같은 집합에 속해 있습니다.')\n",
    "else:\n",
    "    print(f'{t_x} 와 {t_y} 는 같은 집합에 속해 있지 않습니다.')"
   ]
  },
  {
   "cell_type": "code",
   "execution_count": null,
   "id": "4598dc6d",
   "metadata": {},
   "outputs": [],
   "source": []
  },
  {
   "cell_type": "code",
   "execution_count": null,
   "id": "a93ed6b7",
   "metadata": {},
   "outputs": [],
   "source": []
  }
 ],
 "metadata": {
  "kernelspec": {
   "display_name": "Python 3 (ipykernel)",
   "language": "python",
   "name": "python3"
  },
  "language_info": {
   "codemirror_mode": {
    "name": "ipython",
    "version": 3
   },
   "file_extension": ".py",
   "mimetype": "text/x-python",
   "name": "python",
   "nbconvert_exporter": "python",
   "pygments_lexer": "ipython3",
   "version": "3.9.13"
  }
 },
 "nbformat": 4,
 "nbformat_minor": 5
}
