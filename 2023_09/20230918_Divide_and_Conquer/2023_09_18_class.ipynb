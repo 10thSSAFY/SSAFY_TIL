{
 "cells": [
  {
   "cell_type": "code",
   "execution_count": 1,
   "id": "fdbc7bf5",
   "metadata": {},
   "outputs": [
    {
     "name": "stdout",
     "output_type": "stream",
     "text": [
      "[2, 8, 10, 16, 22, 30, 31, 69]\n"
     ]
    }
   ],
   "source": [
    "def merge(l, r):\n",
    "    result = []\n",
    "    lp = rp = 0\n",
    "    \n",
    "    while lp < len(l) and rp < len(r):\n",
    "        if l[lp] < r[rp]:\n",
    "            result.append(l[lp])\n",
    "            lp += 1\n",
    "        else:\n",
    "            result.append(r[rp])\n",
    "            rp += 1\n",
    "            \n",
    "    result += l[lp:]\n",
    "    result += r[rp:]\n",
    "    return result\n",
    "    \n",
    "# result 를 정렬 한 후 결과를 return\n",
    "def merge_sort(lst):\n",
    "    N = len(lst)\n",
    "    \n",
    "    if N == 1:\n",
    "        return lst\n",
    "    \n",
    "    result = []\n",
    "    \n",
    "    m = N // 2\n",
    "    # ...\n",
    "    # 왼쪽을 merge_sort 이용해서 잘 정렬\n",
    "    # [2, 10, 30, 69]\n",
    "    left_lst = merge_sort(lst[:m])\n",
    "    # 오른쪽을 merge_sort 이용해서 잘 정렬\n",
    "    # [8, 16, 22, 31]\n",
    "    right_lst = merge_sort(lst[m:])\n",
    "    return merge(left_lst, right_lst)\n",
    "\n",
    "    \n",
    "lst = [69, 10, 30, 2, 16, 8, 31, 22]\n",
    "result = merge_sort(lst)\n",
    "print(result)"
   ]
  },
  {
   "cell_type": "code",
   "execution_count": 2,
   "id": "83ef8e40",
   "metadata": {},
   "outputs": [
    {
     "name": "stdout",
     "output_type": "stream",
     "text": [
      "[2, 8, 10, 16, 22, 30, 31, 69]\n"
     ]
    }
   ],
   "source": [
    "def merge(l, r):\n",
    "    result = []\n",
    "    lp = rp = 0\n",
    "    \n",
    "    while lp < len(l) and rp < len(r):\n",
    "        if l[lp] < r[rp]:\n",
    "            result.append(l[lp])\n",
    "            lp += 1\n",
    "        else:\n",
    "            result.append(r[rp])\n",
    "            rp += 1\n",
    "            \n",
    "    result += l[lp:]\n",
    "    result += r[rp:]\n",
    "    return result\n",
    "    \n",
    "def merge_sort(lst):\n",
    "    N = len(lst)\n",
    "    \n",
    "    if N == 1:\n",
    "        return lst\n",
    "    \n",
    "    m = N // 2\n",
    "    left_lst = merge_sort(lst[:m])\n",
    "    right_lst = merge_sort(lst[m:])\n",
    "    return merge(left_lst, right_lst)\n",
    "\n",
    "    \n",
    "lst = [69, 10, 30, 2, 16, 8, 31, 22]\n",
    "result = merge_sort(lst)\n",
    "print(result)"
   ]
  },
  {
   "cell_type": "code",
   "execution_count": 4,
   "id": "35dd2406",
   "metadata": {},
   "outputs": [
    {
     "name": "stdout",
     "output_type": "stream",
     "text": [
      "[2, 8, 10, 16, 22, 30, 31, 69]\n"
     ]
    }
   ],
   "source": [
    "# result 를 정렬 한 후 결과를 return\n",
    "def merge_sort(lst):\n",
    "    N = len(lst)\n",
    "    \n",
    "    if N == 1:\n",
    "        return lst\n",
    "    \n",
    "    result = []\n",
    "    \n",
    "    m = N // 2\n",
    "    left_lst = merge_sort(lst[:m])\n",
    "    right_lst = merge_sort(lst[m:])\n",
    "    return merge(left_lst, right_lst)\n",
    "\n",
    "\n",
    "    res = []\n",
    "    lp = rp = 0\n",
    "    while lp < len(l) and rp < len(r):\n",
    "        if left_lst[lp] < right_lst[rp]:\n",
    "            res.append(l[lp])\n",
    "            lp += 1\n",
    "        else:\n",
    "            res.append(r[rp])\n",
    "            rp += 1\n",
    "            \n",
    "    result += left_lst[lp:]\n",
    "    result += right_lst[rp:]\n",
    "    \n",
    "    \n",
    "lst = [69, 10, 30, 2, 16, 8, 31, 22]\n",
    "result = merge_sort(lst)\n",
    "print(result)"
   ]
  },
  {
   "cell_type": "code",
   "execution_count": 5,
   "id": "8b265773",
   "metadata": {},
   "outputs": [
    {
     "name": "stdout",
     "output_type": "stream",
     "text": [
      "[1, 2, 3, 4, 5, 6, 7, 8, 9]\n"
     ]
    }
   ],
   "source": [
    "def h_par(s, e):\n",
    "    p = s\n",
    "    i = s\n",
    "    j = e\n",
    "    while i < j:\n",
    "        while i <= j and lst[i] <= lst[p]:\n",
    "            i += 1\n",
    "        while i <= j and lst[j] >= lst[p]:\n",
    "            j -= 1\n",
    "\n",
    "        if i < j:\n",
    "            lst[i], lst[j] = lst[j], lst[i]\n",
    "            \n",
    "    lst[p], lst[j] = lst[j], lst[p]\n",
    "    return j\n",
    "\n",
    "def quick_sort(s, e):\n",
    "    if s >= e:\n",
    "        return -1\n",
    "    \n",
    "    pivot = h_par(s, e)\n",
    "    quick_sort(s, pivot-1)\n",
    "    quick_sort(pivot+1, e)\n",
    "    \n",
    "    \n",
    "lst = [3, 2, 4, 6, 9, 1, 8, 7, 5]\n",
    "N = len(lst)\n",
    "quick_sort(0, N-1)\n",
    "print(lst)"
   ]
  },
  {
   "cell_type": "code",
   "execution_count": null,
   "id": "1de91fd7",
   "metadata": {},
   "outputs": [
    {
     "name": "stdout",
     "output_type": "stream",
     "text": [
      "[1, 2, 3, 4, 5, 6, 7, 8, 9]\n"
     ]
    }
   ],
   "source": [
    "def l_par(s, e):\n",
    "    p = e\n",
    "    i = s-1\n",
    "    for j in range(s, e):\n",
    "        if lst[j] <= lst[p]:\n",
    "            i += 1\n",
    "            lst[i], lst[j] = lst[j], lst[i]\n",
    "    lst[i+1], lst[p] = lst[p], lst[i+1]\n",
    "    return i+1\n",
    "            \n",
    "\n",
    "def quick_sort(s, e):\n",
    "    if s >= e:\n",
    "        return -1\n",
    "    \n",
    "    pivot = l_par(s, e)\n",
    "    quick_sort(s, pivot-1)\n",
    "    quick_sort(pivot+1, e)\n",
    "    \n",
    "    \n",
    "lst = [3, 2, 4, 6, 9, 1, 8, 7, 5]\n",
    "N = len(lst)\n",
    "quick_sort(0, N-1)\n",
    "print(lst)"
   ]
  }
 ],
 "metadata": {
  "kernelspec": {
   "display_name": "Python 3 (ipykernel)",
   "language": "python",
   "name": "python3"
  },
  "language_info": {
   "codemirror_mode": {
    "name": "ipython",
    "version": 3
   },
   "file_extension": ".py",
   "mimetype": "text/x-python",
   "name": "python",
   "nbconvert_exporter": "python",
   "pygments_lexer": "ipython3",
   "version": "3.9.13"
  }
 },
 "nbformat": 4,
 "nbformat_minor": 5
}
