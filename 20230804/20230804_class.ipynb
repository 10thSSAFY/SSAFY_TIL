{
 "cells": [
  {
   "cell_type": "markdown",
   "id": "2df1c801",
   "metadata": {},
   "source": [
    "# 구간 합 구하기: 구간합을 구해서 최대와 최소의 차이를 출력해라"
   ]
  },
  {
   "cell_type": "code",
   "execution_count": 1,
   "id": "4231d1af",
   "metadata": {},
   "outputs": [],
   "source": [
    "N = 8\n",
    "lst = [3, 14, 5, 6, 7, 8, 10, 1]\n",
    "M = 5"
   ]
  },
  {
   "cell_type": "code",
   "execution_count": 2,
   "id": "610a0ed7",
   "metadata": {},
   "outputs": [
    {
     "name": "stdout",
     "output_type": "stream",
     "text": [
      "35\n",
      "40\n",
      "36\n",
      "32\n"
     ]
    }
   ],
   "source": [
    "for s in range(N-M+1):\n",
    "    sumV = 0\n",
    "    for i in range(s, s+M):\n",
    "        sumV += lst[i]\n",
    "        \n",
    "    print(sumV)"
   ]
  },
  {
   "cell_type": "markdown",
   "id": "be96cb2d",
   "metadata": {},
   "source": [
    "# 이차원 배열과 반복문 연습"
   ]
  },
  {
   "cell_type": "code",
   "execution_count": 4,
   "id": "bb2776e2",
   "metadata": {},
   "outputs": [
    {
     "name": "stdout",
     "output_type": "stream",
     "text": [
      "42\n"
     ]
    }
   ],
   "source": [
    "N = 3  # 행의 수\n",
    "M = 4  # 열의 수\n",
    "arr = [[1, 2, 3, 4], [4, 3, 2, 1], [4, 5, 6, 7]]\n",
    "\n",
    "# 전체 합\n",
    "sumV = 0\n",
    "for r in range(3):\n",
    "    for c in range(4):\n",
    "        sumV += arr[r][c]\n",
    "        \n",
    "print(sumV)"
   ]
  },
  {
   "cell_type": "code",
   "execution_count": 5,
   "id": "b17bb458",
   "metadata": {},
   "outputs": [
    {
     "name": "stdout",
     "output_type": "stream",
     "text": [
      "10\n",
      "10\n",
      "22\n"
     ]
    }
   ],
   "source": [
    "N = 3  # 행의 수\n",
    "M = 4  # 열의 수\n",
    "arr = [[1, 2, 3, 4], [4, 3, 2, 1], [4, 5, 6, 7]]\n",
    "\n",
    "# 행별 합\n",
    "for r in range(3):\n",
    "    sumV = 0\n",
    "    for c in range(4):\n",
    "        sumV += arr[r][c]\n",
    "        \n",
    "    print(sumV)"
   ]
  },
  {
   "cell_type": "markdown",
   "id": "95356842",
   "metadata": {},
   "source": [
    "# 부분 위치의 합을 구하자"
   ]
  },
  {
   "cell_type": "code",
   "execution_count": 8,
   "id": "9ccc2c59",
   "metadata": {},
   "outputs": [
    {
     "name": "stdout",
     "output_type": "stream",
     "text": [
      "70\n"
     ]
    }
   ],
   "source": [
    "N = 3  # 행의 수\n",
    "M = 4  # 열의 수\n",
    "arr = [[1, 2, 3, 4], [4, 3, 2, 1], [4, 5, 6, 7]]\n",
    "\n",
    "\n",
    "sr, sc = 1, 0\n",
    "sizeR = 2\n",
    "sizeC = 3\n",
    "\n",
    "for r in range(sr, sr+sizeR):\n",
    "    for c in range(sc, sc+sizeC):\n",
    "        if 0<=r<N and 0<=c<M:\n",
    "            sumV += arr[r][c]\n",
    "            \n",
    "print(sumV)"
   ]
  },
  {
   "cell_type": "code",
   "execution_count": null,
   "id": "7865889f",
   "metadata": {},
   "outputs": [],
   "source": [
    "s = (1, 0), e = (4, 2)"
   ]
  }
 ],
 "metadata": {
  "kernelspec": {
   "display_name": "Python 3 (ipykernel)",
   "language": "python",
   "name": "python3"
  },
  "language_info": {
   "codemirror_mode": {
    "name": "ipython",
    "version": 3
   },
   "file_extension": ".py",
   "mimetype": "text/x-python",
   "name": "python",
   "nbconvert_exporter": "python",
   "pygments_lexer": "ipython3",
   "version": "3.9.13"
  }
 },
 "nbformat": 4,
 "nbformat_minor": 5
}
