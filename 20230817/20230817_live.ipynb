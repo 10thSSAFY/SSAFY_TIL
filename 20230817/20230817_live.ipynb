{
 "cells": [
  {
   "cell_type": "markdown",
   "id": "e5ab24ef",
   "metadata": {},
   "source": [
    "### ㅋㅋㅋ큐ㅠㅠㅠ"
   ]
  },
  {
   "cell_type": "code",
   "execution_count": 3,
   "id": "aa1a4082",
   "metadata": {},
   "outputs": [
    {
     "name": "stdout",
     "output_type": "stream",
     "text": [
      "Q is Full\n"
     ]
    }
   ],
   "source": [
    "def enQ(data):\n",
    "    global rear\n",
    "    if rear == Qsize - 1:  #가득 차면\n",
    "        print('Q is Full')\n",
    "    else:\n",
    "        rear += 1\n",
    "        Q[rear] = data\n",
    "    \n",
    "    \n",
    "\n",
    "Qsize = 3\n",
    "Q = [0] * Qsize\n",
    "rear = -1\n",
    "front = -1\n",
    "\n",
    "enQ(1)\n",
    "enQ(2)\n",
    "enQ(3)\n",
    "enQ(4)"
   ]
  },
  {
   "cell_type": "code",
   "execution_count": 7,
   "id": "a9a5fbe2",
   "metadata": {},
   "outputs": [
    {
     "name": "stdout",
     "output_type": "stream",
     "text": [
      "1\n",
      "2\n",
      "3\n"
     ]
    }
   ],
   "source": [
    "def enQ(data):\n",
    "    global rear\n",
    "    rear += 1\n",
    "    Q[rear] = data\n",
    "    \n",
    "def deQ():\n",
    "    global front\n",
    "    front += 1\n",
    "    return Q[front]\n",
    "\n",
    "Qsize = 3\n",
    "Q = [0] * Qsize\n",
    "rear = -1\n",
    "front = -1\n",
    "\n",
    "enQ(1)\n",
    "enQ(2)\n",
    "enQ(3)\n",
    "\n",
    "print(deQ())\n",
    "print(deQ())\n",
    "print(deQ())"
   ]
  },
  {
   "cell_type": "code",
   "execution_count": 16,
   "id": "2e4c433f",
   "metadata": {},
   "outputs": [
    {
     "name": "stdout",
     "output_type": "stream",
     "text": [
      "Q is Full\n",
      "---------\n",
      "1\n",
      "2\n",
      "3\n",
      "큐가 비어있음\n",
      "None\n"
     ]
    }
   ],
   "source": [
    "def enQ(data):\n",
    "    global rear\n",
    "    if rear == Qsize - 1:  #가득 차면\n",
    "        print('Q is Full')\n",
    "    else:\n",
    "        rear += 1\n",
    "        Q[rear] = data\n",
    "        \n",
    "def deQ():\n",
    "    global front\n",
    "    if front == rear:  # 비어 있으면\n",
    "        print('큐가 비어있음')\n",
    "    else:\n",
    "        front += 1\n",
    "        return Q[front]\n",
    "\n",
    "Qsize = 3\n",
    "Q = [0] * Qsize\n",
    "rear = -1\n",
    "front = -1\n",
    "\n",
    "enQ(1)\n",
    "enQ(2)\n",
    "rear += 1\n",
    "Q[rear] = 3\n",
    "enQ(4)  # <- 가득참\n",
    "print('---------')\n",
    "print(deQ())\n",
    "print(deQ())\n",
    "front += 1\n",
    "print(Q[front])\n",
    "print(deQ())  # <- 비어있음"
   ]
  },
  {
   "cell_type": "code",
   "execution_count": 15,
   "id": "ed932aac",
   "metadata": {},
   "outputs": [
    {
     "name": "stdout",
     "output_type": "stream",
     "text": [
      "1\n",
      "2\n",
      "3\n"
     ]
    }
   ],
   "source": [
    "def enQ(data):\n",
    "    global rear\n",
    "    if rear == Qsize - 1:  #가득 차면\n",
    "        print('Q is Full')\n",
    "    else:\n",
    "        rear += 1\n",
    "        Q[rear] = data\n",
    "        \n",
    "def deQ():\n",
    "    global front\n",
    "    if front == rear:  # 비어 있으면\n",
    "        print('큐가 비어있음')\n",
    "    else:\n",
    "        front += 1\n",
    "        return Q[front]\n",
    "\n",
    "Qsize = 3\n",
    "Q = [0] * Qsize\n",
    "rear = -1\n",
    "front = -1\n",
    "\n",
    "enQ(1)\n",
    "enQ(2)\n",
    "rear += 1\n",
    "Q[rear] = 3\n",
    "\n",
    "while front != rear:\n",
    "    front += 1\n",
    "    print(Q[front])"
   ]
  },
  {
   "cell_type": "code",
   "execution_count": 17,
   "id": "cbc5ba30",
   "metadata": {},
   "outputs": [
    {
     "name": "stdout",
     "output_type": "stream",
     "text": [
      "1\n",
      "2\n",
      "3\n"
     ]
    }
   ],
   "source": [
    "Q = []\n",
    "\n",
    "Q.append(1)  # enqueue(1)\n",
    "Q.append(2)\n",
    "Q.append(3)\n",
    "print(Q.pop(0))\n",
    "print(Q.pop(0))\n",
    "print(Q.pop(0))"
   ]
  },
  {
   "cell_type": "markdown",
   "id": "9e7c1c6e",
   "metadata": {},
   "source": [
    "---"
   ]
  },
  {
   "cell_type": "code",
   "execution_count": 20,
   "id": "d4e5e423",
   "metadata": {},
   "outputs": [
    {
     "name": "stdout",
     "output_type": "stream",
     "text": [
      "cQ is Full\n"
     ]
    }
   ],
   "source": [
    "def enq(data):\n",
    "    global rear\n",
    "    if (rear+1)%cQsize == front:\n",
    "        print('cQ is Full')\n",
    "    else:\n",
    "        rear = (rear+1)%cQsize\n",
    "\n",
    "def deq():\n",
    "    global front\n",
    "    front = (front+1)%cQsize\n",
    "    \n",
    "cQsize = 4\n",
    "cQ = [0] * cQsize\n",
    "front = 0\n",
    "rear = 0\n",
    "\n",
    "enq(1)\n",
    "enq(2)\n",
    "enq(3)\n",
    "enq(4)"
   ]
  },
  {
   "cell_type": "code",
   "execution_count": 23,
   "id": "29e88684",
   "metadata": {},
   "outputs": [
    {
     "name": "stdout",
     "output_type": "stream",
     "text": [
      "1\n",
      "2\n"
     ]
    }
   ],
   "source": [
    "def enq(data):\n",
    "    global rear\n",
    "    if (rear+1)%cQsize == front:\n",
    "        print('cQ is Full')\n",
    "    else:\n",
    "        rear = (rear+1)%cQsize\n",
    "        cQ[rear] = data\n",
    "\n",
    "def deq():\n",
    "    global front\n",
    "    front = (front+1)%cQsize\n",
    "    return cQ[front]\n",
    "    \n",
    "cQsize = 4\n",
    "cQ = [0] * cQsize\n",
    "front = 0\n",
    "rear = 0\n",
    "\n",
    "enq(1)\n",
    "enq(2)\n",
    "enq(3)\n",
    "print(deq())\n",
    "print(deq())\n",
    "enq(4)"
   ]
  },
  {
   "cell_type": "code",
   "execution_count": 25,
   "id": "2bec86b6",
   "metadata": {
    "scrolled": true
   },
   "outputs": [
    {
     "name": "stdout",
     "output_type": "stream",
     "text": [
      "5\n",
      "2\n",
      "3\n",
      "4\n"
     ]
    }
   ],
   "source": [
    "def enq(data):\n",
    "    global rear\n",
    "    rear = (rear+1)%cQsize\n",
    "    cQ[rear] = data  # 덮어쓰기??\n",
    "\n",
    "def deq():\n",
    "    global front\n",
    "    front = (front+1)%cQsize\n",
    "    return cQ[front]\n",
    "    \n",
    "cQsize = 4\n",
    "cQ = [0] * cQsize\n",
    "front = 0\n",
    "rear = 0\n",
    "\n",
    "enq(1)\n",
    "enq(2)\n",
    "enq(3)\n",
    "enq(4)\n",
    "enq(5)\n",
    "print(deq())\n",
    "print(deq())\n",
    "print(deq())\n",
    "print(deq())"
   ]
  },
  {
   "cell_type": "code",
   "execution_count": 32,
   "id": "39e06df3",
   "metadata": {},
   "outputs": [
    {
     "name": "stdout",
     "output_type": "stream",
     "text": [
      "2\n",
      "3\n",
      "4\n",
      "5\n"
     ]
    }
   ],
   "source": [
    "def enq(data):\n",
    "    global rear\n",
    "    global front\n",
    "    if (rear+1)%cQsize == front:\n",
    "        front = (front+1)%cQsize  # 밀고 간다\n",
    "    rear = (rear+1)%cQsize\n",
    "    cQ[rear] = data  # 덮어쓰기??\n",
    "\n",
    "def deq():\n",
    "    global front\n",
    "    front = (front+1)%cQsize\n",
    "    return cQ[front-1]\n",
    "    \n",
    "cQsize = 4\n",
    "cQ = [0] * cQsize\n",
    "front = 0\n",
    "rear = 0\n",
    "\n",
    "enq(1)\n",
    "enq(2)\n",
    "enq(3)\n",
    "enq(4)\n",
    "enq(5)\n",
    "print(deq()) \n",
    "print(deq())\n",
    "print(deq())\n",
    "print(deq())"
   ]
  },
  {
   "cell_type": "code",
   "execution_count": 31,
   "id": "f992f7ed",
   "metadata": {},
   "outputs": [
    {
     "name": "stdout",
     "output_type": "stream",
     "text": [
      "1\n",
      "2\n",
      "3\n"
     ]
    }
   ],
   "source": [
    "from collections import deque\n",
    "\n",
    "q = deque()\n",
    "q.append(1)\n",
    "q.append(2)\n",
    "q.append(3)\n",
    "print(q.popleft())\n",
    "print(q.popleft())\n",
    "print(q.popleft())"
   ]
  },
  {
   "cell_type": "code",
   "execution_count": null,
   "id": "0e6f4464",
   "metadata": {},
   "outputs": [],
   "source": []
  },
  {
   "cell_type": "code",
   "execution_count": null,
   "id": "3906836c",
   "metadata": {},
   "outputs": [],
   "source": []
  }
 ],
 "metadata": {
  "kernelspec": {
   "display_name": "Python 3 (ipykernel)",
   "language": "python",
   "name": "python3"
  },
  "language_info": {
   "codemirror_mode": {
    "name": "ipython",
    "version": 3
   },
   "file_extension": ".py",
   "mimetype": "text/x-python",
   "name": "python",
   "nbconvert_exporter": "python",
   "pygments_lexer": "ipython3",
   "version": "3.9.13"
  }
 },
 "nbformat": 4,
 "nbformat_minor": 5
}
