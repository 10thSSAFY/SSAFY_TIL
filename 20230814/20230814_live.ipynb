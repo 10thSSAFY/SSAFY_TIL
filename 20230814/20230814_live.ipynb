{
 "cells": [
  {
   "cell_type": "code",
   "execution_count": 8,
   "id": "2148a470",
   "metadata": {},
   "outputs": [
    {
     "name": "stdout",
     "output_type": "stream",
     "text": [
      "-9\n"
     ]
    }
   ],
   "source": [
    "stack = [0]*100\n",
    "top = -1\n",
    "susik = '6528-*2/+'\n",
    "for x in susik:\n",
    "    if x not in '+-/*':\n",
    "        top += 1\n",
    "        stack[top] = int(x)\n",
    "    else:\n",
    "        op2 = stack[top]\n",
    "        top -= 1\n",
    "        op1 = stack[top]\n",
    "        top -= 1\n",
    "        if x == '+':\n",
    "            top += 1\n",
    "            stack[top] = op1 + op2\n",
    "        elif x == '-':\n",
    "            top += 1\n",
    "            stack[top] = op1 - op2\n",
    "        elif x == '*':\n",
    "            top += 1\n",
    "            stack[top] = op1 * op2\n",
    "        elif x == '/':\n",
    "            top += 1\n",
    "            stack[top] = op1 // op2\n",
    "            \n",
    "print(stack[top])"
   ]
  },
  {
   "cell_type": "code",
   "execution_count": 29,
   "id": "18ea8a61",
   "metadata": {},
   "outputs": [
    {
     "name": "stdout",
     "output_type": "stream",
     "text": [
      "수식: 6528-2/-\n"
     ]
    }
   ],
   "source": [
    "stack = [0] * 100\n",
    "top = -1\n",
    "icp = {'(': 3, '*': 2, '/': 2, '+': 1, '-': 1}\n",
    "isp = {'(': 0, '*': 2, '/': 2, '+': 1, '-': 1}\n",
    "\n",
    "fx = '(6+5*(2-8)/2)'\n",
    "susik = ''\n",
    "for x in fx:\n",
    "    if x not in '(+-*/)':\n",
    "        susik += x\n",
    "    elif x == ')':\n",
    "        while stack[top] != '(':\n",
    "            susik += stack[top]\n",
    "            top -= 1\n",
    "        top +=1\n",
    "    else:\n",
    "        if top == -1 or isp[stack[top]] < icp[x]:\n",
    "            top += 1\n",
    "            stack[top] = x\n",
    "        elif isp[stack[top]] >= icp[x]:\n",
    "            while top > -1 and isp[stack[top]] >= icp[x]:\n",
    "                susik += stack[top]\n",
    "            top += 1\n",
    "            stack[top] = x\n",
    "\n",
    "print('수식:', susik)"
   ]
  },
  {
   "cell_type": "code",
   "execution_count": null,
   "id": "283f90aa",
   "metadata": {},
   "outputs": [],
   "source": []
  }
 ],
 "metadata": {
  "kernelspec": {
   "display_name": "Python 3 (ipykernel)",
   "language": "python",
   "name": "python3"
  },
  "language_info": {
   "codemirror_mode": {
    "name": "ipython",
    "version": 3
   },
   "file_extension": ".py",
   "mimetype": "text/x-python",
   "name": "python",
   "nbconvert_exporter": "python",
   "pygments_lexer": "ipython3",
   "version": "3.9.13"
  }
 },
 "nbformat": 4,
 "nbformat_minor": 5
}
