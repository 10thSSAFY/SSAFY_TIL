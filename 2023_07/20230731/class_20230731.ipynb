{
 "cells": [
  {
   "cell_type": "markdown",
   "id": "834ef3a2",
   "metadata": {},
   "source": [
    "# 버블정렬 구현하기"
   ]
  },
  {
   "cell_type": "code",
   "execution_count": 1,
   "id": "a412a0e1",
   "metadata": {},
   "outputs": [
    {
     "name": "stdout",
     "output_type": "stream",
     "text": [
      "[7, 55, 12, 24, 78]\n",
      "[7, 12, 24, 55, 78]\n",
      "[7, 12, 24, 55, 78]\n",
      "[7, 12, 24, 55, 78]\n"
     ]
    }
   ],
   "source": [
    "nums = [55, 7, 78, 12, 24]\n",
    "\n",
    "for j in range(0, 4):\n",
    "    if nums[j] > nums[j+1]:\n",
    "        nums[j], nums[j+1] = nums[j+1], nums[j]  # [7, 55, 12, 24, {78}]\n",
    "print(nums)\n",
    "\n",
    "for j in range(0, 3):\n",
    "    if nums[j] > nums[j+1]:\n",
    "        nums[j], nums[j+1] = nums[j+1], nums[j]  # [7, 12, 24, {55, 78}]\n",
    "print(nums)\n",
    "    \n",
    "for j in range(0, 2):\n",
    "    if nums[j] > nums[j+1]:\n",
    "        nums[j], nums[j+1] = nums[j+1], nums[j]  # [7, 12, {24, 55, 78}]\n",
    "print(nums)\n",
    "\n",
    "for j in range(0, 1):\n",
    "    if nums[j] > nums[j+1]:\n",
    "        nums[j], nums[j+1] = nums[j+1], nums[j]  # [7, {12, 24, 55, 78}]\n",
    "\n",
    "print(nums)"
   ]
  },
  {
   "cell_type": "code",
   "execution_count": 2,
   "id": "96630305",
   "metadata": {},
   "outputs": [
    {
     "name": "stdout",
     "output_type": "stream",
     "text": [
      "1 phase: [7, 55, 12, 24, 78]\n",
      "2 phase: [7, 12, 24, 55, 78]\n",
      "3 phase: [7, 12, 24, 55, 78]\n",
      "4 phase: [7, 12, 24, 55, 78]\n",
      "sorting result: [7, 12, 24, 55, 78]\n"
     ]
    }
   ],
   "source": [
    "nums = [55, 7, 78, 12, 24]\n",
    "\n",
    "for phase in range(len(nums)-1, 0, -1):\n",
    "    for j in range(0, phase):\n",
    "        if nums[j] > nums[j+1]:\n",
    "            nums[j], nums[j+1] = nums[j+1], nums[j]\n",
    "    \n",
    "    print(f'{len(nums) - phase} phase: {nums}')\n",
    "\n",
    "print(f'sorting result: {nums}')"
   ]
  },
  {
   "cell_type": "code",
   "execution_count": 3,
   "id": "4718189e",
   "metadata": {},
   "outputs": [
    {
     "name": "stdout",
     "output_type": "stream",
     "text": [
      "sorting result: [1, 1, 5, 7, 77, 78]\n",
      "sorting result: [1, 1, 1, 5, 8, 78]\n"
     ]
    }
   ],
   "source": [
    "def bubble_sort(nums):\n",
    "    for phase in range(len(nums)-1, 0, -1):\n",
    "        for j in range(0, phase):\n",
    "            if nums[j] > nums[j+1]:\n",
    "                nums[j], nums[j+1] = nums[j+1], nums[j]\n",
    "                \n",
    "    print(f'sorting result: {nums}')\n",
    "    \n",
    "    \n",
    "nums1 = [1, 7, 78, 1, 5, 77]\n",
    "bubble_sort(nums1)\n",
    "\n",
    "nums2 = [1, 8, 78, 1, 5, 1]\n",
    "bubble_sort(nums2)"
   ]
  },
  {
   "cell_type": "markdown",
   "id": "ea0d3cdf",
   "metadata": {},
   "source": [
    "# 버블: 내림차순??"
   ]
  },
  {
   "cell_type": "code",
   "execution_count": 4,
   "id": "322420b6",
   "metadata": {},
   "outputs": [
    {
     "name": "stdout",
     "output_type": "stream",
     "text": [
      "[55, 78, 12, 24, 7]\n",
      "[78, 55, 24, 12, 7]\n",
      "[78, 55, 24, 12, 7]\n",
      "[78, 55, 24, 12, 7]\n"
     ]
    }
   ],
   "source": [
    "nums = [55, 7, 78, 12, 24]\n",
    "\n",
    "for j in range(0, 4):\n",
    "    if nums[j] < nums[j+1]:\n",
    "        nums[j], nums[j+1] = nums[j+1], nums[j]  # [55, 78, 12, 24, {7}]\n",
    "print(nums)\n",
    "\n",
    "for j in range(0, 3):\n",
    "    if nums[j] < nums[j+1]:\n",
    "        nums[j], nums[j+1] = nums[j+1], nums[j]  # [78, 55, 24, {12, 7}]\n",
    "print(nums)\n",
    "    \n",
    "for j in range(0, 2):\n",
    "    if nums[j] < nums[j+1]:\n",
    "        nums[j], nums[j+1] = nums[j+1], nums[j]  # [7, 12, {24, 55, 78}]\n",
    "print(nums)\n",
    "\n",
    "for j in range(0, 1):\n",
    "    if nums[j] < nums[j+1]:\n",
    "        nums[j], nums[j+1] = nums[j+1], nums[j]  # [7, {12, 24, 55, 78}]\n",
    "\n",
    "print(nums)"
   ]
  },
  {
   "cell_type": "code",
   "execution_count": null,
   "id": "f6b95dd4",
   "metadata": {},
   "outputs": [],
   "source": []
  },
  {
   "cell_type": "code",
   "execution_count": null,
   "id": "f5581c0e",
   "metadata": {},
   "outputs": [],
   "source": []
  },
  {
   "cell_type": "code",
   "execution_count": null,
   "id": "b20c27ef",
   "metadata": {},
   "outputs": [],
   "source": []
  },
  {
   "cell_type": "code",
   "execution_count": null,
   "id": "6ae2cff8",
   "metadata": {},
   "outputs": [],
   "source": []
  },
  {
   "cell_type": "code",
   "execution_count": null,
   "id": "cc9e4e96",
   "metadata": {},
   "outputs": [],
   "source": []
  }
 ],
 "metadata": {
  "kernelspec": {
   "display_name": "Python 3 (ipykernel)",
   "language": "python",
   "name": "python3"
  },
  "language_info": {
   "codemirror_mode": {
    "name": "ipython",
    "version": 3
   },
   "file_extension": ".py",
   "mimetype": "text/x-python",
   "name": "python",
   "nbconvert_exporter": "python",
   "pygments_lexer": "ipython3",
   "version": "3.9.13"
  }
 },
 "nbformat": 4,
 "nbformat_minor": 5
}
