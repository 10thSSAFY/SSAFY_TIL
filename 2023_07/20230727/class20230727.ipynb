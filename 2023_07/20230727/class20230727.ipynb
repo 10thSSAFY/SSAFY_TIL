{
 "cells": [
  {
   "cell_type": "code",
   "execution_count": 1,
   "id": "dc21e501",
   "metadata": {},
   "outputs": [
    {
     "name": "stdout",
     "output_type": "stream",
     "text": [
      "김씨\n",
      "<__main__.Student object at 0x0000024A5B075250> <class '__main__.Student'>\n"
     ]
    }
   ],
   "source": [
    "class Student:\n",
    "    def __init__(self, name, age):\n",
    "        self.name = name\n",
    "        self.age = age\n",
    "    \n",
    "s1 = Student('김씨', 20)  # self=s1\n",
    "s2 = Student('이씨', 22)  # self=s2\n",
    "\n",
    "print(s1.name)\n",
    "print(s1, type(s1))"
   ]
  },
  {
   "cell_type": "code",
   "execution_count": 2,
   "id": "f5d4fd09",
   "metadata": {},
   "outputs": [
    {
     "name": "stdout",
     "output_type": "stream",
     "text": [
      "<__main__.Student object at 0x0000024A5B03EA30> <class '__main__.Student'>\n",
      "<__main__.Professor object at 0x0000024A5B03EA00> <class '__main__.Professor'>\n"
     ]
    }
   ],
   "source": [
    "class Professor:\n",
    "    def __init__(self, name, age):\n",
    "        self.name = name\n",
    "        self.age = age\n",
    "\n",
    "class Student:\n",
    "    def __init__(self, name, age, no):\n",
    "        self.name = name\n",
    "        self.age = age\n",
    "        self.no = no\n",
    "    \n",
    "s1 = Student('김씨', 20, 's1000')\n",
    "s2 = Student('이씨', 22, 's1001')  # self=s2\n",
    "\n",
    "p1 = Professor('박씨', 40)\n",
    "\n",
    "print(s1, type(s1))\n",
    "print(p1, type(p1))"
   ]
  },
  {
   "cell_type": "code",
   "execution_count": 3,
   "id": "2f549c21",
   "metadata": {},
   "outputs": [
    {
     "name": "stdout",
     "output_type": "stream",
     "text": [
      "<__main__.Student object at 0x0000024A5B099EE0> <class '__main__.Student'>\n",
      "<__main__.Professor object at 0x0000024A5B099FA0> <class '__main__.Professor'>\n"
     ]
    }
   ],
   "source": [
    "class Person:\n",
    "    def __init__(self, name, age):\n",
    "        self.name = name\n",
    "        self.age = age\n",
    "        \n",
    "class Professor:\n",
    "    def __init__(self, name, age):\n",
    "        Person.__init__(self, name, age)\n",
    "\n",
    "class Student:\n",
    "    def __init__(self, name, age, no):\n",
    "        Person.__init__(self, name, age)\n",
    "        self.no = no\n",
    "    \n",
    "s1 = Student('김씨', 20, 's1000')\n",
    "s2 = Student('이씨', 22, 's1001')  # self=s2\n",
    "\n",
    "p1 = Professor('박씨', 40)\n",
    "\n",
    "print(s1, type(s1))\n",
    "print(p1, type(p1))"
   ]
  },
  {
   "cell_type": "code",
   "execution_count": 4,
   "id": "e106e651",
   "metadata": {},
   "outputs": [
    {
     "name": "stdout",
     "output_type": "stream",
     "text": [
      "<__main__.Student object at 0x0000024A5B0925E0>\n",
      "<__main__.Student object at 0x0000024A5B0924C0>\n",
      "<__main__.Professor object at 0x0000024A5B092C40>\n"
     ]
    }
   ],
   "source": [
    "class Person:\n",
    "    def __init__(self, name, age):\n",
    "        self.name = name\n",
    "        self.age = age\n",
    "        \n",
    "class Professor(Person):\n",
    "    # a = super()\n",
    "    def __init__(self, name, age):\n",
    "        super().__init__(name, age)\n",
    "\n",
    "class Student(Person):\n",
    "    def __init__(self, name, age, no):\n",
    "        super().__init__(name, age)\n",
    "        self.no = no\n",
    "    \n",
    "s1 = Student('김씨', 20, 's1000')\n",
    "s2 = Student('이씨', 22, 's1001')  # self=s2\n",
    "\n",
    "p1 = Professor('박씨', 40)\n",
    "\n",
    "print(s1)\n",
    "print(s2)\n",
    "print(p1)"
   ]
  },
  {
   "cell_type": "code",
   "execution_count": 5,
   "id": "2dc2b367",
   "metadata": {},
   "outputs": [
    {
     "name": "stdout",
     "output_type": "stream",
     "text": [
      "<__main__.Student object at 0x0000024A5B099CD0>\n",
      "<__main__.Student object at 0x0000024A5B099760>\n",
      "<__main__.Professor object at 0x0000024A5B099880>\n"
     ]
    }
   ],
   "source": [
    "class Person:\n",
    "    def __init__(self, name, age):\n",
    "        self.name = name\n",
    "        self.age = age\n",
    "        \n",
    "class Professor(Person):\n",
    "    pass\n",
    "\n",
    "class Student(Person):\n",
    "    def __init__(self, name, age, no):\n",
    "        super().__init__(name, age)\n",
    "        self.no = no\n",
    "    \n",
    "s1 = Student('김씨', 20, 's1000')\n",
    "s2 = Student('이씨', 22, 's1001')  # self=s2\n",
    "\n",
    "p1 = Professor('박씨', 40)\n",
    "\n",
    "print(s1)\n",
    "print(s2)\n",
    "print(p1)"
   ]
  },
  {
   "cell_type": "code",
   "execution_count": 7,
   "id": "dd14b4b0",
   "metadata": {},
   "outputs": [
    {
     "name": "stdout",
     "output_type": "stream",
     "text": [
      "김씨\n",
      "이씨\n",
      "박씨\n"
     ]
    }
   ],
   "source": [
    "class Person:\n",
    "    def __init__(self, name, age):\n",
    "        self.name = name\n",
    "        self.age = age\n",
    "    \n",
    "    def __str__(self):\n",
    "        return self.name\n",
    "        \n",
    "class Professor(Person):\n",
    "    pass\n",
    "\n",
    "class Student(Person):\n",
    "    def __init__(self, name, age, no):\n",
    "        super().__init__(name, age)\n",
    "        self.no = no\n",
    "    \n",
    "s1 = Student('김씨', 20, 's1000')\n",
    "s2 = Student('이씨', 22, 's1001')  # self=s2\n",
    "\n",
    "p1 = Professor('박씨', 40)\n",
    "\n",
    "print(s1)\n",
    "print(s2)\n",
    "print(p1)"
   ]
  },
  {
   "cell_type": "code",
   "execution_count": 8,
   "id": "6811a427",
   "metadata": {},
   "outputs": [
    {
     "name": "stdout",
     "output_type": "stream",
     "text": [
      "s1000_김씨\n",
      "s1001_이씨\n",
      "박씨\n"
     ]
    }
   ],
   "source": [
    "class Person:\n",
    "    def __init__(self, name, age):\n",
    "        self.name = name\n",
    "        self.age = age\n",
    "    \n",
    "    def __str__(self):\n",
    "        return self.name\n",
    "        \n",
    "class Professor(Person):\n",
    "    pass\n",
    "\n",
    "class Student(Person):\n",
    "    def __init__(self, name, age, no):\n",
    "        super().__init__(name, age)\n",
    "        self.no = no\n",
    "        \n",
    "    def __str__(self):\n",
    "        return f'{self.no}_{self.name}'\n",
    "    \n",
    "s1 = Student('김씨', 20, 's1000')\n",
    "s2 = Student('이씨', 22, 's1001')  # self=s2\n",
    "\n",
    "p1 = Professor('박씨', 40)\n",
    "\n",
    "print(s1)\n",
    "print(s2)\n",
    "print(p1)"
   ]
  },
  {
   "cell_type": "code",
   "execution_count": 9,
   "id": "8d33cb80",
   "metadata": {},
   "outputs": [
    {
     "name": "stdout",
     "output_type": "stream",
     "text": [
      "s1000_김씨\n",
      "s1001_이씨\n",
      "박씨\n"
     ]
    }
   ],
   "source": [
    "# Person 에 사람 수 추가\n",
    "class Person:\n",
    "    number = 0\n",
    "    def __init__(self, name, age):\n",
    "        self.name = name\n",
    "        self.age = age\n",
    "        Person.number += 1\n",
    "    \n",
    "    def __str__(self):\n",
    "        return self.name\n",
    "        \n",
    "class Professor(Person):\n",
    "    pass\n",
    "\n",
    "class Student(Person):\n",
    "    def __init__(self, name, age, no):\n",
    "        super().__init__(name, age)\n",
    "        self.no = no\n",
    "        \n",
    "    def __str__(self):\n",
    "        return f'{self.no}_{self.name}'\n",
    "    \n",
    "s1 = Student('김씨', 20, 's1000')\n",
    "s2 = Student('이씨', 22, 's1001')  # self=s2\n",
    "\n",
    "p1 = Professor('박씨', 40)\n",
    "\n",
    "print(s1)\n",
    "print(s2)\n",
    "print(p1)"
   ]
  },
  {
   "cell_type": "code",
   "execution_count": 12,
   "id": "e860982a",
   "metadata": {},
   "outputs": [
    {
     "name": "stdout",
     "output_type": "stream",
     "text": [
      "s1000_김씨\n",
      "s1001_이씨\n",
      "박씨\n",
      "3\n",
      "3\n"
     ]
    }
   ],
   "source": [
    "# Person 에 사람 수 추가\n",
    "class Person:\n",
    "    number = 0\n",
    "    def __init__(self, name, age):\n",
    "        self.name = name\n",
    "        self.age = age\n",
    "        Person.number += 1\n",
    "    \n",
    "    def __str__(self):\n",
    "        return self.name\n",
    "    \n",
    "    @classmethod\n",
    "    def getNumber(cls):\n",
    "        return cls.number\n",
    "        \n",
    "class Professor(Person):\n",
    "    pass\n",
    "\n",
    "class Student(Person):\n",
    "    def __init__(self, name, age, no):\n",
    "        super().__init__(name, age)\n",
    "        self.no = no\n",
    "        \n",
    "    def __str__(self):\n",
    "        return f'{self.no}_{self.name}'\n",
    "    \n",
    "s1 = Student('김씨', 20, 's1000')\n",
    "s2 = Student('이씨', 22, 's1001')  # self=s2\n",
    "\n",
    "p1 = Professor('박씨', 40)\n",
    "\n",
    "print(s1)\n",
    "print(s2)\n",
    "print(p1)\n",
    "\n",
    "print(Person.getNumber())\n",
    "print(Student.getNumber())\n",
    "print(s1.getNumber())  # 인스턴스에 없으면 상위로 상위로 상위로 찾아 올라간다"
   ]
  },
  {
   "cell_type": "code",
   "execution_count": 15,
   "id": "81377e2c",
   "metadata": {},
   "outputs": [
    {
     "name": "stdout",
     "output_type": "stream",
     "text": [
      "s1000_김씨\n",
      "s1001_이씨\n",
      "박씨\n",
      "0\n",
      "1\n",
      "1\n",
      "2\n",
      "2\n"
     ]
    }
   ],
   "source": [
    "# Person 에 사람 수 추가\n",
    "class Person:\n",
    "    number = 0\n",
    "    def __init__(self, name, age):\n",
    "        self.name = name\n",
    "        self.age = age\n",
    "        type(self).number += 1\n",
    "    \n",
    "    def __str__(self):\n",
    "        return self.name\n",
    "    \n",
    "    @classmethod\n",
    "    def getNumber(cls):\n",
    "        return cls.number\n",
    "        \n",
    "class Professor(Person):\n",
    "    pass\n",
    "\n",
    "class Student(Person):\n",
    "    def __init__(self, name, age, no):\n",
    "        super().__init__(name, age)\n",
    "        self.no = no\n",
    "        \n",
    "    def __str__(self):\n",
    "        return f'{self.no}_{self.name}'\n",
    "    \n",
    "s1 = Student('김씨', 20, 's1000')\n",
    "s2 = Student('이씨', 22, 's1001')  # self=s2\n",
    "\n",
    "p1 = Professor('박씨', 40)\n",
    "\n",
    "print(s1)\n",
    "print(s2)\n",
    "print(p1)\n",
    "\n",
    "print(Person.getNumber())  # 0\n",
    "print(Professor.getNumber())  # 1\n",
    "print(p1.getNumber())  # 1\n",
    "print(Student.getNumber())  # 2\n",
    "print(s1.getNumber())  # 2"
   ]
  },
  {
   "cell_type": "code",
   "execution_count": null,
   "id": "6abb4b83",
   "metadata": {},
   "outputs": [],
   "source": [
    "# Person 에 사람 수 추가\n",
    "class Person:\n",
    "    number = 0\n",
    "    def __init__(self, name, age):\n",
    "        self.name = name\n",
    "        self.age = age\n",
    "        type(self).number += 1\n",
    "    \n",
    "    def __str__(self):\n",
    "        return self.name\n",
    "    \n",
    "    def __del__(self):\n",
    "        print(\"객체 소멸\")  # 객체를 지울 때 사용하는 메서드\n",
    "    \n",
    "    @classmethod\n",
    "    def getNumber(cls):\n",
    "        return cls.number\n",
    "        \n",
    "class Professor(Person):\n",
    "    pass\n",
    "\n",
    "class Student(Person):\n",
    "    def __init__(self, name, age, no):\n",
    "        super().__init__(name, age)\n",
    "        self.no = no\n",
    "        \n",
    "    def __str__(self):\n",
    "        return f'{self.no}_{self.name}'\n",
    "    \n",
    "s1 = Student('김씨', 20, 's1000')\n",
    "s2 = Student('이씨', 22, 's1001')  # self=s2\n",
    "\n",
    "p1 = Professor('박씨', 40)\n",
    "\n",
    "print(s1)\n",
    "print(s2)\n",
    "print(p1)\n",
    "\n",
    "print(Person.getNumber())  # 0\n",
    "print(Professor.getNumber())  # 1\n",
    "print(p1.getNumber())  # 1\n",
    "print(Student.getNumber())  # 2\n",
    "print(s1.getNumber())  # 2"
   ]
  },
  {
   "cell_type": "code",
   "execution_count": null,
   "id": "ab6d3472",
   "metadata": {},
   "outputs": [],
   "source": []
  },
  {
   "cell_type": "code",
   "execution_count": 8,
   "id": "e0a75419",
   "metadata": {},
   "outputs": [
    {
     "name": "stdout",
     "output_type": "stream",
     "text": [
      "18\n"
     ]
    }
   ],
   "source": [
    "# len, sum, min, max 함수\n",
    "numbers = [2, 5, 7, 10, 6]\n",
    "\n",
    "\n",
    "# 짝수만 더하기\n",
    "def getLen(numbers):\n",
    "    l = 0\n",
    "    for n in numbers:\n",
    "        if n % 2 == 0:\n",
    "            l += n\n",
    "    return l\n",
    "\n",
    "print(getLen(numbers))"
   ]
  },
  {
   "cell_type": "code",
   "execution_count": 2,
   "id": "f93b79b0",
   "metadata": {},
   "outputs": [
    {
     "name": "stdout",
     "output_type": "stream",
     "text": [
      "C\n",
      "97\n",
      "65\n",
      "48\n"
     ]
    }
   ],
   "source": [
    "# chr, ord 활용 -> 문자와 숫자사이의 변경\n",
    "print(chr(ord('A') + 2))\n",
    "print(ord('a'))  # 97\n",
    "print(ord('A'))  # 65\n",
    "print(ord('0'))  # 48"
   ]
  },
  {
   "cell_type": "code",
   "execution_count": 4,
   "id": "c6b376af",
   "metadata": {},
   "outputs": [
    {
     "name": "stdout",
     "output_type": "stream",
     "text": [
      "1\n",
      "2\n",
      "3\n",
      "3\n",
      "4\n",
      "5\n",
      "2\n",
      "5\n",
      "6\n",
      "12\n",
      "5\n",
      "6\n"
     ]
    }
   ],
   "source": [
    "a = [\n",
    "    [1, 2, 3],\n",
    "    [3, 4, 5],\n",
    "    [2, 5, 6],\n",
    "    [12, 5, 6]\n",
    "]\n",
    "\n",
    "# 모든 줄 출력\n",
    "for r in range(4):\n",
    "    for c in range(3):\n",
    "        print(a[r][c])"
   ]
  },
  {
   "cell_type": "code",
   "execution_count": 20,
   "id": "681056a4",
   "metadata": {},
   "outputs": [
    {
     "name": "stdout",
     "output_type": "stream",
     "text": [
      "sum = 6\n",
      "sum = 12\n",
      "sum = 13\n",
      "sum = 23\n",
      "23\n"
     ]
    }
   ],
   "source": [
    "a = [\n",
    "    [1, 2, 3],\n",
    "    [3, 4, 5],\n",
    "    [2, 5, 6],\n",
    "    [12, 5, 6]\n",
    "]\n",
    "\n",
    "# 한 줄씩 합 구하기\n",
    "cur_max = 0\n",
    "for r in range(4):\n",
    "    s = 0\n",
    "    for c in range(3):\n",
    "        #print(a[r][c])\n",
    "        s = s + a[r][c]\n",
    "    \n",
    "    print('sum =', s)\n",
    "    if cur_max < s:\n",
    "        cur_max = s\n",
    "print(cur_max)"
   ]
  },
  {
   "cell_type": "code",
   "execution_count": 27,
   "id": "bf98625b",
   "metadata": {},
   "outputs": [
    {
     "name": "stdout",
     "output_type": "stream",
     "text": [
      "(1, 1)\n"
     ]
    }
   ],
   "source": [
    "# 4의 위치 찾기\n",
    "def getFour(numbers):\n",
    "    for r in range(row):\n",
    "        for c in range(col):\n",
    "            if numbers[r][c] == 4:\n",
    "                return r, c\n",
    "\n",
    "a = [\n",
    "    [1, 2, 3],\n",
    "    [3, 4, 5],\n",
    "    [2, 5, 6],\n",
    "    [12, 5, 6]\n",
    "]\n",
    "\n",
    "row = 4\n",
    "col = 3\n",
    "print(getFour(a))"
   ]
  },
  {
   "cell_type": "code",
   "execution_count": 29,
   "id": "918714ba",
   "metadata": {},
   "outputs": [
    {
     "name": "stdout",
     "output_type": "stream",
     "text": [
      "1\n",
      "3\n",
      "2\n",
      "12\n",
      "2\n",
      "4\n",
      "5\n",
      "5\n",
      "3\n",
      "5\n",
      "6\n",
      "6\n"
     ]
    }
   ],
   "source": [
    "# 세로로 찾기??\n",
    "\n",
    "a = [\n",
    "    [1, 2, 3],\n",
    "    [3, 4, 5],\n",
    "    [2, 5, 6],\n",
    "    [12, 5, 6]\n",
    "]\n",
    "\n",
    "col = 3\n",
    "row = 4\n",
    "\n",
    "for c in range(col):\n",
    "    for r in range(row):\n",
    "        print(a[r][c])\n",
    "        "
   ]
  },
  {
   "cell_type": "code",
   "execution_count": 43,
   "id": "1345e045",
   "metadata": {},
   "outputs": [
    {
     "ename": "NameError",
     "evalue": "name 'cur_cor' is not defined",
     "output_type": "error",
     "traceback": [
      "\u001b[1;31m---------------------------------------------------------------------------\u001b[0m",
      "\u001b[1;31mNameError\u001b[0m                                 Traceback (most recent call last)",
      "Cell \u001b[1;32mIn[43], line 21\u001b[0m\n\u001b[0;32m     19\u001b[0m \u001b[38;5;28;01mfor\u001b[39;00m i \u001b[38;5;129;01min\u001b[39;00m \u001b[38;5;28mrange\u001b[39m(\u001b[38;5;241m2\u001b[39m):\n\u001b[0;32m     20\u001b[0m     cur_col \u001b[38;5;241m+\u001b[39m\u001b[38;5;241m=\u001b[39m \u001b[38;5;241m1\u001b[39m\n\u001b[1;32m---> 21\u001b[0m     \u001b[38;5;28;01mif\u001b[39;00m \u001b[43mcur_cor\u001b[49m \u001b[38;5;241m>\u001b[39m \u001b[38;5;241m3\u001b[39m:  \u001b[38;5;66;03m# 더 이상 갈 수 없으면\u001b[39;00m\n\u001b[0;32m     22\u001b[0m         \u001b[38;5;28;01mbreak\u001b[39;00m\n",
      "\u001b[1;31mNameError\u001b[0m: name 'cur_cor' is not defined"
     ]
    }
   ],
   "source": [
    "def getFour(numbers):\n",
    "    for r in range(row):\n",
    "        for c in range(col):\n",
    "            if numbers[r][c] == 4:\n",
    "                return r, c\n",
    "\n",
    "\n",
    "a = [\n",
    "    [1, 2, 3],\n",
    "    [3, 4, 5],\n",
    "    [2, 5, 6],\n",
    "    [12, 5, 14]\n",
    "]\n",
    "\n",
    "row = 4\n",
    "col = 3\n",
    "cur_row, cur_col = getFour(a)\n",
    "\n",
    "for i in range(2):\n",
    "    cur_col += 1\n",
    "    if cur_cor > 3:  # 더 이상 갈 수 없으면\n",
    "        break"
   ]
  },
  {
   "cell_type": "code",
   "execution_count": 32,
   "id": "db7cf1fb",
   "metadata": {},
   "outputs": [
    {
     "name": "stdout",
     "output_type": "stream",
     "text": [
      "3 4 5\n",
      "['3', '4', '5'] <class 'list'>\n"
     ]
    }
   ],
   "source": [
    "i = input().split()\n",
    "print(i, type(i))"
   ]
  },
  {
   "cell_type": "code",
   "execution_count": 34,
   "id": "176773f8",
   "metadata": {},
   "outputs": [
    {
     "name": "stdout",
     "output_type": "stream",
     "text": [
      "3 4 5\n",
      "<map object at 0x00000213F4A3B2E0> <class 'map'>\n"
     ]
    }
   ],
   "source": [
    "i = map(int, input().split())\n",
    "print(i, type(i))"
   ]
  },
  {
   "cell_type": "code",
   "execution_count": 35,
   "id": "dc933621",
   "metadata": {},
   "outputs": [
    {
     "name": "stdout",
     "output_type": "stream",
     "text": [
      "3 4 5\n",
      "[3, 4, 5] <class 'list'>\n"
     ]
    }
   ],
   "source": [
    "i = list(map(int, input().split()))\n",
    "print(i, type(i))"
   ]
  },
  {
   "cell_type": "code",
   "execution_count": 36,
   "id": "7230809f",
   "metadata": {},
   "outputs": [
    {
     "name": "stdout",
     "output_type": "stream",
     "text": [
      "3 4 5\n",
      "2 3 4\n",
      "1 2 3\n",
      "4 5 6\n",
      "[[3, 4, 5], [2, 3, 4], [1, 2, 3], [4, 5, 6]]\n"
     ]
    }
   ],
   "source": [
    "r = []\n",
    "for _ in range(4):\n",
    "    i = list(map(int, input().split()))\n",
    "    r.append(i)\n",
    "\n",
    "print(r)"
   ]
  },
  {
   "cell_type": "code",
   "execution_count": 39,
   "id": "ad1df4e0",
   "metadata": {},
   "outputs": [
    {
     "name": "stdout",
     "output_type": "stream",
     "text": [
      "3 4 5\n",
      "2 3 4\n",
      "1 2 3\n",
      "4 5 6\n",
      "[[3, 4, 5], [2, 3, 4], [1, 2, 3], [4, 5, 6]]\n"
     ]
    }
   ],
   "source": [
    "r = [list(map(int, input().split())) for _ in range(4)]\n",
    "print(r)"
   ]
  },
  {
   "cell_type": "code",
   "execution_count": 45,
   "id": "9c302410",
   "metadata": {},
   "outputs": [
    {
     "name": "stdout",
     "output_type": "stream",
     "text": [
      "[1, 1, 1]\n",
      "[[1, 1, 1], [1, 1, 1], [1, 1, 1], [1, 1, 1]]\n",
      "[[1, 100, 1], [1, 100, 1], [1, 100, 1], [1, 100, 1]]\n",
      "[[1, 1, 1], [1, 1, 1], [1, 1, 1], [1, 1, 1]]\n",
      "[[1, 100, 1], [1, 1, 1], [1, 1, 1], [1, 1, 1]]\n"
     ]
    }
   ],
   "source": [
    "# 주의할 점\n",
    "# s = [1, 1, 1]\n",
    "s = [1] * 3\n",
    "print(s)\n",
    "\n",
    "s = [[1] * 3] * 4\n",
    "print(s)\n",
    "\n",
    "s[0][1] = 100\n",
    "print(s)\n",
    "\n",
    "\n",
    "s = [[1] * 3 for _ in range(4)]\n",
    "print(s)\n",
    "\n",
    "s[0][1] = 100\n",
    "print(s)"
   ]
  },
  {
   "cell_type": "code",
   "execution_count": null,
   "id": "52cbadbd",
   "metadata": {},
   "outputs": [],
   "source": []
  },
  {
   "cell_type": "code",
   "execution_count": null,
   "id": "3cbb685b",
   "metadata": {},
   "outputs": [],
   "source": []
  },
  {
   "cell_type": "code",
   "execution_count": null,
   "id": "bd49232d",
   "metadata": {},
   "outputs": [],
   "source": []
  }
 ],
 "metadata": {
  "kernelspec": {
   "display_name": "Python 3 (ipykernel)",
   "language": "python",
   "name": "python3"
  },
  "language_info": {
   "codemirror_mode": {
    "name": "ipython",
    "version": 3
   },
   "file_extension": ".py",
   "mimetype": "text/x-python",
   "name": "python",
   "nbconvert_exporter": "python",
   "pygments_lexer": "ipython3",
   "version": "3.9.13"
  }
 },
 "nbformat": 4,
 "nbformat_minor": 5
}
