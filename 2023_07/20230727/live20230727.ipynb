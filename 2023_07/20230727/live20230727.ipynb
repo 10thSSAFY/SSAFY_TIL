{
 "cells": [
  {
   "cell_type": "code",
   "execution_count": 1,
   "id": "396a9140",
   "metadata": {},
   "outputs": [
    {
     "name": "stdout",
     "output_type": "stream",
     "text": [
      "안녕, 박교수입니다.\n",
      "안녕, 김학생입니다.\n"
     ]
    }
   ],
   "source": [
    "class Person:\n",
    "    def __init__(self, name, age):\n",
    "        self.name = name\n",
    "        self.age = age\n",
    "    \n",
    "    def talk(self):\n",
    "        print(f'안녕, {self.name}입니다.')\n",
    "        \n",
    "\n",
    "class Professor(Person):\n",
    "    def __init__(self, name, age, department):\n",
    "        self.name = name\n",
    "        self.age = age\n",
    "        self.department = department\n",
    "    \n",
    "\n",
    "class Student(Person):\n",
    "    def __init__(self, name, age, gpa):\n",
    "        self.name = name\n",
    "        self.age = age\n",
    "        self.gpa = gpa\n",
    "        \n",
    "\n",
    "p1 = Professor('박교수', 49, '컴공')\n",
    "s1 = Student('김학생', 20, 3.5)\n",
    "\n",
    "p1.talk()\n",
    "s1.talk()"
   ]
  },
  {
   "cell_type": "code",
   "execution_count": 4,
   "id": "3415133a",
   "metadata": {},
   "outputs": [
    {
     "ename": "TypeError",
     "evalue": "__init__() missing 1 required positional argument: 'age'",
     "output_type": "error",
     "traceback": [
      "\u001b[1;31m---------------------------------------------------------------------------\u001b[0m",
      "\u001b[1;31mTypeError\u001b[0m                                 Traceback (most recent call last)",
      "Cell \u001b[1;32mIn[4], line 22\u001b[0m\n\u001b[0;32m     18\u001b[0m         Person\u001b[38;5;241m.\u001b[39m\u001b[38;5;21m__init__\u001b[39m(name, age)\n\u001b[0;32m     19\u001b[0m         \u001b[38;5;28mself\u001b[39m\u001b[38;5;241m.\u001b[39mgpa \u001b[38;5;241m=\u001b[39m gpa\n\u001b[1;32m---> 22\u001b[0m p1 \u001b[38;5;241m=\u001b[39m \u001b[43mProfessor\u001b[49m\u001b[43m(\u001b[49m\u001b[38;5;124;43m'\u001b[39;49m\u001b[38;5;124;43m박교수\u001b[39;49m\u001b[38;5;124;43m'\u001b[39;49m\u001b[43m,\u001b[49m\u001b[43m \u001b[49m\u001b[38;5;241;43m49\u001b[39;49m\u001b[43m,\u001b[49m\u001b[43m \u001b[49m\u001b[38;5;124;43m'\u001b[39;49m\u001b[38;5;124;43m컴공\u001b[39;49m\u001b[38;5;124;43m'\u001b[39;49m\u001b[43m)\u001b[49m\n\u001b[0;32m     23\u001b[0m s1 \u001b[38;5;241m=\u001b[39m Student(\u001b[38;5;124m'\u001b[39m\u001b[38;5;124m김학생\u001b[39m\u001b[38;5;124m'\u001b[39m, \u001b[38;5;241m20\u001b[39m, \u001b[38;5;241m3.5\u001b[39m)\n\u001b[0;32m     25\u001b[0m p1\u001b[38;5;241m.\u001b[39mtalk()\n",
      "Cell \u001b[1;32mIn[4], line 12\u001b[0m, in \u001b[0;36mProfessor.__init__\u001b[1;34m(self, name, age, department)\u001b[0m\n\u001b[0;32m     11\u001b[0m \u001b[38;5;28;01mdef\u001b[39;00m \u001b[38;5;21m__init__\u001b[39m(\u001b[38;5;28mself\u001b[39m, name, age, department):\n\u001b[1;32m---> 12\u001b[0m     \u001b[43mPerson\u001b[49m\u001b[38;5;241;43m.\u001b[39;49m\u001b[38;5;21;43m__init__\u001b[39;49m\u001b[43m(\u001b[49m\u001b[43mname\u001b[49m\u001b[43m,\u001b[49m\u001b[43m \u001b[49m\u001b[43mage\u001b[49m\u001b[43m)\u001b[49m\n\u001b[0;32m     13\u001b[0m     \u001b[38;5;28mself\u001b[39m\u001b[38;5;241m.\u001b[39mdepartment \u001b[38;5;241m=\u001b[39m department\n",
      "\u001b[1;31mTypeError\u001b[0m: __init__() missing 1 required positional argument: 'age'"
     ]
    }
   ],
   "source": [
    "class Person:\n",
    "    def __init__(self, name, age):\n",
    "        self.name = name\n",
    "        self.age = age\n",
    "    \n",
    "    def talk(self):\n",
    "        print(f'안녕, {self.name}입니다.')\n",
    "        \n",
    "\n",
    "class Professor(Person):\n",
    "    def __init__(self, name, age, department):\n",
    "        Person.__init__(name, age)\n",
    "        self.department = department\n",
    "    \n",
    "\n",
    "class Student(Person):\n",
    "    def __init__(self, name, age, gpa):\n",
    "        Person.__init__(name, age)\n",
    "        self.gpa = gpa\n",
    "        \n",
    "\n",
    "p1 = Professor('박교수', 49, '컴공')\n",
    "s1 = Student('김학생', 20, 3.5)\n",
    "\n",
    "p1.talk()\n",
    "s1.talk()"
   ]
  },
  {
   "cell_type": "code",
   "execution_count": 3,
   "id": "8179201c",
   "metadata": {},
   "outputs": [
    {
     "name": "stdout",
     "output_type": "stream",
     "text": [
      "안녕, 박교수입니다.\n",
      "안녕, 김학생입니다.\n"
     ]
    }
   ],
   "source": [
    "class Person:\n",
    "    def __init__(self, name, age):\n",
    "        self.name = name\n",
    "        self.age = age\n",
    "    \n",
    "    def talk(self):\n",
    "        print(f'안녕, {self.name}입니다.')\n",
    "        \n",
    "\n",
    "class Professor(Person):\n",
    "    def __init__(self, name, age, department):\n",
    "        Person.__init__(self, name, age)\n",
    "        self.department = department\n",
    "    \n",
    "\n",
    "class Student(Person):\n",
    "    def __init__(self, name, age, gpa):\n",
    "        Person.__init__(self, name, age)\n",
    "        self.gpa = gpa\n",
    "        \n",
    "\n",
    "p1 = Professor('박교수', 49, '컴공')\n",
    "s1 = Student('김학생', 20, 3.5)\n",
    "\n",
    "p1.talk()\n",
    "s1.talk()"
   ]
  },
  {
   "cell_type": "code",
   "execution_count": 6,
   "id": "d7d0dd54",
   "metadata": {},
   "outputs": [
    {
     "name": "stdout",
     "output_type": "stream",
     "text": [
      "안녕, 박교수입니다.\n",
      "안녕, 김학생입니다.\n"
     ]
    }
   ],
   "source": [
    "class Person:\n",
    "    def __init__(self, name, age):\n",
    "        self.name = name\n",
    "        self.age = age\n",
    "    \n",
    "    def talk(self):\n",
    "        print(f'안녕, {self.name}입니다.')\n",
    "        \n",
    "\n",
    "class Professor(Person):\n",
    "    def __init__(self, name, age, department):\n",
    "        # Person.__init__(self, name, age)\n",
    "        super().__init__(name, age)  # self도 지워짐 & 다중상속 시 유용함\n",
    "        self.department = department\n",
    "    \n",
    "\n",
    "class Student(Person):\n",
    "    def __init__(self, name, age, gpa):\n",
    "        # Person.__init__(self, name, age)\n",
    "        super().__init__(name, age)\n",
    "        self.gpa = gpa\n",
    "        \n",
    "\n",
    "p1 = Professor('박교수', 49, '컴공')\n",
    "s1 = Student('김학생', 20, 3.5)\n",
    "\n",
    "p1.talk()\n",
    "s1.talk()"
   ]
  },
  {
   "cell_type": "code",
   "execution_count": null,
   "id": "6dda318e",
   "metadata": {},
   "outputs": [],
   "source": []
  },
  {
   "cell_type": "code",
   "execution_count": 14,
   "id": "ac211f69",
   "metadata": {},
   "outputs": [
    {
     "name": "stdout",
     "output_type": "stream",
     "text": [
      "첫째가 응애\n",
      "첫째가 수영\n",
      "아빠가 걷기\n",
      "XY\n"
     ]
    }
   ],
   "source": [
    "class Person:\n",
    "    def __init__(self, name):\n",
    "        self.name = name\n",
    "    \n",
    "    def greeting(self):\n",
    "        return f'안녕, {self.name}'\n",
    "        \n",
    "\n",
    "class Mom(Person):\n",
    "    gene = 'XX'\n",
    "    \n",
    "    def swim(self):\n",
    "        return '엄마가 수영'\n",
    "\n",
    "    \n",
    "class Dad(Person):\n",
    "    gene = 'XY'\n",
    "    \n",
    "    def walk(self):\n",
    "        return '아빠가 걷기'\n",
    "\n",
    "\n",
    "class FirstChild(Dad, Mom):\n",
    "    def swim(self):  # Mom이 가지고 있던걸 재정의\n",
    "        return '첫째가 수영'\n",
    "    \n",
    "    def cry(self):  # 새롭게 생성\n",
    "        return '첫째가 응애'\n",
    "\n",
    "baby1 = FirstChild('아가') # Person 클래스에서 name을 받는다.\n",
    "print(baby1.cry())  # 첫째가 응애\n",
    "print(baby1.swim())  # 첫째가 수영\n",
    "print(baby1.walk())  # 아빠가 걷기\n",
    "print(baby1.gene)  # Dad와 Mom에게 모두 존재, 순서상 Dad에서 먼저 찾아서 'XY'를 가져옴"
   ]
  },
  {
   "cell_type": "code",
   "execution_count": 16,
   "id": "966b0ccf",
   "metadata": {},
   "outputs": [
    {
     "name": "stdout",
     "output_type": "stream",
     "text": [
      "첫째가 응애\n",
      "첫째가 수영\n",
      "아빠가 걷기\n",
      "XY\n",
      "XX\n"
     ]
    }
   ],
   "source": [
    "class Person:\n",
    "    gene = 'XYZ'  # 신 인류 유전자, 현재 코드 상에선 의미 없다.\n",
    "    \n",
    "    def __init__(self, name):\n",
    "        self.name = name\n",
    "    \n",
    "    def greeting(self):\n",
    "        return f'안녕, {self.name}'\n",
    "        \n",
    "\n",
    "class Mom(Person):\n",
    "    gene = 'XX'\n",
    "    \n",
    "    def __init__(self, name):  # 스타일 가이드 상 작성이 권장된다.\n",
    "        super().__init__(name)\n",
    "    \n",
    "    def swim(self):\n",
    "        return '엄마가 수영'\n",
    "\n",
    "    \n",
    "class Dad(Person):\n",
    "    gene = 'XY'\n",
    "    \n",
    "    def __init__(self, name):\n",
    "        super().__init__(name)\n",
    "    \n",
    "    def walk(self):\n",
    "        return '아빠가 걷기'\n",
    "\n",
    "\n",
    "class FirstChild(Dad, Mom):\n",
    "    dad_gene = Dad.gene\n",
    "    mom_gene = Mom.gene  # Mom의 유전자 정보를 꼭 써야 할 경우..\n",
    "    \n",
    "    def __init__(self, name):\n",
    "        super().__init__(name)\n",
    "    \n",
    "    def swim(self):\n",
    "        return '첫째가 수영'\n",
    "    \n",
    "    def cry(self):\n",
    "        return '첫째가 응애'\n",
    "    \n",
    "    \n",
    "baby1 = FirstChild('아가')\n",
    "print(baby1.cry())\n",
    "print(baby1.swim())\n",
    "print(baby1.walk())\n",
    "print(baby1.gene)  # XY\n",
    "print(baby1.mom_gene)  # XX"
   ]
  },
  {
   "cell_type": "code",
   "execution_count": 17,
   "id": "d0194127",
   "metadata": {},
   "outputs": [
    {
     "name": "stdout",
     "output_type": "stream",
     "text": [
      "첫째가 응애\n",
      "첫째가 수영\n",
      "아빠가 걷기\n",
      "XY\n",
      "[<class '__main__.FirstChild'>, <class '__main__.Dad'>, <class '__main__.Mom'>, <class '__main__.Person'>, <class 'object'>]\n"
     ]
    }
   ],
   "source": [
    "class Person:\n",
    "    gene = 'XYZ'\n",
    "    \n",
    "    def __init__(self, name):\n",
    "        self.name = name\n",
    "    \n",
    "    def greeting(self):\n",
    "        return f'안녕, {self.name}'\n",
    "        \n",
    "\n",
    "class Mom(Person):\n",
    "    gene = 'XX'\n",
    "    \n",
    "    def __init__(self, name):\n",
    "        super().__init__(name)\n",
    "    \n",
    "    def swim(self):\n",
    "        return '엄마가 수영'\n",
    "\n",
    "    \n",
    "class Dad(Person):\n",
    "    gene = 'XY'\n",
    "    \n",
    "    def __init__(self, name):\n",
    "        super().__init__(name)\n",
    "    \n",
    "    def walk(self):\n",
    "        return '아빠가 걷기'\n",
    "\n",
    "\n",
    "class FirstChild(Dad, Mom):\n",
    "    dad_gene = Dad.gene\n",
    "    mom_gene = Mom.gene\n",
    "    \n",
    "    def __init__(self, name):\n",
    "        super().__init__(name)\n",
    "    \n",
    "    def swim(self):\n",
    "        return '첫째가 수영'\n",
    "    \n",
    "    def cry(self):\n",
    "        return '첫째가 응애'\n",
    "    \n",
    "    \n",
    "baby1 = FirstChild('아가')\n",
    "print(baby1.cry())\n",
    "print(baby1.swim())\n",
    "print(baby1.walk())\n",
    "print(baby1.gene)\n",
    "\n",
    "print(FirstChild.mro())  # FistChild -> Dad -> Mom -> Person\n",
    "# print(baby1.mom_gene)  # XX"
   ]
  },
  {
   "cell_type": "code",
   "execution_count": 21,
   "id": "ce549361",
   "metadata": {},
   "outputs": [
    {
     "ename": "TypeError",
     "evalue": "__init__() missing 1 required positional argument: 'age'",
     "output_type": "error",
     "traceback": [
      "\u001b[1;31m---------------------------------------------------------------------------\u001b[0m",
      "\u001b[1;31mTypeError\u001b[0m                                 Traceback (most recent call last)",
      "Cell \u001b[1;32mIn[21], line 47\u001b[0m\n\u001b[0;32m     43\u001b[0m     \u001b[38;5;28;01mdef\u001b[39;00m \u001b[38;5;21mcry\u001b[39m(\u001b[38;5;28mself\u001b[39m):\n\u001b[0;32m     44\u001b[0m         \u001b[38;5;28;01mreturn\u001b[39;00m \u001b[38;5;124m'\u001b[39m\u001b[38;5;124m첫째가 응애\u001b[39m\u001b[38;5;124m'\u001b[39m\n\u001b[1;32m---> 47\u001b[0m baby1 \u001b[38;5;241m=\u001b[39m \u001b[43mFirstChild\u001b[49m\u001b[43m(\u001b[49m\u001b[38;5;124;43m'\u001b[39;49m\u001b[38;5;124;43m아가\u001b[39;49m\u001b[38;5;124;43m'\u001b[39;49m\u001b[43m)\u001b[49m\n\u001b[0;32m     48\u001b[0m \u001b[38;5;28mprint\u001b[39m(baby1\u001b[38;5;241m.\u001b[39mcry())\n\u001b[0;32m     49\u001b[0m \u001b[38;5;28mprint\u001b[39m(baby1\u001b[38;5;241m.\u001b[39mswim())\n",
      "\u001b[1;31mTypeError\u001b[0m: __init__() missing 1 required positional argument: 'age'"
     ]
    }
   ],
   "source": [
    "class Person:\n",
    "    gene = 'XYZ'\n",
    "    \n",
    "    def __init__(self, name):\n",
    "        self.name = name\n",
    "    \n",
    "    def greeting(self):\n",
    "        return f'안녕, {self.name}'\n",
    "        \n",
    "\n",
    "class Mom(Person):\n",
    "    gene = 'XX'\n",
    "    \n",
    "    def __init__(self, name, age):  # 만약에 Mom에게만 age가 존재한다면\n",
    "        super().__init__(name)\n",
    "    \n",
    "    def swim(self):\n",
    "        return '엄마가 수영'\n",
    "\n",
    "    \n",
    "class Dad(Person):\n",
    "    gene = 'XY'\n",
    "    \n",
    "    def __init__(self, nam):\n",
    "        super().__init__(name)\n",
    "        self.age = age\n",
    "    \n",
    "    def walk(self):\n",
    "        return '아빠가 걷기'\n",
    "\n",
    "\n",
    "class FirstChild(Dad, Mom):\n",
    "    dad_gene = Dad.gene\n",
    "    mom_gene = Mom.gene\n",
    "    \n",
    "    def __init__(self, name, age):\n",
    "        # super().__init__(name)\n",
    "        Mom.__init__(self, name, age)\n",
    "    \n",
    "    def swim(self):\n",
    "        return '첫째가 수영'\n",
    "    \n",
    "    def cry(self):\n",
    "        return '첫째가 응애'\n",
    "    \n",
    "    \n",
    "baby1 = FirstChild('아가')\n",
    "print(baby1.cry())\n",
    "print(baby1.swim())\n",
    "print(baby1.walk())\n",
    "print(baby1.gene)\n",
    "\n",
    "print(FirstChild.mro())\n",
    "# print(baby1.mom_gene)  # XX"
   ]
  },
  {
   "cell_type": "markdown",
   "id": "d52b8215",
   "metadata": {},
   "source": [
    "# 예외"
   ]
  },
  {
   "cell_type": "code",
   "execution_count": 1,
   "id": "dbde77a9",
   "metadata": {},
   "outputs": [
    {
     "name": "stdout",
     "output_type": "stream",
     "text": [
      "100으로 나눌 값을 입력해: -1\n",
      "-100.0\n"
     ]
    }
   ],
   "source": [
    "try:\n",
    "    num = int(input('100으로 나눌 값을 입력해: '))\n",
    "    print(100 / num)\n",
    "except ValueError:\n",
    "    print('X친놈아 숫자 쳐넣어라')\n",
    "except ZeroDivisionError:\n",
    "    print('우리 할머니도 숫자는 0으론 안나눈다')\n",
    "except:\n",
    "    print('넌 진짜 상상치도 못한 존재다.. 살아있어줘서 고마워 넌 소중한 존재야.. 행복하게 살아라..')"
   ]
  },
  {
   "cell_type": "code",
   "execution_count": 3,
   "id": "5924384c",
   "metadata": {},
   "outputs": [
    {
     "name": "stdout",
     "output_type": "stream",
     "text": [
      "100으로 나눌 값을 입력해: 0\n",
      "숫자를 입력하라고!\n"
     ]
    }
   ],
   "source": [
    "try:\n",
    "    num = int(input('100으로 나눌 값을 입력해: '))\n",
    "    print(100 / num)\n",
    "except BaseException:\n",
    "    print('숫자를 입력하라고!')\n",
    "except ZeroDivisionError:\n",
    "    print('왜 0을 입력하는거야??')\n",
    "except:\n",
    "    print('나 너 싫어')"
   ]
  }
 ],
 "metadata": {
  "kernelspec": {
   "display_name": "Python 3 (ipykernel)",
   "language": "python",
   "name": "python3"
  },
  "language_info": {
   "codemirror_mode": {
    "name": "ipython",
    "version": 3
   },
   "file_extension": ".py",
   "mimetype": "text/x-python",
   "name": "python",
   "nbconvert_exporter": "python",
   "pygments_lexer": "ipython3",
   "version": "3.9.13"
  }
 },
 "nbformat": 4,
 "nbformat_minor": 5
}
